{
  "cells": [
    {
      "cell_type": "code",
      "execution_count": null,
      "metadata": {
        "id": "gcXNmWUUuqP1"
      },
      "outputs": [],
      "source": [
        "import pandas as pd\n",
        "import numpy as np\n",
        "import matplotlib\n",
        "from matplotlib import pyplot as plt\n",
        "matplotlib.style.use('ggplot')\n",
        "%matplotlib inline"
      ]
    },
    {
      "cell_type": "code",
      "source": [
        "import warnings\n",
        "warnings.filterwarnings('ignore')"
      ],
      "metadata": {
        "id": "x1pGVrW5x7pq"
      },
      "execution_count": null,
      "outputs": []
    },
    {
      "cell_type": "code",
      "execution_count": null,
      "metadata": {
        "id": "RXCN0DPxuqP8",
        "colab": {
          "base_uri": "https://localhost:8080/"
        },
        "outputId": "7eff91e0-59eb-4b1c-e595-16bec77fe1e0"
      },
      "outputs": [
        {
          "output_type": "execute_result",
          "data": {
            "text/plain": [
              "(6000, 39)"
            ]
          },
          "metadata": {},
          "execution_count": 393
        }
      ],
      "source": [
        "data = pd.read_csv('data.csv')\n",
        "data.shape"
      ]
    },
    {
      "cell_type": "code",
      "execution_count": null,
      "metadata": {
        "id": "sdBL9iv_uqP_",
        "colab": {
          "base_uri": "https://localhost:8080/",
          "height": 300
        },
        "outputId": "0738c388-28bc-4070-bcb7-dd6d4d9b92f3"
      },
      "outputs": [
        {
          "output_type": "execute_result",
          "data": {
            "text/plain": [
              "   Grant.Status Sponsor.Code Grant.Category.Code  \\\n",
              "0             1          21A                 50A   \n",
              "1             1           4D                 10A   \n",
              "2             0          NaN                 NaN   \n",
              "3             0          51C                 20C   \n",
              "4             0          24D                 30B   \n",
              "\n",
              "  Contract.Value.Band...see.note.A  RFCD.Code.1  RFCD.Percentage.1  \\\n",
              "0                               A      230202.0               50.0   \n",
              "1                               D      320801.0              100.0   \n",
              "2                              NaN     320602.0               50.0   \n",
              "3                               A      291503.0               60.0   \n",
              "4                              NaN     380107.0              100.0   \n",
              "\n",
              "   RFCD.Code.2  RFCD.Percentage.2  RFCD.Code.3  RFCD.Percentage.3  ...  \\\n",
              "0     230203.0               30.0     230204.0               20.0  ...   \n",
              "1          0.0                0.0          0.0                0.0  ...   \n",
              "2     321004.0               30.0     321015.0               20.0  ...   \n",
              "3     321402.0               40.0          0.0                0.0  ...   \n",
              "4          0.0                0.0          0.0                0.0  ...   \n",
              "\n",
              "   Dept.No..1  Faculty.No..1  With.PHD.1  \\\n",
              "0      3098.0           31.0        Yes    \n",
              "1      2553.0           25.0        Yes    \n",
              "2      2813.0           25.0         NaN   \n",
              "3      2553.0           25.0         NaN   \n",
              "4      2923.0           25.0         NaN   \n",
              "\n",
              "   No..of.Years.in.Uni.at.Time.of.Grant.1  Number.of.Successful.Grant.1  \\\n",
              "0                                >=0 to 5                           2.0   \n",
              "1                                >=0 to 5                           3.0   \n",
              "2                             Less than 0                           1.0   \n",
              "3                            more than 15                           2.0   \n",
              "4                             Less than 0                           0.0   \n",
              "\n",
              "   Number.of.Unsuccessful.Grant.1  A..1  A.1  B.1  C.1  \n",
              "0                             0.0   0.0  4.0  2.0  0.0  \n",
              "1                             1.0   0.0  2.0  0.0  0.0  \n",
              "2                             5.0   0.0  7.0  2.0  0.0  \n",
              "3                             1.0   5.0  6.0  9.0  1.0  \n",
              "4                             2.0   0.0  0.0  0.0  0.0  \n",
              "\n",
              "[5 rows x 39 columns]"
            ],
            "text/html": [
              "\n",
              "  <div id=\"df-7fe2b034-5cf8-4325-ab3b-e07d88269a97\">\n",
              "    <div class=\"colab-df-container\">\n",
              "      <div>\n",
              "<style scoped>\n",
              "    .dataframe tbody tr th:only-of-type {\n",
              "        vertical-align: middle;\n",
              "    }\n",
              "\n",
              "    .dataframe tbody tr th {\n",
              "        vertical-align: top;\n",
              "    }\n",
              "\n",
              "    .dataframe thead th {\n",
              "        text-align: right;\n",
              "    }\n",
              "</style>\n",
              "<table border=\"1\" class=\"dataframe\">\n",
              "  <thead>\n",
              "    <tr style=\"text-align: right;\">\n",
              "      <th></th>\n",
              "      <th>Grant.Status</th>\n",
              "      <th>Sponsor.Code</th>\n",
              "      <th>Grant.Category.Code</th>\n",
              "      <th>Contract.Value.Band...see.note.A</th>\n",
              "      <th>RFCD.Code.1</th>\n",
              "      <th>RFCD.Percentage.1</th>\n",
              "      <th>RFCD.Code.2</th>\n",
              "      <th>RFCD.Percentage.2</th>\n",
              "      <th>RFCD.Code.3</th>\n",
              "      <th>RFCD.Percentage.3</th>\n",
              "      <th>...</th>\n",
              "      <th>Dept.No..1</th>\n",
              "      <th>Faculty.No..1</th>\n",
              "      <th>With.PHD.1</th>\n",
              "      <th>No..of.Years.in.Uni.at.Time.of.Grant.1</th>\n",
              "      <th>Number.of.Successful.Grant.1</th>\n",
              "      <th>Number.of.Unsuccessful.Grant.1</th>\n",
              "      <th>A..1</th>\n",
              "      <th>A.1</th>\n",
              "      <th>B.1</th>\n",
              "      <th>C.1</th>\n",
              "    </tr>\n",
              "  </thead>\n",
              "  <tbody>\n",
              "    <tr>\n",
              "      <th>0</th>\n",
              "      <td>1</td>\n",
              "      <td>21A</td>\n",
              "      <td>50A</td>\n",
              "      <td>A</td>\n",
              "      <td>230202.0</td>\n",
              "      <td>50.0</td>\n",
              "      <td>230203.0</td>\n",
              "      <td>30.0</td>\n",
              "      <td>230204.0</td>\n",
              "      <td>20.0</td>\n",
              "      <td>...</td>\n",
              "      <td>3098.0</td>\n",
              "      <td>31.0</td>\n",
              "      <td>Yes</td>\n",
              "      <td>&gt;=0 to 5</td>\n",
              "      <td>2.0</td>\n",
              "      <td>0.0</td>\n",
              "      <td>0.0</td>\n",
              "      <td>4.0</td>\n",
              "      <td>2.0</td>\n",
              "      <td>0.0</td>\n",
              "    </tr>\n",
              "    <tr>\n",
              "      <th>1</th>\n",
              "      <td>1</td>\n",
              "      <td>4D</td>\n",
              "      <td>10A</td>\n",
              "      <td>D</td>\n",
              "      <td>320801.0</td>\n",
              "      <td>100.0</td>\n",
              "      <td>0.0</td>\n",
              "      <td>0.0</td>\n",
              "      <td>0.0</td>\n",
              "      <td>0.0</td>\n",
              "      <td>...</td>\n",
              "      <td>2553.0</td>\n",
              "      <td>25.0</td>\n",
              "      <td>Yes</td>\n",
              "      <td>&gt;=0 to 5</td>\n",
              "      <td>3.0</td>\n",
              "      <td>1.0</td>\n",
              "      <td>0.0</td>\n",
              "      <td>2.0</td>\n",
              "      <td>0.0</td>\n",
              "      <td>0.0</td>\n",
              "    </tr>\n",
              "    <tr>\n",
              "      <th>2</th>\n",
              "      <td>0</td>\n",
              "      <td>NaN</td>\n",
              "      <td>NaN</td>\n",
              "      <td>NaN</td>\n",
              "      <td>320602.0</td>\n",
              "      <td>50.0</td>\n",
              "      <td>321004.0</td>\n",
              "      <td>30.0</td>\n",
              "      <td>321015.0</td>\n",
              "      <td>20.0</td>\n",
              "      <td>...</td>\n",
              "      <td>2813.0</td>\n",
              "      <td>25.0</td>\n",
              "      <td>NaN</td>\n",
              "      <td>Less than 0</td>\n",
              "      <td>1.0</td>\n",
              "      <td>5.0</td>\n",
              "      <td>0.0</td>\n",
              "      <td>7.0</td>\n",
              "      <td>2.0</td>\n",
              "      <td>0.0</td>\n",
              "    </tr>\n",
              "    <tr>\n",
              "      <th>3</th>\n",
              "      <td>0</td>\n",
              "      <td>51C</td>\n",
              "      <td>20C</td>\n",
              "      <td>A</td>\n",
              "      <td>291503.0</td>\n",
              "      <td>60.0</td>\n",
              "      <td>321402.0</td>\n",
              "      <td>40.0</td>\n",
              "      <td>0.0</td>\n",
              "      <td>0.0</td>\n",
              "      <td>...</td>\n",
              "      <td>2553.0</td>\n",
              "      <td>25.0</td>\n",
              "      <td>NaN</td>\n",
              "      <td>more than 15</td>\n",
              "      <td>2.0</td>\n",
              "      <td>1.0</td>\n",
              "      <td>5.0</td>\n",
              "      <td>6.0</td>\n",
              "      <td>9.0</td>\n",
              "      <td>1.0</td>\n",
              "    </tr>\n",
              "    <tr>\n",
              "      <th>4</th>\n",
              "      <td>0</td>\n",
              "      <td>24D</td>\n",
              "      <td>30B</td>\n",
              "      <td>NaN</td>\n",
              "      <td>380107.0</td>\n",
              "      <td>100.0</td>\n",
              "      <td>0.0</td>\n",
              "      <td>0.0</td>\n",
              "      <td>0.0</td>\n",
              "      <td>0.0</td>\n",
              "      <td>...</td>\n",
              "      <td>2923.0</td>\n",
              "      <td>25.0</td>\n",
              "      <td>NaN</td>\n",
              "      <td>Less than 0</td>\n",
              "      <td>0.0</td>\n",
              "      <td>2.0</td>\n",
              "      <td>0.0</td>\n",
              "      <td>0.0</td>\n",
              "      <td>0.0</td>\n",
              "      <td>0.0</td>\n",
              "    </tr>\n",
              "  </tbody>\n",
              "</table>\n",
              "<p>5 rows × 39 columns</p>\n",
              "</div>\n",
              "      <button class=\"colab-df-convert\" onclick=\"convertToInteractive('df-7fe2b034-5cf8-4325-ab3b-e07d88269a97')\"\n",
              "              title=\"Convert this dataframe to an interactive table.\"\n",
              "              style=\"display:none;\">\n",
              "        \n",
              "  <svg xmlns=\"http://www.w3.org/2000/svg\" height=\"24px\"viewBox=\"0 0 24 24\"\n",
              "       width=\"24px\">\n",
              "    <path d=\"M0 0h24v24H0V0z\" fill=\"none\"/>\n",
              "    <path d=\"M18.56 5.44l.94 2.06.94-2.06 2.06-.94-2.06-.94-.94-2.06-.94 2.06-2.06.94zm-11 1L8.5 8.5l.94-2.06 2.06-.94-2.06-.94L8.5 2.5l-.94 2.06-2.06.94zm10 10l.94 2.06.94-2.06 2.06-.94-2.06-.94-.94-2.06-.94 2.06-2.06.94z\"/><path d=\"M17.41 7.96l-1.37-1.37c-.4-.4-.92-.59-1.43-.59-.52 0-1.04.2-1.43.59L10.3 9.45l-7.72 7.72c-.78.78-.78 2.05 0 2.83L4 21.41c.39.39.9.59 1.41.59.51 0 1.02-.2 1.41-.59l7.78-7.78 2.81-2.81c.8-.78.8-2.07 0-2.86zM5.41 20L4 18.59l7.72-7.72 1.47 1.35L5.41 20z\"/>\n",
              "  </svg>\n",
              "      </button>\n",
              "      \n",
              "  <style>\n",
              "    .colab-df-container {\n",
              "      display:flex;\n",
              "      flex-wrap:wrap;\n",
              "      gap: 12px;\n",
              "    }\n",
              "\n",
              "    .colab-df-convert {\n",
              "      background-color: #E8F0FE;\n",
              "      border: none;\n",
              "      border-radius: 50%;\n",
              "      cursor: pointer;\n",
              "      display: none;\n",
              "      fill: #1967D2;\n",
              "      height: 32px;\n",
              "      padding: 0 0 0 0;\n",
              "      width: 32px;\n",
              "    }\n",
              "\n",
              "    .colab-df-convert:hover {\n",
              "      background-color: #E2EBFA;\n",
              "      box-shadow: 0px 1px 2px rgba(60, 64, 67, 0.3), 0px 1px 3px 1px rgba(60, 64, 67, 0.15);\n",
              "      fill: #174EA6;\n",
              "    }\n",
              "\n",
              "    [theme=dark] .colab-df-convert {\n",
              "      background-color: #3B4455;\n",
              "      fill: #D2E3FC;\n",
              "    }\n",
              "\n",
              "    [theme=dark] .colab-df-convert:hover {\n",
              "      background-color: #434B5C;\n",
              "      box-shadow: 0px 1px 3px 1px rgba(0, 0, 0, 0.15);\n",
              "      filter: drop-shadow(0px 1px 2px rgba(0, 0, 0, 0.3));\n",
              "      fill: #FFFFFF;\n",
              "    }\n",
              "  </style>\n",
              "\n",
              "      <script>\n",
              "        const buttonEl =\n",
              "          document.querySelector('#df-7fe2b034-5cf8-4325-ab3b-e07d88269a97 button.colab-df-convert');\n",
              "        buttonEl.style.display =\n",
              "          google.colab.kernel.accessAllowed ? 'block' : 'none';\n",
              "\n",
              "        async function convertToInteractive(key) {\n",
              "          const element = document.querySelector('#df-7fe2b034-5cf8-4325-ab3b-e07d88269a97');\n",
              "          const dataTable =\n",
              "            await google.colab.kernel.invokeFunction('convertToInteractive',\n",
              "                                                     [key], {});\n",
              "          if (!dataTable) return;\n",
              "\n",
              "          const docLinkHtml = 'Like what you see? Visit the ' +\n",
              "            '<a target=\"_blank\" href=https://colab.research.google.com/notebooks/data_table.ipynb>data table notebook</a>'\n",
              "            + ' to learn more about interactive tables.';\n",
              "          element.innerHTML = '';\n",
              "          dataTable['output_type'] = 'display_data';\n",
              "          await google.colab.output.renderOutput(dataTable, element);\n",
              "          const docLink = document.createElement('div');\n",
              "          docLink.innerHTML = docLinkHtml;\n",
              "          element.appendChild(docLink);\n",
              "        }\n",
              "      </script>\n",
              "    </div>\n",
              "  </div>\n",
              "  "
            ]
          },
          "metadata": {},
          "execution_count": 394
        }
      ],
      "source": [
        "data.head()"
      ]
    },
    {
      "cell_type": "markdown",
      "metadata": {
        "id": "8PntOohCuqQB"
      },
      "source": [
        "Выделим из датасета целевую переменную Grant.Status и обозначим её за y\n",
        "Теперь X обозначает обучающую выборку, y - ответы на ней"
      ]
    },
    {
      "cell_type": "code",
      "execution_count": null,
      "metadata": {
        "id": "-fbGUXYzuqQD"
      },
      "outputs": [],
      "source": [
        "X = data.drop('Grant.Status', 1)\n",
        "y = data['Grant.Status']"
      ]
    },
    {
      "cell_type": "code",
      "execution_count": null,
      "metadata": {
        "id": "BAO6f4a-uqQL",
        "colab": {
          "base_uri": "https://localhost:8080/",
          "height": 300
        },
        "outputId": "7c4f395f-b567-423d-e278-5e90ebb7ec11"
      },
      "outputs": [
        {
          "output_type": "execute_result",
          "data": {
            "text/plain": [
              "   Grant.Status Sponsor.Code Grant.Category.Code  \\\n",
              "0             1          21A                 50A   \n",
              "1             1           4D                 10A   \n",
              "2             0          NaN                 NaN   \n",
              "3             0          51C                 20C   \n",
              "4             0          24D                 30B   \n",
              "\n",
              "  Contract.Value.Band...see.note.A  RFCD.Code.1  RFCD.Percentage.1  \\\n",
              "0                               A      230202.0               50.0   \n",
              "1                               D      320801.0              100.0   \n",
              "2                              NaN     320602.0               50.0   \n",
              "3                               A      291503.0               60.0   \n",
              "4                              NaN     380107.0              100.0   \n",
              "\n",
              "   RFCD.Code.2  RFCD.Percentage.2  RFCD.Code.3  RFCD.Percentage.3  ...  \\\n",
              "0     230203.0               30.0     230204.0               20.0  ...   \n",
              "1          0.0                0.0          0.0                0.0  ...   \n",
              "2     321004.0               30.0     321015.0               20.0  ...   \n",
              "3     321402.0               40.0          0.0                0.0  ...   \n",
              "4          0.0                0.0          0.0                0.0  ...   \n",
              "\n",
              "   Dept.No..1  Faculty.No..1  With.PHD.1  \\\n",
              "0      3098.0           31.0        Yes    \n",
              "1      2553.0           25.0        Yes    \n",
              "2      2813.0           25.0         NaN   \n",
              "3      2553.0           25.0         NaN   \n",
              "4      2923.0           25.0         NaN   \n",
              "\n",
              "   No..of.Years.in.Uni.at.Time.of.Grant.1  Number.of.Successful.Grant.1  \\\n",
              "0                                >=0 to 5                           2.0   \n",
              "1                                >=0 to 5                           3.0   \n",
              "2                             Less than 0                           1.0   \n",
              "3                            more than 15                           2.0   \n",
              "4                             Less than 0                           0.0   \n",
              "\n",
              "   Number.of.Unsuccessful.Grant.1  A..1  A.1  B.1  C.1  \n",
              "0                             0.0   0.0  4.0  2.0  0.0  \n",
              "1                             1.0   0.0  2.0  0.0  0.0  \n",
              "2                             5.0   0.0  7.0  2.0  0.0  \n",
              "3                             1.0   5.0  6.0  9.0  1.0  \n",
              "4                             2.0   0.0  0.0  0.0  0.0  \n",
              "\n",
              "[5 rows x 39 columns]"
            ],
            "text/html": [
              "\n",
              "  <div id=\"df-a710ba7e-6d65-4906-ab5a-a5f1ce29073f\">\n",
              "    <div class=\"colab-df-container\">\n",
              "      <div>\n",
              "<style scoped>\n",
              "    .dataframe tbody tr th:only-of-type {\n",
              "        vertical-align: middle;\n",
              "    }\n",
              "\n",
              "    .dataframe tbody tr th {\n",
              "        vertical-align: top;\n",
              "    }\n",
              "\n",
              "    .dataframe thead th {\n",
              "        text-align: right;\n",
              "    }\n",
              "</style>\n",
              "<table border=\"1\" class=\"dataframe\">\n",
              "  <thead>\n",
              "    <tr style=\"text-align: right;\">\n",
              "      <th></th>\n",
              "      <th>Grant.Status</th>\n",
              "      <th>Sponsor.Code</th>\n",
              "      <th>Grant.Category.Code</th>\n",
              "      <th>Contract.Value.Band...see.note.A</th>\n",
              "      <th>RFCD.Code.1</th>\n",
              "      <th>RFCD.Percentage.1</th>\n",
              "      <th>RFCD.Code.2</th>\n",
              "      <th>RFCD.Percentage.2</th>\n",
              "      <th>RFCD.Code.3</th>\n",
              "      <th>RFCD.Percentage.3</th>\n",
              "      <th>...</th>\n",
              "      <th>Dept.No..1</th>\n",
              "      <th>Faculty.No..1</th>\n",
              "      <th>With.PHD.1</th>\n",
              "      <th>No..of.Years.in.Uni.at.Time.of.Grant.1</th>\n",
              "      <th>Number.of.Successful.Grant.1</th>\n",
              "      <th>Number.of.Unsuccessful.Grant.1</th>\n",
              "      <th>A..1</th>\n",
              "      <th>A.1</th>\n",
              "      <th>B.1</th>\n",
              "      <th>C.1</th>\n",
              "    </tr>\n",
              "  </thead>\n",
              "  <tbody>\n",
              "    <tr>\n",
              "      <th>0</th>\n",
              "      <td>1</td>\n",
              "      <td>21A</td>\n",
              "      <td>50A</td>\n",
              "      <td>A</td>\n",
              "      <td>230202.0</td>\n",
              "      <td>50.0</td>\n",
              "      <td>230203.0</td>\n",
              "      <td>30.0</td>\n",
              "      <td>230204.0</td>\n",
              "      <td>20.0</td>\n",
              "      <td>...</td>\n",
              "      <td>3098.0</td>\n",
              "      <td>31.0</td>\n",
              "      <td>Yes</td>\n",
              "      <td>&gt;=0 to 5</td>\n",
              "      <td>2.0</td>\n",
              "      <td>0.0</td>\n",
              "      <td>0.0</td>\n",
              "      <td>4.0</td>\n",
              "      <td>2.0</td>\n",
              "      <td>0.0</td>\n",
              "    </tr>\n",
              "    <tr>\n",
              "      <th>1</th>\n",
              "      <td>1</td>\n",
              "      <td>4D</td>\n",
              "      <td>10A</td>\n",
              "      <td>D</td>\n",
              "      <td>320801.0</td>\n",
              "      <td>100.0</td>\n",
              "      <td>0.0</td>\n",
              "      <td>0.0</td>\n",
              "      <td>0.0</td>\n",
              "      <td>0.0</td>\n",
              "      <td>...</td>\n",
              "      <td>2553.0</td>\n",
              "      <td>25.0</td>\n",
              "      <td>Yes</td>\n",
              "      <td>&gt;=0 to 5</td>\n",
              "      <td>3.0</td>\n",
              "      <td>1.0</td>\n",
              "      <td>0.0</td>\n",
              "      <td>2.0</td>\n",
              "      <td>0.0</td>\n",
              "      <td>0.0</td>\n",
              "    </tr>\n",
              "    <tr>\n",
              "      <th>2</th>\n",
              "      <td>0</td>\n",
              "      <td>NaN</td>\n",
              "      <td>NaN</td>\n",
              "      <td>NaN</td>\n",
              "      <td>320602.0</td>\n",
              "      <td>50.0</td>\n",
              "      <td>321004.0</td>\n",
              "      <td>30.0</td>\n",
              "      <td>321015.0</td>\n",
              "      <td>20.0</td>\n",
              "      <td>...</td>\n",
              "      <td>2813.0</td>\n",
              "      <td>25.0</td>\n",
              "      <td>NaN</td>\n",
              "      <td>Less than 0</td>\n",
              "      <td>1.0</td>\n",
              "      <td>5.0</td>\n",
              "      <td>0.0</td>\n",
              "      <td>7.0</td>\n",
              "      <td>2.0</td>\n",
              "      <td>0.0</td>\n",
              "    </tr>\n",
              "    <tr>\n",
              "      <th>3</th>\n",
              "      <td>0</td>\n",
              "      <td>51C</td>\n",
              "      <td>20C</td>\n",
              "      <td>A</td>\n",
              "      <td>291503.0</td>\n",
              "      <td>60.0</td>\n",
              "      <td>321402.0</td>\n",
              "      <td>40.0</td>\n",
              "      <td>0.0</td>\n",
              "      <td>0.0</td>\n",
              "      <td>...</td>\n",
              "      <td>2553.0</td>\n",
              "      <td>25.0</td>\n",
              "      <td>NaN</td>\n",
              "      <td>more than 15</td>\n",
              "      <td>2.0</td>\n",
              "      <td>1.0</td>\n",
              "      <td>5.0</td>\n",
              "      <td>6.0</td>\n",
              "      <td>9.0</td>\n",
              "      <td>1.0</td>\n",
              "    </tr>\n",
              "    <tr>\n",
              "      <th>4</th>\n",
              "      <td>0</td>\n",
              "      <td>24D</td>\n",
              "      <td>30B</td>\n",
              "      <td>NaN</td>\n",
              "      <td>380107.0</td>\n",
              "      <td>100.0</td>\n",
              "      <td>0.0</td>\n",
              "      <td>0.0</td>\n",
              "      <td>0.0</td>\n",
              "      <td>0.0</td>\n",
              "      <td>...</td>\n",
              "      <td>2923.0</td>\n",
              "      <td>25.0</td>\n",
              "      <td>NaN</td>\n",
              "      <td>Less than 0</td>\n",
              "      <td>0.0</td>\n",
              "      <td>2.0</td>\n",
              "      <td>0.0</td>\n",
              "      <td>0.0</td>\n",
              "      <td>0.0</td>\n",
              "      <td>0.0</td>\n",
              "    </tr>\n",
              "  </tbody>\n",
              "</table>\n",
              "<p>5 rows × 39 columns</p>\n",
              "</div>\n",
              "      <button class=\"colab-df-convert\" onclick=\"convertToInteractive('df-a710ba7e-6d65-4906-ab5a-a5f1ce29073f')\"\n",
              "              title=\"Convert this dataframe to an interactive table.\"\n",
              "              style=\"display:none;\">\n",
              "        \n",
              "  <svg xmlns=\"http://www.w3.org/2000/svg\" height=\"24px\"viewBox=\"0 0 24 24\"\n",
              "       width=\"24px\">\n",
              "    <path d=\"M0 0h24v24H0V0z\" fill=\"none\"/>\n",
              "    <path d=\"M18.56 5.44l.94 2.06.94-2.06 2.06-.94-2.06-.94-.94-2.06-.94 2.06-2.06.94zm-11 1L8.5 8.5l.94-2.06 2.06-.94-2.06-.94L8.5 2.5l-.94 2.06-2.06.94zm10 10l.94 2.06.94-2.06 2.06-.94-2.06-.94-.94-2.06-.94 2.06-2.06.94z\"/><path d=\"M17.41 7.96l-1.37-1.37c-.4-.4-.92-.59-1.43-.59-.52 0-1.04.2-1.43.59L10.3 9.45l-7.72 7.72c-.78.78-.78 2.05 0 2.83L4 21.41c.39.39.9.59 1.41.59.51 0 1.02-.2 1.41-.59l7.78-7.78 2.81-2.81c.8-.78.8-2.07 0-2.86zM5.41 20L4 18.59l7.72-7.72 1.47 1.35L5.41 20z\"/>\n",
              "  </svg>\n",
              "      </button>\n",
              "      \n",
              "  <style>\n",
              "    .colab-df-container {\n",
              "      display:flex;\n",
              "      flex-wrap:wrap;\n",
              "      gap: 12px;\n",
              "    }\n",
              "\n",
              "    .colab-df-convert {\n",
              "      background-color: #E8F0FE;\n",
              "      border: none;\n",
              "      border-radius: 50%;\n",
              "      cursor: pointer;\n",
              "      display: none;\n",
              "      fill: #1967D2;\n",
              "      height: 32px;\n",
              "      padding: 0 0 0 0;\n",
              "      width: 32px;\n",
              "    }\n",
              "\n",
              "    .colab-df-convert:hover {\n",
              "      background-color: #E2EBFA;\n",
              "      box-shadow: 0px 1px 2px rgba(60, 64, 67, 0.3), 0px 1px 3px 1px rgba(60, 64, 67, 0.15);\n",
              "      fill: #174EA6;\n",
              "    }\n",
              "\n",
              "    [theme=dark] .colab-df-convert {\n",
              "      background-color: #3B4455;\n",
              "      fill: #D2E3FC;\n",
              "    }\n",
              "\n",
              "    [theme=dark] .colab-df-convert:hover {\n",
              "      background-color: #434B5C;\n",
              "      box-shadow: 0px 1px 3px 1px rgba(0, 0, 0, 0.15);\n",
              "      filter: drop-shadow(0px 1px 2px rgba(0, 0, 0, 0.3));\n",
              "      fill: #FFFFFF;\n",
              "    }\n",
              "  </style>\n",
              "\n",
              "      <script>\n",
              "        const buttonEl =\n",
              "          document.querySelector('#df-a710ba7e-6d65-4906-ab5a-a5f1ce29073f button.colab-df-convert');\n",
              "        buttonEl.style.display =\n",
              "          google.colab.kernel.accessAllowed ? 'block' : 'none';\n",
              "\n",
              "        async function convertToInteractive(key) {\n",
              "          const element = document.querySelector('#df-a710ba7e-6d65-4906-ab5a-a5f1ce29073f');\n",
              "          const dataTable =\n",
              "            await google.colab.kernel.invokeFunction('convertToInteractive',\n",
              "                                                     [key], {});\n",
              "          if (!dataTable) return;\n",
              "\n",
              "          const docLinkHtml = 'Like what you see? Visit the ' +\n",
              "            '<a target=\"_blank\" href=https://colab.research.google.com/notebooks/data_table.ipynb>data table notebook</a>'\n",
              "            + ' to learn more about interactive tables.';\n",
              "          element.innerHTML = '';\n",
              "          dataTable['output_type'] = 'display_data';\n",
              "          await google.colab.output.renderOutput(dataTable, element);\n",
              "          const docLink = document.createElement('div');\n",
              "          docLink.innerHTML = docLinkHtml;\n",
              "          element.appendChild(docLink);\n",
              "        }\n",
              "      </script>\n",
              "    </div>\n",
              "  </div>\n",
              "  "
            ]
          },
          "metadata": {},
          "execution_count": 396
        }
      ],
      "source": [
        "data.head()"
      ]
    },
    {
      "cell_type": "code",
      "execution_count": null,
      "metadata": {
        "id": "mTvhu9h8uqQN"
      },
      "outputs": [],
      "source": [
        "numeric_cols = ['RFCD.Percentage.1', 'RFCD.Percentage.2', 'RFCD.Percentage.3',\n",
        "                'RFCD.Percentage.4', 'RFCD.Percentage.5',\n",
        "                'SEO.Percentage.1', 'SEO.Percentage.2', 'SEO.Percentage.3',\n",
        "                'SEO.Percentage.4', 'SEO.Percentage.5',\n",
        "                'Year.of.Birth.1', 'Number.of.Successful.Grant.1', 'Number.of.Unsuccessful.Grant.1']\n",
        "categorical_cols = list(set(X.columns.values.tolist()) - set(numeric_cols))"
      ]
    },
    {
      "cell_type": "code",
      "execution_count": null,
      "metadata": {
        "id": "8SzrZK3xuqQQ",
        "colab": {
          "base_uri": "https://localhost:8080/"
        },
        "outputId": "91a40255-2c09-474f-b26e-6544f627f3c7"
      },
      "outputs": [
        {
          "output_type": "execute_result",
          "data": {
            "text/plain": [
              "(213, 39)"
            ]
          },
          "metadata": {},
          "execution_count": 398
        }
      ],
      "source": [
        "data.dropna().shape"
      ]
    },
    {
      "cell_type": "code",
      "execution_count": null,
      "metadata": {
        "id": "M3ChY50HuqQT"
      },
      "outputs": [],
      "source": [
        "X_numeric = X[numeric_cols]\n",
        "\n",
        "X_real_zeros = X_numeric.fillna(0)\n",
        "\n",
        "X_real_mean = X_numeric.fillna(X_numeric.mean())\n"
      ]
    },
    {
      "cell_type": "code",
      "execution_count": null,
      "metadata": {
        "id": "HK_9TF7_uqQT"
      },
      "outputs": [],
      "source": [
        "X_cat = X[categorical_cols].fillna('NA').applymap(str)"
      ]
    },
    {
      "cell_type": "code",
      "execution_count": null,
      "metadata": {
        "id": "owLEMJaiuqQT",
        "colab": {
          "base_uri": "https://localhost:8080/"
        },
        "outputId": "dbfce441-6db9-497f-e392-e8d41701fecd"
      },
      "outputs": [
        {
          "output_type": "stream",
          "name": "stdout",
          "text": [
            "Исходные данные:\n",
            "\n",
            "      sex nationality\n",
            "0    male    American\n",
            "1  female    European\n",
            "2    male       Asian\n",
            "3  female    European\n",
            "\n",
            "Закодированные данные:\n",
            "\n",
            "[[1. 0. 0. 0. 1.]\n",
            " [0. 0. 1. 1. 0.]\n",
            " [0. 1. 0. 0. 1.]\n",
            " [0. 0. 1. 1. 0.]]\n"
          ]
        }
      ],
      "source": [
        "from sklearn.linear_model import LogisticRegression as LR\n",
        "from sklearn.feature_extraction import DictVectorizer as DV\n",
        "\n",
        "categorial_data = pd.DataFrame({'sex': ['male', 'female', 'male', 'female'],\n",
        "                                'nationality': ['American', 'European', 'Asian', 'European']})\n",
        "print('Исходные данные:\\n')\n",
        "print(categorial_data)\n",
        "encoder = DV(sparse = False)\n",
        "encoded_data = encoder.fit_transform(categorial_data.T.to_dict().values())\n",
        "print('\\nЗакодированные данные:\\n')\n",
        "print(encoded_data)"
      ]
    },
    {
      "cell_type": "code",
      "execution_count": null,
      "metadata": {
        "id": "6QML2b3_uqQV"
      },
      "outputs": [],
      "source": [
        "encoder = DV(sparse = False)\n",
        "X_cat_oh = encoder.fit_transform(X_cat.T.to_dict().values())"
      ]
    },
    {
      "cell_type": "code",
      "execution_count": null,
      "metadata": {
        "id": "gNtXZrV6uqQW"
      },
      "outputs": [],
      "source": [
        "from sklearn.model_selection import train_test_split\n",
        "\n",
        "(X_train_real_zeros,\n",
        " X_test_real_zeros,\n",
        " y_train, y_test) = train_test_split(X_real_zeros, y,\n",
        "                                     test_size=0.3,\n",
        "                                     random_state=0)\n",
        "(X_train_real_mean,\n",
        " X_test_real_mean) = train_test_split(X_real_mean,\n",
        "                                      test_size=0.3,\n",
        "                                      random_state=0)\n",
        "(X_train_cat_oh,\n",
        " X_test_cat_oh) = train_test_split(X_cat_oh,\n",
        "                                   test_size=0.3,\n",
        "                                   random_state=0)"
      ]
    },
    {
      "cell_type": "markdown",
      "source": [
        "## Задание 1"
      ],
      "metadata": {
        "id": "vdK20q3mvNcp"
      }
    },
    {
      "cell_type": "code",
      "execution_count": null,
      "metadata": {
        "id": "yjv23RoWuqQX"
      },
      "outputs": [],
      "source": [
        "from sklearn.linear_model import LogisticRegression\n",
        "from sklearn.model_selection import GridSearchCV\n",
        "from sklearn.metrics import roc_auc_score\n",
        "\n",
        "def plot_scores(optimizer):\n",
        "    scores = [[item[0]['C'],\n",
        "               item[1],\n",
        "               (np.sum((item[2]-item[1])**2)/(item[2].size-1))**0.5] for item in optimizer.grid_scores_]\n",
        "    scores = np.array(scores)\n",
        "    plt.semilogx(scores[:,0], scores[:,1])\n",
        "    plt.fill_between(scores[:,0], scores[:,1]-scores[:,2],\n",
        "                                  scores[:,1]+scores[:,2], alpha=0.3)\n",
        "    plt.show()\n",
        "\n",
        "param_grid = {'C': [0.01, 0.05, 0.1, 0.5, 1, 5, 10]}\n",
        "\n",
        "cv = 3"
      ]
    },
    {
      "cell_type": "code",
      "execution_count": null,
      "metadata": {
        "id": "SJQPyqxQuqQX"
      },
      "outputs": [],
      "source": [
        "X1_train = np.hstack((X_train_real_zeros, X_train_cat_oh))\n",
        "X2_train = np.hstack((X_train_real_mean, X_train_cat_oh))\n",
        "X1_test = np.hstack((X_test_real_zeros, X_test_cat_oh))\n",
        "X2_test = np.hstack((X_test_real_mean, X_test_cat_oh))"
      ]
    },
    {
      "cell_type": "code",
      "source": [
        "def plot_scores(optimizer):\n",
        "    means = optimizer.cv_results_['mean_test_score']\n",
        "    stds = optimizer.cv_results_['std_test_score']\n",
        "    params = optimizer.cv_results_['params']\n",
        "    grid = list()\n",
        "\n",
        "    for i in range(len(means)):\n",
        "        grid.append((params[i], means[i], stds[i]))\n",
        "\n",
        "    scores = [[item[0][\"C\"],\n",
        "               item[1],\n",
        "               (np.sum((item[2]-item[1])**2)/(item[2].size-1))**0.5] for item in grid]\n",
        "    scores = np.array(scores)\n",
        "    plt.semilogx(scores[:,0], scores[:,1])\n",
        "    plt.fill_between(scores[:,0], scores[:,1]-scores[:,2],\n",
        "                                  scores[:,1]+scores[:,2], alpha=0.3)\n",
        "    plt.show()"
      ],
      "metadata": {
        "id": "SBvaju6A31eL"
      },
      "execution_count": null,
      "outputs": []
    },
    {
      "cell_type": "code",
      "execution_count": null,
      "metadata": {
        "id": "hNVHEeLauqQY",
        "colab": {
          "base_uri": "https://localhost:8080/",
          "height": 521
        },
        "outputId": "fca6dc65-79e3-4f1c-b828-b8233439b5c0"
      },
      "outputs": [
        {
          "output_type": "display_data",
          "data": {
            "text/plain": [
              "<Figure size 432x288 with 1 Axes>"
            ],
            "image/png": "[encoded data removed]"
          },
          "metadata": {
            "needs_background": "light"
          }
        },
        {
          "output_type": "display_data",
          "data": {
            "text/plain": [
              "<Figure size 432x288 with 1 Axes>"
            ],
            "image/png": "[encoded data removed]"
          },
          "metadata": {
            "needs_background": "light"
          }
        }
      ],
      "source": [
        "estimator = LogisticRegression()\n",
        "optimizer1 = GridSearchCV(estimator, param_grid, cv=cv).fit(X1_train, y_train)\n",
        "\n",
        "plot_scores(optimizer1)\n",
        "\n",
        "estimator = LogisticRegression()\n",
        "optimizer2 = GridSearchCV(estimator, param_grid, cv=cv).fit(X2_train, y_train)\n",
        "\n",
        "plot_scores(optimizer2)"
      ]
    },
    {
      "cell_type": "code",
      "execution_count": null,
      "metadata": {
        "id": "V6KqAFJ3uqQY",
        "colab": {
          "base_uri": "https://localhost:8080/"
        },
        "outputId": "ea28b2ce-47f0-4572-a9aa-a0176b44413b"
      },
      "outputs": [
        {
          "output_type": "stream",
          "name": "stdout",
          "text": [
            "0.8016738208577356 0.7951168779101926\n"
          ]
        }
      ],
      "source": [
        "auc_1 = roc_auc_score(y_test, optimizer1.predict_proba(X1_test)[:, 1])\n",
        "auc_2 = roc_auc_score(y_test, optimizer2.predict_proba(X2_test)[:, 1])\n",
        "print(auc_1, auc_2)"
      ]
    },
    {
      "cell_type": "markdown",
      "metadata": {
        "id": "44SW0nXBuqQY"
      },
      "source": [
        "## Масштабирование вещественных признаков."
      ]
    },
    {
      "cell_type": "code",
      "execution_count": null,
      "metadata": {
        "id": "E_kGxgtduqQZ",
        "colab": {
          "base_uri": "https://localhost:8080/",
          "height": 619
        },
        "outputId": "07a8e5b0-3613-4a59-8076-d9abd04a5c75"
      },
      "outputs": [
        {
          "output_type": "display_data",
          "data": {
            "text/plain": [
              "<Figure size 720x720 with 9 Axes>"
            ],
            "image/png": "[encoded data removed]"
          },
          "metadata": {
            "needs_background": "light"
          }
        }
      ],
      "source": [
        "from pandas.plotting import scatter_matrix\n",
        "\n",
        "data_numeric = pd.DataFrame(X_train_real_zeros, columns=numeric_cols)\n",
        "list_cols = ['Number.of.Successful.Grant.1', 'SEO.Percentage.2', 'Year.of.Birth.1']\n",
        "scatter_matrix(data_numeric[list_cols], alpha=0.5, figsize=(10, 10))\n",
        "plt.show()"
      ]
    },
    {
      "cell_type": "markdown",
      "metadata": {
        "id": "E4blXVX5uqQZ"
      },
      "source": [
        "## Задание 1.5."
      ]
    },
    {
      "cell_type": "code",
      "execution_count": null,
      "metadata": {
        "id": "UCOTjthAuqQZ"
      },
      "outputs": [],
      "source": [
        "from sklearn.preprocessing import StandardScaler\n",
        "\n",
        "# place your code here\n",
        "scaler = StandardScaler()\n",
        "X_train_real_scaled = scaler.fit_transform(X_train_real_zeros)\n",
        "X_test_real_scaled = scaler.transform(X_test_real_zeros)"
      ]
    },
    {
      "cell_type": "markdown",
      "metadata": {
        "id": "feRZS36xuqQZ"
      },
      "source": [
        "## Сравнение признаковых пространств."
      ]
    },
    {
      "cell_type": "code",
      "execution_count": null,
      "metadata": {
        "id": "CVCmTWvkuqQa",
        "colab": {
          "base_uri": "https://localhost:8080/",
          "height": 612
        },
        "outputId": "38814ed6-bcdb-43ca-d6d2-494e3601bac6"
      },
      "outputs": [
        {
          "output_type": "display_data",
          "data": {
            "text/plain": [
              "<Figure size 720x720 with 9 Axes>"
            ],
            "image/png": "[encoded data removed]"
          },
          "metadata": {
            "needs_background": "light"
          }
        }
      ],
      "source": [
        "data_numeric_scaled = pd.DataFrame(X_train_real_scaled, columns=numeric_cols)\n",
        "list_cols = ['Number.of.Successful.Grant.1', 'SEO.Percentage.2', 'Year.of.Birth.1']\n",
        "scatter_matrix(data_numeric_scaled[list_cols], alpha=0.5, figsize=(10, 10))\n",
        "plt.show()"
      ]
    },
    {
      "cell_type": "markdown",
      "metadata": {
        "id": "TTdC5_fDuqQb"
      },
      "source": [
        "## Задание 2."
      ]
    },
    {
      "cell_type": "code",
      "execution_count": null,
      "metadata": {
        "id": "Xuwk6-f_uqQb"
      },
      "outputs": [],
      "source": [
        "\n",
        "# place your code here\n",
        "X_train_scaled = np.hstack((X_train_real_scaled, X_train_cat_oh))\n",
        "X_test_scaled = np.hstack((X_test_real_scaled, X_test_cat_oh))"
      ]
    },
    {
      "cell_type": "code",
      "execution_count": null,
      "metadata": {
        "id": "WBNUHfIGuqQb",
        "colab": {
          "base_uri": "https://localhost:8080/"
        },
        "outputId": "b223c991-7a7c-4fc6-df13-c5721b28c534"
      },
      "outputs": [
        {
          "output_type": "stream",
          "name": "stdout",
          "text": [
            "LogisticRegression(C=0.05)\n"
          ]
        }
      ],
      "source": [
        "estimator_scaled = LogisticRegression()\n",
        "optimizer_scaled = GridSearchCV(estimator_scaled, param_grid, cv=cv).fit(X_train_scaled, y_train)\n",
        "\n",
        "print(optimizer_scaled.best_estimator_)"
      ]
    },
    {
      "cell_type": "code",
      "execution_count": null,
      "metadata": {
        "id": "DiMFupocuqQc",
        "colab": {
          "base_uri": "https://localhost:8080/",
          "height": 269
        },
        "outputId": "373f0462-1557-436e-bc90-d1d285f036bd"
      },
      "outputs": [
        {
          "output_type": "display_data",
          "data": {
            "text/plain": [
              "<Figure size 432x288 with 1 Axes>"
            ],
            "image/png": "[encoded data removed]"
          },
          "metadata": {
            "needs_background": "light"
          }
        }
      ],
      "source": [
        "plot_scores(optimizer_scaled)"
      ]
    },
    {
      "cell_type": "code",
      "execution_count": null,
      "metadata": {
        "id": "9LsiycBiuqQc",
        "colab": {
          "base_uri": "https://localhost:8080/"
        },
        "outputId": "3e99464c-b2ff-4ec4-b0fe-bfab277e1dad"
      },
      "outputs": [
        {
          "output_type": "stream",
          "name": "stdout",
          "text": [
            "0.8851594565867021\n"
          ]
        }
      ],
      "source": [
        "auc_scaled = roc_auc_score(y_test, optimizer_scaled.predict_proba(X_test_scaled)[:, 1])\n",
        "print(auc_scaled)\n"
      ]
    },
    {
      "cell_type": "markdown",
      "metadata": {
        "id": "16GXeLonuqQc"
      },
      "source": [
        "## Балансировка классов."
      ]
    },
    {
      "cell_type": "code",
      "execution_count": null,
      "metadata": {
        "id": "VBG46rNKuqQd",
        "colab": {
          "base_uri": "https://localhost:8080/",
          "height": 582
        },
        "outputId": "de0001b4-d55b-4f9e-8e28-e35c1cb8b8d3"
      },
      "outputs": [
        {
          "output_type": "display_data",
          "data": {
            "text/plain": [
              "<Figure size 432x288 with 1 Axes>"
            ],
            "image/png": "[encoded data removed]"
          },
          "metadata": {
            "needs_background": "light"
          }
        },
        {
          "output_type": "stream",
          "name": "stdout",
          "text": [
            "AUC: 0.911667\n"
          ]
        },
        {
          "output_type": "display_data",
          "data": {
            "text/plain": [
              "<Figure size 432x288 with 1 Axes>"
            ],
            "image/png": "[encoded data removed]"
          },
          "metadata": {
            "needs_background": "light"
          }
        },
        {
          "output_type": "stream",
          "name": "stdout",
          "text": [
            "AUC: 0.906667\n"
          ]
        }
      ],
      "source": [
        "np.random.seed(0)\n",
        "\"\"\"Сэмплируем данные из первой гауссианы\"\"\"\n",
        "data_0 = np.random.multivariate_normal([0,0], [[0.5,0],[0,0.5]], size=40)\n",
        "\"\"\"И из второй\"\"\"\n",
        "data_1 = np.random.multivariate_normal([0,1], [[0.5,0],[0,0.5]], size=40)\n",
        "\"\"\"На обучение берём 20 объектов из первого класса и 10 из второго\"\"\"\n",
        "example_data_train = np.vstack([data_0[:20,:], data_1[:10,:]])\n",
        "example_labels_train = np.concatenate([np.zeros((20)), np.ones((10))])\n",
        "\"\"\"На тест - 20 из первого и 30 из второго\"\"\"\n",
        "example_data_test = np.vstack([data_0[20:,:], data_1[10:,:]])\n",
        "example_labels_test = np.concatenate([np.zeros((20)), np.ones((30))])\n",
        "\"\"\"Задаём координатную сетку, на которой будем вычислять область классификации\"\"\"\n",
        "xx, yy = np.meshgrid(np.arange(-3, 3, 0.02), np.arange(-3, 3, 0.02))\n",
        "\"\"\"Обучаем регрессию без балансировки по классам\"\"\"\n",
        "optimizer = GridSearchCV(LogisticRegression(), param_grid, cv=cv, n_jobs=-1)\n",
        "optimizer.fit(example_data_train, example_labels_train)\n",
        "\"\"\"Строим предсказания регрессии для сетки\"\"\"\n",
        "Z = optimizer.predict(np.c_[xx.ravel(), yy.ravel()]).reshape(xx.shape)\n",
        "plt.pcolormesh(xx, yy, Z, cmap=plt.cm.Pastel2)\n",
        "plt.scatter(data_0[:,0], data_0[:,1], color='red')\n",
        "plt.scatter(data_1[:,0], data_1[:,1], color='blue')\n",
        "\"\"\"Считаем AUC\"\"\"\n",
        "auc_wo_class_weights = roc_auc_score(example_labels_test, optimizer.predict_proba(example_data_test)[:,1])\n",
        "plt.title('Without class weights')\n",
        "plt.show()\n",
        "print('AUC: %f'%auc_wo_class_weights)\n",
        "\"\"\"Для второй регрессии в LogisticRegression передаём параметр class_weight='balanced'\"\"\"\n",
        "optimizer = GridSearchCV(LogisticRegression(class_weight='balanced'), param_grid, cv=cv, n_jobs=-1)\n",
        "optimizer.fit(example_data_train, example_labels_train)\n",
        "Z = optimizer.predict(np.c_[xx.ravel(), yy.ravel()]).reshape(xx.shape)\n",
        "plt.pcolormesh(xx, yy, Z, cmap=plt.cm.Pastel2)\n",
        "plt.scatter(data_0[:,0], data_0[:,1], color='red')\n",
        "plt.scatter(data_1[:,0], data_1[:,1], color='blue')\n",
        "auc_w_class_weights = roc_auc_score(example_labels_test, optimizer.predict_proba(example_data_test)[:,1])\n",
        "plt.title('With class weights')\n",
        "plt.show()\n",
        "print('AUC: %f'%auc_w_class_weights)"
      ]
    },
    {
      "cell_type": "code",
      "execution_count": null,
      "metadata": {
        "id": "mKF8xc23uqQe",
        "colab": {
          "base_uri": "https://localhost:8080/"
        },
        "outputId": "d7c3d587-c12a-44a7-cd97-57fd54410316"
      },
      "outputs": [
        {
          "output_type": "stream",
          "name": "stdout",
          "text": [
            "2316\n",
            "1884\n"
          ]
        }
      ],
      "source": [
        "print(np.sum(y_train==0))\n",
        "print(np.sum(y_train==1))"
      ]
    },
    {
      "cell_type": "markdown",
      "metadata": {
        "id": "kg79T7tnuqQe"
      },
      "source": [
        "## Задание 3."
      ]
    },
    {
      "cell_type": "code",
      "execution_count": null,
      "metadata": {
        "id": "iuLAn7U-uqQf",
        "colab": {
          "base_uri": "https://localhost:8080/",
          "height": 286
        },
        "outputId": "575050d8-ddec-46f7-fa99-617aeedee0f5"
      },
      "outputs": [
        {
          "output_type": "display_data",
          "data": {
            "text/plain": [
              "<Figure size 432x288 with 1 Axes>"
            ],
            "image/png": "[encoded data removed]"
          },
          "metadata": {
            "needs_background": "light"
          }
        },
        {
          "output_type": "stream",
          "name": "stdout",
          "text": [
            "0.8872147655574267\n"
          ]
        }
      ],
      "source": [
        "X_train_scaled = np.hstack((X_train_real_scaled, X_train_cat_oh))\n",
        "X_test_scaled = np.hstack((X_test_real_scaled, X_test_cat_oh))\n",
        "\n",
        "estimator_bal = LogisticRegression(class_weight='balanced')\n",
        "optimizer_bal = GridSearchCV(estimator_bal, param_grid, cv=cv)\n",
        "optimizer_bal.fit(X_train_scaled, y_train)\n",
        "plot_scores(optimizer_bal)\n",
        "balanced_auc = roc_auc_score(y_test, optimizer_bal.predict_proba(X_test_scaled)[:, 1])\n",
        "print(balanced_auc)"
      ]
    },
    {
      "cell_type": "code",
      "execution_count": null,
      "metadata": {
        "id": "ZJAkHSMWuqQf",
        "colab": {
          "base_uri": "https://localhost:8080/"
        },
        "outputId": "2c815503-0aae-4fc2-fafc-3e99772224cb"
      },
      "outputs": [
        {
          "output_type": "stream",
          "name": "stdout",
          "text": [
            "2316\n",
            "2316\n"
          ]
        }
      ],
      "source": [
        "np.random.seed(0)\n",
        "oversample_size = np.abs(np.sum(y_train == 1) - np.sum(y_train==0))\n",
        "indices_to_add = np.random.randint(np.sum(y_train == 1), size=oversample_size)\n",
        "\n",
        "X_train_to_add = X_train_scaled[y_train.to_numpy() == 1,:][indices_to_add,:]\n",
        "X_train_osample = np.vstack((X_train_scaled, X_train_to_add))\n",
        "y_train_osample = np.concatenate((y_train, np.ones(oversample_size)))\n",
        "\n",
        "print(np.sum(y_train_osample==0))\n",
        "print(np.sum(y_train_osample==1))"
      ]
    },
    {
      "cell_type": "code",
      "execution_count": null,
      "metadata": {
        "id": "7yQmouwAuqQm",
        "colab": {
          "base_uri": "https://localhost:8080/",
          "height": 286
        },
        "outputId": "de5db254-e542-40d4-aa3a-0acd2d396058"
      },
      "outputs": [
        {
          "output_type": "display_data",
          "data": {
            "text/plain": [
              "<Figure size 432x288 with 1 Axes>"
            ],
            "image/png": "[encoded data removed]"
          },
          "metadata": {
            "needs_background": "light"
          }
        },
        {
          "output_type": "stream",
          "name": "stdout",
          "text": [
            "0.8831548807091744\n"
          ]
        }
      ],
      "source": [
        "estimator_sam = LogisticRegression()\n",
        "optimizer_sam = GridSearchCV(estimator_sam, param_grid, cv=cv)\n",
        "optimizer_sam.fit(X_train_osample, y_train_osample)\n",
        "plot_scores(optimizer_sam)\n",
        "sample_auc = roc_auc_score(y_test, optimizer_sam.predict_proba(X_test_scaled)[:, 1])\n",
        "print(sample_auc)"
      ]
    },
    {
      "cell_type": "code",
      "execution_count": null,
      "metadata": {
        "id": "CY2bre4BuqQn",
        "colab": {
          "base_uri": "https://localhost:8080/"
        },
        "outputId": "d277be6b-6ad5-428b-d536-23585fb694ae"
      },
      "outputs": [
        {
          "output_type": "stream",
          "name": "stdout",
          "text": [
            "AUC ROC for classifier without weighted classes 0.9116666666666666\n",
            "AUC ROC for classifier with weighted classes:  0.9066666666666666\n"
          ]
        }
      ],
      "source": [
        "print('AUC ROC for classifier without weighted classes', auc_wo_class_weights)\n",
        "print('AUC ROC for classifier with weighted classes: ', auc_w_class_weights)"
      ]
    },
    {
      "cell_type": "code",
      "execution_count": null,
      "metadata": {
        "id": "6j_3xlXtuqQn",
        "colab": {
          "base_uri": "https://localhost:8080/",
          "height": 299
        },
        "outputId": "0578a79a-52f0-44f3-d544-421659344054"
      },
      "outputs": [
        {
          "output_type": "display_data",
          "data": {
            "text/plain": [
              "<Figure size 432x288 with 1 Axes>"
            ],
            "image/png": "[encoded data removed]"
          },
          "metadata": {
            "needs_background": "light"
          }
        },
        {
          "output_type": "stream",
          "name": "stdout",
          "text": [
            "AUC ROC for stratified samples:  0.9125\n"
          ]
        }
      ],
      "source": [
        "\"\"\"Разделим данные по классам поровну между обучающей и тестовой выборками\"\"\"\n",
        "example_data_train = np.vstack([data_0[:20,:], data_1[:20,:]])\n",
        "example_labels_train = np.concatenate([np.zeros((20)), np.ones((20))])\n",
        "example_data_test = np.vstack([data_0[20:,:], data_1[20:,:]])\n",
        "example_labels_test = np.concatenate([np.zeros((20)), np.ones((20))])\n",
        "\"\"\"Обучим классификатор\"\"\"\n",
        "optimizer = GridSearchCV(LogisticRegression(class_weight='balanced'), param_grid, cv=cv, n_jobs=-1)\n",
        "optimizer.fit(example_data_train, example_labels_train)\n",
        "Z = optimizer.predict(np.c_[xx.ravel(), yy.ravel()]).reshape(xx.shape)\n",
        "plt.pcolormesh(xx, yy, Z, cmap=plt.cm.Pastel2)\n",
        "plt.scatter(data_0[:,0], data_0[:,1], color='red')\n",
        "plt.scatter(data_1[:,0], data_1[:,1], color='blue')\n",
        "auc_stratified = roc_auc_score(example_labels_test, optimizer.predict_proba(example_data_test)[:,1])\n",
        "plt.title('With class weights')\n",
        "plt.show()\n",
        "print('AUC ROC for stratified samples: ', auc_stratified)"
      ]
    },
    {
      "cell_type": "markdown",
      "metadata": {
        "id": "Ro-GA44XuqQo"
      },
      "source": [
        "## Задание 4."
      ]
    },
    {
      "cell_type": "code",
      "execution_count": null,
      "metadata": {
        "id": "2cMyxEG_uqQo"
      },
      "outputs": [],
      "source": [
        "\n",
        "# place your code here\n",
        "\n",
        "(X_train_strat_real_zeros, X_test_strat_real_zeros,\n",
        " y_train_strat, y_test_strat) = train_test_split(X_real_zeros, y, test_size=0.3, random_state=0, stratify=y)\n",
        "\n",
        "(X_train_cat, X_test_cat) = train_test_split(X_cat_oh, test_size=0.3, random_state=0, stratify=y)"
      ]
    },
    {
      "cell_type": "code",
      "execution_count": null,
      "metadata": {
        "id": "QVckr17vuqQr"
      },
      "outputs": [],
      "source": [
        "scaler = StandardScaler()\n",
        "X_train_strat_scaled = scaler.fit_transform(X_train_strat_real_zeros)\n",
        "X_test_strat_scaled = scaler.transform(X_test_strat_real_zeros)\n",
        "\n",
        "X_train_strat = np.hstack((X_train_strat_scaled, X_train_cat))\n",
        "X_test_strat = np.hstack((X_test_strat_scaled, X_test_cat))"
      ]
    },
    {
      "cell_type": "code",
      "execution_count": null,
      "metadata": {
        "id": "lPi32OmouqQr",
        "colab": {
          "base_uri": "https://localhost:8080/",
          "height": 269
        },
        "outputId": "4e4ebfb8-a286-442c-bc64-873b6dd464ff"
      },
      "outputs": [
        {
          "output_type": "display_data",
          "data": {
            "text/plain": [
              "<Figure size 432x288 with 1 Axes>"
            ],
            "image/png": "[encoded data removed]"
          },
          "metadata": {
            "needs_background": "light"
          }
        }
      ],
      "source": [
        "estimator_strat = LogisticRegression(class_weight='balanced')\n",
        "optimizer_strat = GridSearchCV(estimator_strat, param_grid, cv=cv)\n",
        "optimizer_strat.fit(X_train_strat, y_train_strat)\n",
        "plot_scores(optimizer_strat)"
      ]
    },
    {
      "cell_type": "code",
      "execution_count": null,
      "metadata": {
        "id": "E3_zw46uuqQr",
        "colab": {
          "base_uri": "https://localhost:8080/"
        },
        "outputId": "18bb719f-69ca-4dfa-fde0-3e9993a9a5a3"
      },
      "outputs": [
        {
          "output_type": "stream",
          "name": "stdout",
          "text": [
            "0.8794133964245021\n"
          ]
        }
      ],
      "source": [
        "strat_auc = roc_auc_score(y_test_strat, optimizer_strat.predict_proba(X_test_strat)[:, 1])\n",
        "print(strat_auc)\n"
      ]
    },
    {
      "cell_type": "code",
      "execution_count": null,
      "metadata": {
        "id": "FHFbxCzPuqQs",
        "colab": {
          "base_uri": "https://localhost:8080/",
          "height": 282
        },
        "outputId": "b2d7ce7f-ddd7-4870-9dc4-8d1fe059aa78"
      },
      "outputs": [
        {
          "output_type": "display_data",
          "data": {
            "text/plain": [
              "<Figure size 432x288 with 1 Axes>"
            ],
            "image/png": "[encoded data removed]"
          },
          "metadata": {
            "needs_background": "light"
          }
        }
      ],
      "source": [
        "from sklearn.preprocessing import PolynomialFeatures\n",
        "\n",
        "\"\"\"Инициализируем класс, который выполняет преобразование\"\"\"\n",
        "transform = PolynomialFeatures(2)\n",
        "\"\"\"Обучаем преобразование на обучающей выборке, применяем его к тестовой\"\"\"\n",
        "example_data_train_poly = transform.fit_transform(example_data_train)\n",
        "example_data_test_poly = transform.transform(example_data_test)\n",
        "\"\"\"Обращаем внимание на параметр fit_intercept=False\"\"\"\n",
        "optimizer = GridSearchCV(LogisticRegression(class_weight='balanced', fit_intercept=False), param_grid, cv=cv, n_jobs=-1)\n",
        "optimizer.fit(example_data_train_poly, example_labels_train)\n",
        "Z = optimizer.predict(transform.transform(np.c_[xx.ravel(), yy.ravel()])).reshape(xx.shape)\n",
        "plt.pcolormesh(xx, yy, Z, cmap=plt.cm.Pastel2)\n",
        "plt.scatter(data_0[:,0], data_0[:,1], color='red')\n",
        "plt.scatter(data_1[:,0], data_1[:,1], color='blue')\n",
        "plt.title('With class weights')\n",
        "plt.show()"
      ]
    },
    {
      "cell_type": "code",
      "execution_count": null,
      "metadata": {
        "id": "de7JuX4puqQt",
        "colab": {
          "base_uri": "https://localhost:8080/"
        },
        "outputId": "e6014469-4bc7-4cad-8b80-ca74635756e1"
      },
      "outputs": [
        {
          "output_type": "stream",
          "name": "stdout",
          "text": [
            "(40, 6)\n"
          ]
        }
      ],
      "source": [
        "print(example_data_train_poly.shape)"
      ]
    },
    {
      "cell_type": "code",
      "execution_count": null,
      "metadata": {
        "id": "HkxWBi6buqQt",
        "colab": {
          "base_uri": "https://localhost:8080/",
          "height": 282
        },
        "outputId": "0bee6581-4778-49a5-e51f-da21295de2dc"
      },
      "outputs": [
        {
          "output_type": "display_data",
          "data": {
            "text/plain": [
              "<Figure size 432x288 with 1 Axes>"
            ],
            "image/png": "[encoded data removed]"
          },
          "metadata": {
            "needs_background": "light"
          }
        }
      ],
      "source": [
        "transform = PolynomialFeatures(11)\n",
        "example_data_train_poly = transform.fit_transform(example_data_train)\n",
        "example_data_test_poly = transform.transform(example_data_test)\n",
        "optimizer = GridSearchCV(LogisticRegression(class_weight='balanced', fit_intercept=False), param_grid, cv=cv, n_jobs=-1)\n",
        "optimizer.fit(example_data_train_poly, example_labels_train)\n",
        "Z = optimizer.predict(transform.transform(np.c_[xx.ravel(), yy.ravel()])).reshape(xx.shape)\n",
        "plt.pcolormesh(xx, yy, Z, cmap=plt.cm.Pastel2)\n",
        "plt.scatter(data_0[:,0], data_0[:,1], color='red')\n",
        "plt.scatter(data_1[:,0], data_1[:,1], color='blue')\n",
        "plt.title('Corrected class weights')\n",
        "plt.show()"
      ]
    },
    {
      "cell_type": "markdown",
      "metadata": {
        "id": "K6Xz5q8_uqQu"
      },
      "source": [
        "Количество признаков в данной модели:"
      ]
    },
    {
      "cell_type": "code",
      "execution_count": null,
      "metadata": {
        "id": "CDm3IUI_uqQu",
        "colab": {
          "base_uri": "https://localhost:8080/"
        },
        "outputId": "82bc5abc-9b78-4e98-a5a4-d8fbd530ffaa"
      },
      "outputs": [
        {
          "output_type": "stream",
          "name": "stdout",
          "text": [
            "(40, 78)\n"
          ]
        }
      ],
      "source": [
        "print(example_data_train_poly.shape)"
      ]
    },
    {
      "cell_type": "markdown",
      "metadata": {
        "id": "TMfLkW7CuqQu"
      },
      "source": [
        "## Задание 5."
      ]
    },
    {
      "cell_type": "code",
      "execution_count": null,
      "metadata": {
        "id": "x9KIVnlEuqQv"
      },
      "outputs": [],
      "source": [
        "transform = PolynomialFeatures(2)\n",
        "X_train_poly = transform.fit_transform(X_train_strat_real_zeros)\n",
        "X_test_poly = transform.transform(X_test_strat_real_zeros)"
      ]
    },
    {
      "cell_type": "code",
      "execution_count": null,
      "metadata": {
        "id": "YyQVSsdmuqQv"
      },
      "outputs": [],
      "source": [
        "scaler = StandardScaler()\n",
        "X_train_poly_scaled = scaler.fit_transform(X_train_poly)\n",
        "X_test_poly_scaled = scaler.transform(X_test_poly)"
      ]
    },
    {
      "cell_type": "code",
      "execution_count": null,
      "metadata": {
        "id": "0eGbpjZDuqQw"
      },
      "outputs": [],
      "source": [
        "X_train_full = np.hstack((X_train_poly_scaled, X_train_cat))\n",
        "X_test_full = np.hstack((X_test_poly_scaled, X_test_cat))"
      ]
    },
    {
      "cell_type": "code",
      "execution_count": null,
      "metadata": {
        "id": "9t2JqRW9uqQw",
        "colab": {
          "base_uri": "https://localhost:8080/",
          "height": 118
        },
        "outputId": "2a80647c-60b4-40ef-9408-626dfead2f2d"
      },
      "outputs": [
        {
          "output_type": "execute_result",
          "data": {
            "text/plain": [
              "GridSearchCV(cv=3,\n",
              "             estimator=LogisticRegression(class_weight='balanced',\n",
              "                                          fit_intercept=False),\n",
              "             param_grid={'C': [0.01, 0.05, 0.1, 0.5, 1, 5, 10]})"
            ],
            "text/html": [
              "<style>#sk-container-id-2 {color: black;background-color: white;}#sk-container-id-2 pre{padding: 0;}#sk-container-id-2 div.sk-toggleable {background-color: white;}#sk-container-id-2 label.sk-toggleable__label {cursor: pointer;display: block;width: 100%;margin-bottom: 0;padding: 0.3em;box-sizing: border-box;text-align: center;}#sk-container-id-2 label.sk-toggleable__label-arrow:before {content: \"▸\";float: left;margin-right: 0.25em;color: #696969;}#sk-container-id-2 label.sk-toggleable__label-arrow:hover:before {color: black;}#sk-container-id-2 div.sk-estimator:hover label.sk-toggleable__label-arrow:before {color: black;}#sk-container-id-2 div.sk-toggleable__content {max-height: 0;max-width: 0;overflow: hidden;text-align: left;background-color: #f0f8ff;}#sk-container-id-2 div.sk-toggleable__content pre {margin: 0.2em;color: black;border-radius: 0.25em;background-color: #f0f8ff;}#sk-container-id-2 input.sk-toggleable__control:checked~div.sk-toggleable__content {max-height: 200px;max-width: 100%;overflow: auto;}#sk-container-id-2 input.sk-toggleable__control:checked~label.sk-toggleable__label-arrow:before {content: \"▾\";}#sk-container-id-2 div.sk-estimator input.sk-toggleable__control:checked~label.sk-toggleable__label {background-color: #d4ebff;}#sk-container-id-2 div.sk-label input.sk-toggleable__control:checked~label.sk-toggleable__label {background-color: #d4ebff;}#sk-container-id-2 input.sk-hidden--visually {border: 0;clip: rect(1px 1px 1px 1px);clip: rect(1px, 1px, 1px, 1px);height: 1px;margin: -1px;overflow: hidden;padding: 0;position: absolute;width: 1px;}#sk-container-id-2 div.sk-estimator {font-family: monospace;background-color: #f0f8ff;border: 1px dotted black;border-radius: 0.25em;box-sizing: border-box;margin-bottom: 0.5em;}#sk-container-id-2 div.sk-estimator:hover {background-color: #d4ebff;}#sk-container-id-2 div.sk-parallel-item::after {content: \"\";width: 100%;border-bottom: 1px solid gray;flex-grow: 1;}#sk-container-id-2 div.sk-label:hover label.sk-toggleable__label {background-color: #d4ebff;}#sk-container-id-2 div.sk-serial::before {content: \"\";position: absolute;border-left: 1px solid gray;box-sizing: border-box;top: 0;bottom: 0;left: 50%;z-index: 0;}#sk-container-id-2 div.sk-serial {display: flex;flex-direction: column;align-items: center;background-color: white;padding-right: 0.2em;padding-left: 0.2em;position: relative;}#sk-container-id-2 div.sk-item {position: relative;z-index: 1;}#sk-container-id-2 div.sk-parallel {display: flex;align-items: stretch;justify-content: center;background-color: white;position: relative;}#sk-container-id-2 div.sk-item::before, #sk-container-id-2 div.sk-parallel-item::before {content: \"\";position: absolute;border-left: 1px solid gray;box-sizing: border-box;top: 0;bottom: 0;left: 50%;z-index: -1;}#sk-container-id-2 div.sk-parallel-item {display: flex;flex-direction: column;z-index: 1;position: relative;background-color: white;}#sk-container-id-2 div.sk-parallel-item:first-child::after {align-self: flex-end;width: 50%;}#sk-container-id-2 div.sk-parallel-item:last-child::after {align-self: flex-start;width: 50%;}#sk-container-id-2 div.sk-parallel-item:only-child::after {width: 0;}#sk-container-id-2 div.sk-dashed-wrapped {border: 1px dashed gray;margin: 0 0.4em 0.5em 0.4em;box-sizing: border-box;padding-bottom: 0.4em;background-color: white;}#sk-container-id-2 div.sk-label label {font-family: monospace;font-weight: bold;display: inline-block;line-height: 1.2em;}#sk-container-id-2 div.sk-label-container {text-align: center;}#sk-container-id-2 div.sk-container {/* jupyter's `normalize.less` sets `[hidden] { display: none; }` but bootstrap.min.css set `[hidden] { display: none !important; }` so we also need the `!important` here to be able to override the default hidden behavior on the sphinx rendered scikit-learn.org. See: https://github.com/scikit-learn/scikit-learn/issues/21755 */display: inline-block !important;position: relative;}#sk-container-id-2 div.sk-text-repr-fallback {display: none;}</style><div id=\"sk-container-id-2\" class=\"sk-top-container\"><div class=\"sk-text-repr-fallback\"><pre>GridSearchCV(cv=3,\n",
              "             estimator=LogisticRegression(class_weight=&#x27;balanced&#x27;,\n",
              "                                          fit_intercept=False),\n",
              "             param_grid={&#x27;C&#x27;: [0.01, 0.05, 0.1, 0.5, 1, 5, 10]})</pre><b>In a Jupyter environment, please rerun this cell to show the HTML representation or trust the notebook. <br />On GitHub, the HTML representation is unable to render, please try loading this page with nbviewer.org.</b></div><div class=\"sk-container\" hidden><div class=\"sk-item sk-dashed-wrapped\"><div class=\"sk-label-container\"><div class=\"sk-label sk-toggleable\"><input class=\"sk-toggleable__control sk-hidden--visually\" id=\"sk-estimator-id-4\" type=\"checkbox\" ><label for=\"sk-estimator-id-4\" class=\"sk-toggleable__label sk-toggleable__label-arrow\">GridSearchCV</label><div class=\"sk-toggleable__content\"><pre>GridSearchCV(cv=3,\n",
              "             estimator=LogisticRegression(class_weight=&#x27;balanced&#x27;,\n",
              "                                          fit_intercept=False),\n",
              "             param_grid={&#x27;C&#x27;: [0.01, 0.05, 0.1, 0.5, 1, 5, 10]})</pre></div></div></div><div class=\"sk-parallel\"><div class=\"sk-parallel-item\"><div class=\"sk-item\"><div class=\"sk-label-container\"><div class=\"sk-label sk-toggleable\"><input class=\"sk-toggleable__control sk-hidden--visually\" id=\"sk-estimator-id-5\" type=\"checkbox\" ><label for=\"sk-estimator-id-5\" class=\"sk-toggleable__label sk-toggleable__label-arrow\">estimator: LogisticRegression</label><div class=\"sk-toggleable__content\"><pre>LogisticRegression(class_weight=&#x27;balanced&#x27;, fit_intercept=False)</pre></div></div></div><div class=\"sk-serial\"><div class=\"sk-item\"><div class=\"sk-estimator sk-toggleable\"><input class=\"sk-toggleable__control sk-hidden--visually\" id=\"sk-estimator-id-6\" type=\"checkbox\" ><label for=\"sk-estimator-id-6\" class=\"sk-toggleable__label sk-toggleable__label-arrow\">LogisticRegression</label><div class=\"sk-toggleable__content\"><pre>LogisticRegression(class_weight=&#x27;balanced&#x27;, fit_intercept=False)</pre></div></div></div></div></div></div></div></div></div></div>"
            ]
          },
          "metadata": {},
          "execution_count": 434
        }
      ],
      "source": [
        "optimizer_poly = GridSearchCV(LogisticRegression(class_weight='balanced', fit_intercept=False), param_grid, cv=cv)\n",
        "optimizer_poly.fit(X_train_full, y_train_strat)"
      ]
    },
    {
      "cell_type": "code",
      "execution_count": null,
      "metadata": {
        "id": "9vkkg062uqQw",
        "colab": {
          "base_uri": "https://localhost:8080/",
          "height": 286
        },
        "outputId": "43944f2a-25ef-4214-c321-ee834c4cca98"
      },
      "outputs": [
        {
          "output_type": "display_data",
          "data": {
            "text/plain": [
              "<Figure size 432x288 with 1 Axes>"
            ],
            "image/png": "[encoded data removed]"
          },
          "metadata": {
            "needs_background": "light"
          }
        },
        {
          "output_type": "stream",
          "name": "stdout",
          "text": [
            "0.8869888147517899\n"
          ]
        }
      ],
      "source": [
        "poly_auc = roc_auc_score(y_test_strat, optimizer_poly.predict_proba(X_test_full)[:, 1])\n",
        "plot_scores(optimizer_poly)\n",
        "print(poly_auc)\n"
      ]
    },
    {
      "cell_type": "markdown",
      "metadata": {
        "id": "luaoQ_VEuqQw"
      },
      "source": [
        "## Задание 6."
      ]
    },
    {
      "cell_type": "code",
      "execution_count": null,
      "metadata": {
        "id": "t85-jsaduqQx",
        "colab": {
          "base_uri": "https://localhost:8080/",
          "height": 269
        },
        "outputId": "c578c2d3-1458-4862-f27f-633da8081b8d"
      },
      "outputs": [
        {
          "output_type": "display_data",
          "data": {
            "text/plain": [
              "<Figure size 432x288 with 1 Axes>"
            ],
            "image/png": "[encoded data removed]"
          },
          "metadata": {
            "needs_background": "light"
          }
        }
      ],
      "source": [
        "estimator_l1 = LogisticRegression(penalty='l2', class_weight='balanced')\n",
        "optimizer_l1 = GridSearchCV(estimator_l1, param_grid, cv=cv)\n",
        "optimizer_l1.fit(X_train_strat, y_train_strat)\n",
        "plot_scores(optimizer_l1)"
      ]
    },
    {
      "cell_type": "code",
      "execution_count": null,
      "metadata": {
        "id": "c4NRqqxDuqQy",
        "colab": {
          "base_uri": "https://localhost:8080/"
        },
        "outputId": "51965d70-f00f-45cb-f412-630664a2da6d"
      },
      "outputs": [
        {
          "output_type": "stream",
          "name": "stdout",
          "text": [
            "0.8794133964245021\n"
          ]
        }
      ],
      "source": [
        "l1_auc = roc_auc_score(y_test_strat, optimizer_l1.predict_proba(X_test_strat)[:, 1])\n",
        "print(l1_auc)"
      ]
    }
  ],
  "metadata": {
    "kernelspec": {
      "display_name": "Python [conda env:tensorflow]",
      "language": "python",
      "name": "conda-env-tensorflow-py"
    },
    "language_info": {
      "codemirror_mode": {
        "name": "ipython",
        "version": 3
      },
      "file_extension": ".py",
      "mimetype": "text/x-python",
      "name": "python",
      "nbconvert_exporter": "python",
      "pygments_lexer": "ipython3",
      "version": "3.5.4"
    },
    "colab": {
      "provenance": []
    }
  },
  "nbformat": 4,
  "nbformat_minor": 0
}