{
  "cells": [
    {
      "cell_type": "markdown",
      "metadata": {
        "id": "view-in-github",
        "colab_type": "text"
      },
      "source": [
        "<a href=\"https://colab.research.google.com/github/Nailloon/Machine-Learning-Practice/blob/main/%D0%9B%D0%B0%D0%B1%D0%BE%D1%80%D0%B0%D1%82%D0%BE%D1%80%D0%BD%D1%8B%D0%B5%20%D1%80%D0%B0%D0%B1%D0%BE%D1%82%D1%8B%20%D0%AE%D0%B4%D0%B8%D0%BD%D1%86%D0%B5%D0%B2%D0%BE%D0%B9%20%D0%9D%D0%B0%D0%B4%D0%B5%D0%B6%D0%B4%D1%8B/%D0%9F%D0%BE%D0%BB%D0%BD%D0%BE%D1%81%D0%B2%D1%8F%D0%B7%D0%BD%D1%8B%D0%B5_%D0%BD%D0%B5%D0%B9%D1%80%D0%BE%D0%BD%D0%BD%D1%8B%D0%B5_%D1%81%D0%B5%D1%82%D0%B8.ipynb\" target=\"_parent\"><img src=\"https://colab.research.google.com/assets/colab-badge.svg\" alt=\"Open In Colab\"/></a>"
      ]
    },
    {
      "cell_type": "markdown",
      "metadata": {
        "id": "kCkkJ8-LDm-T"
      },
      "source": [
        "##Задание 1"
      ]
    },
    {
      "cell_type": "code",
      "execution_count": null,
      "metadata": {
        "id": "8lJBRbKUDqng"
      },
      "outputs": [],
      "source": [
        "import pandas as pd\n",
        "import numpy as np"
      ]
    },
    {
      "cell_type": "code",
      "execution_count": null,
      "metadata": {
        "colab": {
          "base_uri": "https://localhost:8080/"
        },
        "id": "UsVI32ulDyk0",
        "outputId": "7d2e44be-3bfa-4e8a-80ba-b829856faf9c"
      },
      "outputs": [
        {
          "output_type": "stream",
          "name": "stdout",
          "text": [
            "Mounted at /content/drive\n"
          ]
        }
      ],
      "source": [
        "from google.colab import drive\n",
        "drive.mount(\"/content/drive\")"
      ]
    },
    {
      "cell_type": "code",
      "execution_count": null,
      "metadata": {
        "id": "544loNpXD16g"
      },
      "outputs": [],
      "source": [
        "data_clf = pd.read_csv('/content/drive/MyDrive/diabetes.csv')\n",
        "#data_reg = pd.read_csv('/content/drive/MyDrive/cars3.csv', index_col= False)\n"
      ]
    },
    {
      "cell_type": "code",
      "source": [
        "data_reg"
      ],
      "metadata": {
        "colab": {
          "base_uri": "https://localhost:8080/",
          "height": 165
        },
        "id": "OtvhrnH-mrH2",
        "outputId": "17d77547-5a24-4f1e-d3d0-00bb08a634cb"
      },
      "execution_count": null,
      "outputs": [
        {
          "output_type": "error",
          "ename": "NameError",
          "evalue": "ignored",
          "traceback": [
            "\u001b[0;31m---------------------------------------------------------------------------\u001b[0m",
            "\u001b[0;31mNameError\u001b[0m                                 Traceback (most recent call last)",
            "\u001b[0;32m<ipython-input-18-ea2d0708686e>\u001b[0m in \u001b[0;36m<cell line: 1>\u001b[0;34m()\u001b[0m\n\u001b[0;32m----> 1\u001b[0;31m \u001b[0mdata_reg\u001b[0m\u001b[0;34m\u001b[0m\u001b[0;34m\u001b[0m\u001b[0m\n\u001b[0m",
            "\u001b[0;31mNameError\u001b[0m: name 'data_reg' is not defined"
          ]
        }
      ]
    },
    {
      "cell_type": "code",
      "source": [
        "data_clf"
      ],
      "metadata": {
        "colab": {
          "base_uri": "https://localhost:8080/",
          "height": 424
        },
        "id": "Gt_EYfIsQdf7",
        "outputId": "1a83509a-20d8-42da-d4fd-eb5d01953460"
      },
      "execution_count": null,
      "outputs": [
        {
          "output_type": "execute_result",
          "data": {
            "text/plain": [
              "        Unnamed: 0  Diabetes_012  HighBP  HighChol  CholCheck   BMI  Smoker  \\\n",
              "0                0           0.0     1.0       1.0        1.0  40.0     1.0   \n",
              "1                1           0.0     0.0       0.0        0.0  25.0     1.0   \n",
              "2                2           0.0     1.0       1.0        1.0  28.0     0.0   \n",
              "3                3           0.0     1.0       0.0        1.0  27.0     0.0   \n",
              "4                4           0.0     1.0       1.0        1.0  24.0     0.0   \n",
              "...            ...           ...     ...       ...        ...   ...     ...   \n",
              "249044      249044           0.0     1.0       1.0        1.0  45.0     0.0   \n",
              "249045      249045           1.0     1.0       1.0        1.0  18.0     0.0   \n",
              "249046      249046           0.0     0.0       0.0        1.0  28.0     0.0   \n",
              "249047      249047           0.0     1.0       0.0        1.0  23.0     0.0   \n",
              "249048      249048           1.0     1.0       1.0        1.0  25.0     0.0   \n",
              "\n",
              "        Stroke  HeartDiseaseorAttack  PhysActivity  ...  AnyHealthcare  \\\n",
              "0          0.0                   0.0           0.0  ...            1.0   \n",
              "1          0.0                   0.0           1.0  ...            0.0   \n",
              "2          0.0                   0.0           0.0  ...            1.0   \n",
              "3          0.0                   0.0           1.0  ...            1.0   \n",
              "4          0.0                   0.0           1.0  ...            1.0   \n",
              "...        ...                   ...           ...  ...            ...   \n",
              "249044     0.0                   0.0           0.0  ...            1.0   \n",
              "249045     0.0                   0.0           0.0  ...            1.0   \n",
              "249046     0.0                   0.0           1.0  ...            1.0   \n",
              "249047     0.0                   0.0           0.0  ...            1.0   \n",
              "249048     0.0                   1.0           1.0  ...            1.0   \n",
              "\n",
              "        NoDocbcCost  GenHlth  MentHlth  PhysHlth  DiffWalk  Sex   Age  \\\n",
              "0               0.0      5.0      18.0      15.0       1.0  0.0   9.0   \n",
              "1               1.0      3.0       0.0       0.0       0.0  0.0   7.0   \n",
              "2               1.0      5.0      30.0      30.0       1.0  0.0   9.0   \n",
              "3               0.0      2.0       0.0       0.0       0.0  0.0  11.0   \n",
              "4               0.0      2.0       3.0       0.0       0.0  0.0  11.0   \n",
              "...             ...      ...       ...       ...       ...  ...   ...   \n",
              "249044          0.0      3.0       0.0       5.0       0.0  1.0   5.0   \n",
              "249045          0.0      4.0       0.0       0.0       1.0  0.0  11.0   \n",
              "249046          0.0      1.0       0.0       0.0       0.0  0.0   2.0   \n",
              "249047          0.0      3.0       0.0       0.0       0.0  1.0   7.0   \n",
              "249048          0.0      2.0       0.0       0.0       0.0  0.0   9.0   \n",
              "\n",
              "        Education  Income  \n",
              "0             4.0     3.0  \n",
              "1             6.0     1.0  \n",
              "2             4.0     8.0  \n",
              "3             3.0     6.0  \n",
              "4             5.0     4.0  \n",
              "...           ...     ...  \n",
              "249044        6.0     7.0  \n",
              "249045        2.0     4.0  \n",
              "249046        5.0     2.0  \n",
              "249047        5.0     1.0  \n",
              "249048        6.0     2.0  \n",
              "\n",
              "[249049 rows x 23 columns]"
            ],
            "text/html": [
              "\n",
              "  <div id=\"df-f220072d-5333-4a35-9380-4d46ba7685b2\">\n",
              "    <div class=\"colab-df-container\">\n",
              "      <div>\n",
              "<style scoped>\n",
              "    .dataframe tbody tr th:only-of-type {\n",
              "        vertical-align: middle;\n",
              "    }\n",
              "\n",
              "    .dataframe tbody tr th {\n",
              "        vertical-align: top;\n",
              "    }\n",
              "\n",
              "    .dataframe thead th {\n",
              "        text-align: right;\n",
              "    }\n",
              "</style>\n",
              "<table border=\"1\" class=\"dataframe\">\n",
              "  <thead>\n",
              "    <tr style=\"text-align: right;\">\n",
              "      <th></th>\n",
              "      <th>Unnamed: 0</th>\n",
              "      <th>Diabetes_012</th>\n",
              "      <th>HighBP</th>\n",
              "      <th>HighChol</th>\n",
              "      <th>CholCheck</th>\n",
              "      <th>BMI</th>\n",
              "      <th>Smoker</th>\n",
              "      <th>Stroke</th>\n",
              "      <th>HeartDiseaseorAttack</th>\n",
              "      <th>PhysActivity</th>\n",
              "      <th>...</th>\n",
              "      <th>AnyHealthcare</th>\n",
              "      <th>NoDocbcCost</th>\n",
              "      <th>GenHlth</th>\n",
              "      <th>MentHlth</th>\n",
              "      <th>PhysHlth</th>\n",
              "      <th>DiffWalk</th>\n",
              "      <th>Sex</th>\n",
              "      <th>Age</th>\n",
              "      <th>Education</th>\n",
              "      <th>Income</th>\n",
              "    </tr>\n",
              "  </thead>\n",
              "  <tbody>\n",
              "    <tr>\n",
              "      <th>0</th>\n",
              "      <td>0</td>\n",
              "      <td>0.0</td>\n",
              "      <td>1.0</td>\n",
              "      <td>1.0</td>\n",
              "      <td>1.0</td>\n",
              "      <td>40.0</td>\n",
              "      <td>1.0</td>\n",
              "      <td>0.0</td>\n",
              "      <td>0.0</td>\n",
              "      <td>0.0</td>\n",
              "      <td>...</td>\n",
              "      <td>1.0</td>\n",
              "      <td>0.0</td>\n",
              "      <td>5.0</td>\n",
              "      <td>18.0</td>\n",
              "      <td>15.0</td>\n",
              "      <td>1.0</td>\n",
              "      <td>0.0</td>\n",
              "      <td>9.0</td>\n",
              "      <td>4.0</td>\n",
              "      <td>3.0</td>\n",
              "    </tr>\n",
              "    <tr>\n",
              "      <th>1</th>\n",
              "      <td>1</td>\n",
              "      <td>0.0</td>\n",
              "      <td>0.0</td>\n",
              "      <td>0.0</td>\n",
              "      <td>0.0</td>\n",
              "      <td>25.0</td>\n",
              "      <td>1.0</td>\n",
              "      <td>0.0</td>\n",
              "      <td>0.0</td>\n",
              "      <td>1.0</td>\n",
              "      <td>...</td>\n",
              "      <td>0.0</td>\n",
              "      <td>1.0</td>\n",
              "      <td>3.0</td>\n",
              "      <td>0.0</td>\n",
              "      <td>0.0</td>\n",
              "      <td>0.0</td>\n",
              "      <td>0.0</td>\n",
              "      <td>7.0</td>\n",
              "      <td>6.0</td>\n",
              "      <td>1.0</td>\n",
              "    </tr>\n",
              "    <tr>\n",
              "      <th>2</th>\n",
              "      <td>2</td>\n",
              "      <td>0.0</td>\n",
              "      <td>1.0</td>\n",
              "      <td>1.0</td>\n",
              "      <td>1.0</td>\n",
              "      <td>28.0</td>\n",
              "      <td>0.0</td>\n",
              "      <td>0.0</td>\n",
              "      <td>0.0</td>\n",
              "      <td>0.0</td>\n",
              "      <td>...</td>\n",
              "      <td>1.0</td>\n",
              "      <td>1.0</td>\n",
              "      <td>5.0</td>\n",
              "      <td>30.0</td>\n",
              "      <td>30.0</td>\n",
              "      <td>1.0</td>\n",
              "      <td>0.0</td>\n",
              "      <td>9.0</td>\n",
              "      <td>4.0</td>\n",
              "      <td>8.0</td>\n",
              "    </tr>\n",
              "    <tr>\n",
              "      <th>3</th>\n",
              "      <td>3</td>\n",
              "      <td>0.0</td>\n",
              "      <td>1.0</td>\n",
              "      <td>0.0</td>\n",
              "      <td>1.0</td>\n",
              "      <td>27.0</td>\n",
              "      <td>0.0</td>\n",
              "      <td>0.0</td>\n",
              "      <td>0.0</td>\n",
              "      <td>1.0</td>\n",
              "      <td>...</td>\n",
              "      <td>1.0</td>\n",
              "      <td>0.0</td>\n",
              "      <td>2.0</td>\n",
              "      <td>0.0</td>\n",
              "      <td>0.0</td>\n",
              "      <td>0.0</td>\n",
              "      <td>0.0</td>\n",
              "      <td>11.0</td>\n",
              "      <td>3.0</td>\n",
              "      <td>6.0</td>\n",
              "    </tr>\n",
              "    <tr>\n",
              "      <th>4</th>\n",
              "      <td>4</td>\n",
              "      <td>0.0</td>\n",
              "      <td>1.0</td>\n",
              "      <td>1.0</td>\n",
              "      <td>1.0</td>\n",
              "      <td>24.0</td>\n",
              "      <td>0.0</td>\n",
              "      <td>0.0</td>\n",
              "      <td>0.0</td>\n",
              "      <td>1.0</td>\n",
              "      <td>...</td>\n",
              "      <td>1.0</td>\n",
              "      <td>0.0</td>\n",
              "      <td>2.0</td>\n",
              "      <td>3.0</td>\n",
              "      <td>0.0</td>\n",
              "      <td>0.0</td>\n",
              "      <td>0.0</td>\n",
              "      <td>11.0</td>\n",
              "      <td>5.0</td>\n",
              "      <td>4.0</td>\n",
              "    </tr>\n",
              "    <tr>\n",
              "      <th>...</th>\n",
              "      <td>...</td>\n",
              "      <td>...</td>\n",
              "      <td>...</td>\n",
              "      <td>...</td>\n",
              "      <td>...</td>\n",
              "      <td>...</td>\n",
              "      <td>...</td>\n",
              "      <td>...</td>\n",
              "      <td>...</td>\n",
              "      <td>...</td>\n",
              "      <td>...</td>\n",
              "      <td>...</td>\n",
              "      <td>...</td>\n",
              "      <td>...</td>\n",
              "      <td>...</td>\n",
              "      <td>...</td>\n",
              "      <td>...</td>\n",
              "      <td>...</td>\n",
              "      <td>...</td>\n",
              "      <td>...</td>\n",
              "      <td>...</td>\n",
              "    </tr>\n",
              "    <tr>\n",
              "      <th>249044</th>\n",
              "      <td>249044</td>\n",
              "      <td>0.0</td>\n",
              "      <td>1.0</td>\n",
              "      <td>1.0</td>\n",
              "      <td>1.0</td>\n",
              "      <td>45.0</td>\n",
              "      <td>0.0</td>\n",
              "      <td>0.0</td>\n",
              "      <td>0.0</td>\n",
              "      <td>0.0</td>\n",
              "      <td>...</td>\n",
              "      <td>1.0</td>\n",
              "      <td>0.0</td>\n",
              "      <td>3.0</td>\n",
              "      <td>0.0</td>\n",
              "      <td>5.0</td>\n",
              "      <td>0.0</td>\n",
              "      <td>1.0</td>\n",
              "      <td>5.0</td>\n",
              "      <td>6.0</td>\n",
              "      <td>7.0</td>\n",
              "    </tr>\n",
              "    <tr>\n",
              "      <th>249045</th>\n",
              "      <td>249045</td>\n",
              "      <td>1.0</td>\n",
              "      <td>1.0</td>\n",
              "      <td>1.0</td>\n",
              "      <td>1.0</td>\n",
              "      <td>18.0</td>\n",
              "      <td>0.0</td>\n",
              "      <td>0.0</td>\n",
              "      <td>0.0</td>\n",
              "      <td>0.0</td>\n",
              "      <td>...</td>\n",
              "      <td>1.0</td>\n",
              "      <td>0.0</td>\n",
              "      <td>4.0</td>\n",
              "      <td>0.0</td>\n",
              "      <td>0.0</td>\n",
              "      <td>1.0</td>\n",
              "      <td>0.0</td>\n",
              "      <td>11.0</td>\n",
              "      <td>2.0</td>\n",
              "      <td>4.0</td>\n",
              "    </tr>\n",
              "    <tr>\n",
              "      <th>249046</th>\n",
              "      <td>249046</td>\n",
              "      <td>0.0</td>\n",
              "      <td>0.0</td>\n",
              "      <td>0.0</td>\n",
              "      <td>1.0</td>\n",
              "      <td>28.0</td>\n",
              "      <td>0.0</td>\n",
              "      <td>0.0</td>\n",
              "      <td>0.0</td>\n",
              "      <td>1.0</td>\n",
              "      <td>...</td>\n",
              "      <td>1.0</td>\n",
              "      <td>0.0</td>\n",
              "      <td>1.0</td>\n",
              "      <td>0.0</td>\n",
              "      <td>0.0</td>\n",
              "      <td>0.0</td>\n",
              "      <td>0.0</td>\n",
              "      <td>2.0</td>\n",
              "      <td>5.0</td>\n",
              "      <td>2.0</td>\n",
              "    </tr>\n",
              "    <tr>\n",
              "      <th>249047</th>\n",
              "      <td>249047</td>\n",
              "      <td>0.0</td>\n",
              "      <td>1.0</td>\n",
              "      <td>0.0</td>\n",
              "      <td>1.0</td>\n",
              "      <td>23.0</td>\n",
              "      <td>0.0</td>\n",
              "      <td>0.0</td>\n",
              "      <td>0.0</td>\n",
              "      <td>0.0</td>\n",
              "      <td>...</td>\n",
              "      <td>1.0</td>\n",
              "      <td>0.0</td>\n",
              "      <td>3.0</td>\n",
              "      <td>0.0</td>\n",
              "      <td>0.0</td>\n",
              "      <td>0.0</td>\n",
              "      <td>1.0</td>\n",
              "      <td>7.0</td>\n",
              "      <td>5.0</td>\n",
              "      <td>1.0</td>\n",
              "    </tr>\n",
              "    <tr>\n",
              "      <th>249048</th>\n",
              "      <td>249048</td>\n",
              "      <td>1.0</td>\n",
              "      <td>1.0</td>\n",
              "      <td>1.0</td>\n",
              "      <td>1.0</td>\n",
              "      <td>25.0</td>\n",
              "      <td>0.0</td>\n",
              "      <td>0.0</td>\n",
              "      <td>1.0</td>\n",
              "      <td>1.0</td>\n",
              "      <td>...</td>\n",
              "      <td>1.0</td>\n",
              "      <td>0.0</td>\n",
              "      <td>2.0</td>\n",
              "      <td>0.0</td>\n",
              "      <td>0.0</td>\n",
              "      <td>0.0</td>\n",
              "      <td>0.0</td>\n",
              "      <td>9.0</td>\n",
              "      <td>6.0</td>\n",
              "      <td>2.0</td>\n",
              "    </tr>\n",
              "  </tbody>\n",
              "</table>\n",
              "<p>249049 rows × 23 columns</p>\n",
              "</div>\n",
              "      <button class=\"colab-df-convert\" onclick=\"convertToInteractive('df-f220072d-5333-4a35-9380-4d46ba7685b2')\"\n",
              "              title=\"Convert this dataframe to an interactive table.\"\n",
              "              style=\"display:none;\">\n",
              "        \n",
              "  <svg xmlns=\"http://www.w3.org/2000/svg\" height=\"24px\"viewBox=\"0 0 24 24\"\n",
              "       width=\"24px\">\n",
              "    <path d=\"M0 0h24v24H0V0z\" fill=\"none\"/>\n",
              "    <path d=\"M18.56 5.44l.94 2.06.94-2.06 2.06-.94-2.06-.94-.94-2.06-.94 2.06-2.06.94zm-11 1L8.5 8.5l.94-2.06 2.06-.94-2.06-.94L8.5 2.5l-.94 2.06-2.06.94zm10 10l.94 2.06.94-2.06 2.06-.94-2.06-.94-.94-2.06-.94 2.06-2.06.94z\"/><path d=\"M17.41 7.96l-1.37-1.37c-.4-.4-.92-.59-1.43-.59-.52 0-1.04.2-1.43.59L10.3 9.45l-7.72 7.72c-.78.78-.78 2.05 0 2.83L4 21.41c.39.39.9.59 1.41.59.51 0 1.02-.2 1.41-.59l7.78-7.78 2.81-2.81c.8-.78.8-2.07 0-2.86zM5.41 20L4 18.59l7.72-7.72 1.47 1.35L5.41 20z\"/>\n",
              "  </svg>\n",
              "      </button>\n",
              "      \n",
              "  <style>\n",
              "    .colab-df-container {\n",
              "      display:flex;\n",
              "      flex-wrap:wrap;\n",
              "      gap: 12px;\n",
              "    }\n",
              "\n",
              "    .colab-df-convert {\n",
              "      background-color: #E8F0FE;\n",
              "      border: none;\n",
              "      border-radius: 50%;\n",
              "      cursor: pointer;\n",
              "      display: none;\n",
              "      fill: #1967D2;\n",
              "      height: 32px;\n",
              "      padding: 0 0 0 0;\n",
              "      width: 32px;\n",
              "    }\n",
              "\n",
              "    .colab-df-convert:hover {\n",
              "      background-color: #E2EBFA;\n",
              "      box-shadow: 0px 1px 2px rgba(60, 64, 67, 0.3), 0px 1px 3px 1px rgba(60, 64, 67, 0.15);\n",
              "      fill: #174EA6;\n",
              "    }\n",
              "\n",
              "    [theme=dark] .colab-df-convert {\n",
              "      background-color: #3B4455;\n",
              "      fill: #D2E3FC;\n",
              "    }\n",
              "\n",
              "    [theme=dark] .colab-df-convert:hover {\n",
              "      background-color: #434B5C;\n",
              "      box-shadow: 0px 1px 3px 1px rgba(0, 0, 0, 0.15);\n",
              "      filter: drop-shadow(0px 1px 2px rgba(0, 0, 0, 0.3));\n",
              "      fill: #FFFFFF;\n",
              "    }\n",
              "  </style>\n",
              "\n",
              "      <script>\n",
              "        const buttonEl =\n",
              "          document.querySelector('#df-f220072d-5333-4a35-9380-4d46ba7685b2 button.colab-df-convert');\n",
              "        buttonEl.style.display =\n",
              "          google.colab.kernel.accessAllowed ? 'block' : 'none';\n",
              "\n",
              "        async function convertToInteractive(key) {\n",
              "          const element = document.querySelector('#df-f220072d-5333-4a35-9380-4d46ba7685b2');\n",
              "          const dataTable =\n",
              "            await google.colab.kernel.invokeFunction('convertToInteractive',\n",
              "                                                     [key], {});\n",
              "          if (!dataTable) return;\n",
              "\n",
              "          const docLinkHtml = 'Like what you see? Visit the ' +\n",
              "            '<a target=\"_blank\" href=https://colab.research.google.com/notebooks/data_table.ipynb>data table notebook</a>'\n",
              "            + ' to learn more about interactive tables.';\n",
              "          element.innerHTML = '';\n",
              "          dataTable['output_type'] = 'display_data';\n",
              "          await google.colab.output.renderOutput(dataTable, element);\n",
              "          const docLink = document.createElement('div');\n",
              "          docLink.innerHTML = docLinkHtml;\n",
              "          element.appendChild(docLink);\n",
              "        }\n",
              "      </script>\n",
              "    </div>\n",
              "  </div>\n",
              "  "
            ]
          },
          "metadata": {},
          "execution_count": 4
        }
      ]
    },
    {
      "cell_type": "code",
      "execution_count": null,
      "metadata": {
        "id": "JRXJksRrEtuR"
      },
      "outputs": [],
      "source": [
        "data_clf.drop(columns = [\"Unnamed: 0\"], inplace=True)\n",
        "#data_reg.drop(columns = [\"Unnamed: 0\"], inplace=True)"
      ]
    },
    {
      "cell_type": "code",
      "execution_count": null,
      "metadata": {
        "id": "3jsmqL4CGHwj"
      },
      "outputs": [],
      "source": [
        "y_clf = data_clf[\"Diabetes_012\"]\n",
        "X_clf = data_clf.drop([\"Diabetes_012\"], axis=1)"
      ]
    },
    {
      "cell_type": "code",
      "execution_count": null,
      "metadata": {
        "id": "FpyJ0QUQGTvM"
      },
      "outputs": [],
      "source": [
        "y_reg = data_reg[\"price_usd\"]\n",
        "X_reg = data_reg.drop([\"price_usd\"], axis=1)"
      ]
    },
    {
      "cell_type": "code",
      "execution_count": null,
      "metadata": {
        "id": "FFSpyntBGmuL"
      },
      "outputs": [],
      "source": [
        "from sklearn.model_selection import train_test_split\n",
        "\n",
        "#X_reg_train, X_reg_test, y_reg_train, y_reg_test = train_test_split(X_reg,y_reg,test_size=0.2)\n",
        "X_clf_train, X_clf_test, y_clf_train, y_clf_test = train_test_split(X_clf,y_clf,stratify=y_clf,test_size=0.2)"
      ]
    },
    {
      "cell_type": "code",
      "source": [
        "from sklearn.preprocessing import StandardScaler\n",
        "scaler = StandardScaler().fit(X_clf_train)\n",
        "X_clf_train = scaler.transform(X_clf_train)\n",
        "X_clf_test = scaler.transform(X_clf_test)"
      ],
      "metadata": {
        "id": "xrk1W8MbU8Ap"
      },
      "execution_count": null,
      "outputs": []
    },
    {
      "cell_type": "code",
      "source": [
        "from imblearn.under_sampling import RandomUnderSampler\n",
        "undersampler = RandomUnderSampler()\n",
        "X_clf_train, y_clf_train = undersampler.fit_resample(X_clf_train, y_clf_train)"
      ],
      "metadata": {
        "id": "MlS-gIb7VISF"
      },
      "execution_count": null,
      "outputs": []
    },
    {
      "cell_type": "code",
      "execution_count": null,
      "metadata": {
        "id": "q2_Fd6jJHbb1"
      },
      "outputs": [],
      "source": [
        "from sklearn.metrics import mean_squared_error, mean_absolute_error, r2_score\n",
        "from sklearn.metrics import confusion_matrix, classification_report"
      ]
    },
    {
      "cell_type": "code",
      "execution_count": null,
      "metadata": {
        "id": "vOZOGIoPHglg"
      },
      "outputs": [],
      "source": [
        "import tensorflow as tf\n",
        "import numpy as np"
      ]
    },
    {
      "cell_type": "markdown",
      "metadata": {
        "id": "WFlYTTZaIZHM"
      },
      "source": [
        "##Регрессия"
      ]
    },
    {
      "cell_type": "code",
      "execution_count": null,
      "metadata": {
        "id": "4LVZNlRVIa0u"
      },
      "outputs": [],
      "source": [
        "model_regression = tf.keras.Sequential(\n",
        "    [\n",
        "        tf.keras.layers.Dense(64, activation=\"relu\", input_shape=(1239,)),\n",
        "        tf.keras.layers.Dense(32, activation=\"linear\"),\n",
        "        tf.keras.layers.Dropout(0.2),\n",
        "        tf.keras.layers.Dense(16, activation=\"relu\"),\n",
        "        tf.keras.layers.Dropout(0.1),\n",
        "        tf.keras.layers.Dense(1, activation=\"linear\"),\n",
        "    ]\n",
        ")"
      ]
    },
    {
      "cell_type": "code",
      "execution_count": null,
      "metadata": {
        "id": "yqeQmRRGJE7R",
        "colab": {
          "base_uri": "https://localhost:8080/"
        },
        "outputId": "1a4ae0cb-1919-4fcc-80fc-9c030f1bf504"
      },
      "outputs": [
        {
          "output_type": "stream",
          "name": "stdout",
          "text": [
            "Model: \"sequential\"\n",
            "_________________________________________________________________\n",
            " Layer (type)                Output Shape              Param #   \n",
            "=================================================================\n",
            " dense (Dense)               (None, 64)                79360     \n",
            "                                                                 \n",
            " dense_1 (Dense)             (None, 32)                2080      \n",
            "                                                                 \n",
            " dropout (Dropout)           (None, 32)                0         \n",
            "                                                                 \n",
            " dense_2 (Dense)             (None, 16)                528       \n",
            "                                                                 \n",
            " dropout_1 (Dropout)         (None, 16)                0         \n",
            "                                                                 \n",
            " dense_3 (Dense)             (None, 1)                 17        \n",
            "                                                                 \n",
            "=================================================================\n",
            "Total params: 81,985\n",
            "Trainable params: 81,985\n",
            "Non-trainable params: 0\n",
            "_________________________________________________________________\n"
          ]
        }
      ],
      "source": [
        "model_regression.summary()"
      ]
    },
    {
      "cell_type": "code",
      "execution_count": null,
      "metadata": {
        "id": "XdqQeIjxJsWN"
      },
      "outputs": [],
      "source": [
        "model_regression.compile(optimizer=tf.keras.optimizers.Adam(learning_rate=0.005), loss=\"mse\")"
      ]
    },
    {
      "cell_type": "code",
      "execution_count": null,
      "metadata": {
        "id": "LDThUPjuJyJ0"
      },
      "outputs": [],
      "source": [
        "model_regression.fit(X_reg_train, y_reg_train, epochs=30)"
      ]
    },
    {
      "cell_type": "code",
      "execution_count": null,
      "metadata": {
        "id": "FJ2NqF1H8oQ3"
      },
      "outputs": [],
      "source": [
        "print(mean_absolute_error(y_reg_test, model_regression.predict(X_reg_test)))\n",
        "print(mean_squared_error(y_reg_test, model_regression.predict(X_reg_test)))\n",
        "print(r2_score(y_reg_test, model_regression.predict(X_reg_test)))"
      ]
    },
    {
      "cell_type": "code",
      "source": [
        "model_regression.save('model_3.h5')"
      ],
      "metadata": {
        "id": "4GH89vAAn_YX"
      },
      "execution_count": null,
      "outputs": []
    },
    {
      "cell_type": "markdown",
      "metadata": {
        "id": "edQ9YpgECGAx"
      },
      "source": [
        "##Классификация"
      ]
    },
    {
      "cell_type": "code",
      "execution_count": null,
      "metadata": {
        "id": "14CpBkoKFpPR"
      },
      "outputs": [],
      "source": [
        "w0 = 1 / y_clf_train[y_clf_train==0].shape[0]\n",
        "w1 = 1 / y_clf_train[y_clf_train==1].shape[0]"
      ]
    },
    {
      "cell_type": "code",
      "execution_count": null,
      "metadata": {
        "id": "SZkxcRZdCIZA",
        "colab": {
          "base_uri": "https://localhost:8080/"
        },
        "outputId": "d8b4f1c0-10b0-41b6-b27e-44d05d00eb12"
      },
      "outputs": [
        {
          "output_type": "execute_result",
          "data": {
            "text/plain": [
              "<keras.callbacks.History at 0x7f3934e54f10>"
            ]
          },
          "metadata": {},
          "execution_count": 16
        }
      ],
      "source": [
        "model_classification = tf.keras.Sequential(\n",
        "    [\n",
        "        tf.keras.layers.Dense(64, activation=\"relu\", input_shape=(21,)),\n",
        "        tf.keras.layers.Dense(128, activation=\"relu\"),\n",
        "        tf.keras.layers.Dropout(0.05),\n",
        "        tf.keras.layers.Dense(64, activation=\"relu\"),\n",
        "        tf.keras.layers.Dense(32, activation=\"relu\"),\n",
        "        tf.keras.layers.Dense(16, activation=\"relu\"),\n",
        "        tf.keras.layers.Dense(1, activation=\"sigmoid\"),\n",
        "    ]\n",
        ")\n",
        "model_classification.compile(optimizer=tf.keras.optimizers.Adam(learning_rate=0.001), loss=\"binary_crossentropy\")\n",
        "model_classification.fit(X_clf_train, y_clf_train, epochs=25, verbose=None)"
      ]
    },
    {
      "cell_type": "code",
      "source": [
        "model_classification.summary()"
      ],
      "metadata": {
        "colab": {
          "base_uri": "https://localhost:8080/"
        },
        "id": "0ePvowBmSdac",
        "outputId": "6a4133cd-5755-489a-fff2-d62fc31de1ff"
      },
      "execution_count": null,
      "outputs": [
        {
          "output_type": "stream",
          "name": "stdout",
          "text": [
            "Model: \"sequential_1\"\n",
            "_________________________________________________________________\n",
            " Layer (type)                Output Shape              Param #   \n",
            "=================================================================\n",
            " dense_4 (Dense)             (None, 64)                1408      \n",
            "                                                                 \n",
            " dense_5 (Dense)             (None, 128)               8320      \n",
            "                                                                 \n",
            " dropout_2 (Dropout)         (None, 128)               0         \n",
            "                                                                 \n",
            " dense_6 (Dense)             (None, 64)                8256      \n",
            "                                                                 \n",
            " dense_7 (Dense)             (None, 32)                2080      \n",
            "                                                                 \n",
            " dense_8 (Dense)             (None, 16)                528       \n",
            "                                                                 \n",
            " dense_9 (Dense)             (None, 1)                 17        \n",
            "                                                                 \n",
            "=================================================================\n",
            "Total params: 20,609\n",
            "Trainable params: 20,609\n",
            "Non-trainable params: 0\n",
            "_________________________________________________________________\n"
          ]
        }
      ]
    },
    {
      "cell_type": "code",
      "execution_count": null,
      "metadata": {
        "id": "qQjf72V4GCqO",
        "colab": {
          "base_uri": "https://localhost:8080/"
        },
        "outputId": "a84d2326-183e-42c1-bcc0-e4253264d22b"
      },
      "outputs": [
        {
          "output_type": "stream",
          "name": "stdout",
          "text": [
            "              precision    recall  f1-score   support\n",
            "\n",
            "         0.0       0.95      0.71      0.81     42741\n",
            "         1.0       0.31      0.77      0.44      7069\n",
            "\n",
            "    accuracy                           0.72     49810\n",
            "   macro avg       0.63      0.74      0.62     49810\n",
            "weighted avg       0.86      0.72      0.76     49810\n",
            "\n",
            "[[30369 12372]\n",
            " [ 1634  5435]]\n"
          ]
        }
      ],
      "source": [
        "y_pred = np.around(model_classification.predict(X_clf_test, verbose=None))\n",
        "print(classification_report(y_clf_test, y_pred))\n",
        "print(confusion_matrix(y_clf_test, y_pred))"
      ]
    },
    {
      "cell_type": "code",
      "source": [
        "y_pred"
      ],
      "metadata": {
        "id": "Vpg9LQIDx4lb",
        "outputId": "8dc6a011-31ba-442a-f45a-14efeaefd16e",
        "colab": {
          "base_uri": "https://localhost:8080/"
        }
      },
      "execution_count": null,
      "outputs": [
        {
          "output_type": "execute_result",
          "data": {
            "text/plain": [
              "array([[1.],\n",
              "       [1.],\n",
              "       [0.],\n",
              "       ...,\n",
              "       [0.],\n",
              "       [0.],\n",
              "       [1.]], dtype=float32)"
            ]
          },
          "metadata": {},
          "execution_count": 14
        }
      ]
    },
    {
      "cell_type": "code",
      "source": [
        "model_classification.save('model_3.h5')"
      ],
      "metadata": {
        "id": "icSbOdewWKez"
      },
      "execution_count": null,
      "outputs": []
    },
    {
      "cell_type": "markdown",
      "metadata": {
        "id": "pR0GbCOMc2Yw"
      },
      "source": [
        "##Задание 2"
      ]
    },
    {
      "cell_type": "code",
      "execution_count": null,
      "metadata": {
        "id": "wsEebufzhByy"
      },
      "outputs": [],
      "source": [
        "pip install numdifftools"
      ]
    },
    {
      "cell_type": "code",
      "execution_count": null,
      "metadata": {
        "id": "MQXdlKPvJysY"
      },
      "outputs": [],
      "source": [
        "import numdifftools as nd\n",
        "\n",
        "class NeuroLayer:\n",
        "\n",
        "    def __init__(self, numOfNeurons: int, activation: str) -> None:\n",
        "        allowedActivation = ['sigmoid', 'tanh', 'relu', 'linear']\n",
        "        self.n = numOfNeurons\n",
        "        self.connectedToPrevious = np.array([])\n",
        "        if activation in allowedActivation:\n",
        "            if activation == 'sigmoid':\n",
        "                self.af = self.sigmoid\n",
        "            elif activation == 'tanh':\n",
        "                self.af = self.tanh\n",
        "            elif activation == 'relu':\n",
        "                self.af = self.relu\n",
        "            elif activation == 'linear':\n",
        "                self.af = self.linear\n",
        "\n",
        "    def sigmoid(self, x: np.ndarray) -> np.ndarray:\n",
        "        return 1/(1+np.exp(-1 * x))\n",
        "\n",
        "    def tanh(self, x: np.ndarray) -> np.ndarray:\n",
        "        return np.tanh(x)\n",
        "\n",
        "    def relu(self, x: np.ndarray) -> np.ndarray:\n",
        "        return np.maximum(x, 0)\n",
        "\n",
        "    def linear(self, x: np.ndarray) -> np.ndarray:\n",
        "        return x\n",
        "\n",
        "    def forward(self, x: np.ndarray) -> np.ndarray:\n",
        "        self.x = x\n",
        "        temp = np.dot(self.connectedToPrevious, self.x) + self.b\n",
        "        self.a = self.af(temp)\n",
        "        self.ga = nd.Derivative(self.af)(temp)\n",
        "        return self.a\n",
        "\n",
        "    def fast_forward(self, x: np.ndarray) -> np.ndarray:\n",
        "        return self.af(np.dot(self.connectedToPrevious, x) + self.b)\n",
        "\n",
        "    def backward(self, gr: np.ndarray, m, lr) -> np.ndarray:\n",
        "        buf = np.multiply(self.ga.T, np.dot(gr, m))\n",
        "        self.b -= lr * buf.T\n",
        "        self.connectedToPrevious -= lr*np.dot(self.x, buf).T\n",
        "        return buf"
      ]
    },
    {
      "cell_type": "code",
      "execution_count": null,
      "metadata": {
        "id": "iqENn_irN8E4"
      },
      "outputs": [],
      "source": [
        "class NeuroNet:\n",
        "    def __init__(self, sequence: list, input_shape: tuple) -> None:\n",
        "        self.layers = sequence\n",
        "        buf = np.random.normal(0, 1, (self.layers[0].n, input_shape[0]))\n",
        "        self.matrices = [buf]\n",
        "        self.layers[0].connectedToPrevious = buf\n",
        "        self.layers[0].b = np.random.normal(0, 1, (self.layers[0].n, 1))\n",
        "\n",
        "    def __MSE(self, yp, yr):\n",
        "        return np.mean((yr-yp)**2)\n",
        "\n",
        "    def compile(self, loss: str) -> None:\n",
        "        for i in range(len(self.layers) - 1):\n",
        "            buf = np.random.normal(0, 1, (self.layers[i+1].n, self.layers[i].n))\n",
        "            self.matrices.append(buf)\n",
        "            self.layers[i+1].connectedToPrevious = buf\n",
        "            self.layers[i+1].b = np.random.normal(0, 1, (self.layers[i+1].n, 1))\n",
        "\n",
        "    def __max_batches(self, n: int) -> int:\n",
        "        i = n // 2\n",
        "        m = 20 if n < 100 else 250\n",
        "        while i > m:\n",
        "            if n % i == 0:\n",
        "                return i\n",
        "            i -= 1\n",
        "        return i\n",
        "\n",
        "    def fit(self, X:pd.DataFrame, y:pd.Series, e:int, rate: float = 0.01) -> np.ndarray:\n",
        "        X = X.to_numpy()\n",
        "        for i in range(e):\n",
        "            print(f\"Initializing epoch {i+1} of {e}\")\n",
        "\n",
        "            nbatches = self.__max_batches(len(X))\n",
        "\n",
        "            batchSize = len(X) // nbatches\n",
        "\n",
        "            start = 0\n",
        "\n",
        "            totalp = []\n",
        "\n",
        "            for i in range(batchSize, nbatches, batchSize):\n",
        "                batch = X[start:i]\n",
        "\n",
        "                for ind, ob in enumerate(batch):\n",
        "                    ob = ob[np.newaxis, :].T\n",
        "                    for layer in self.layers:\n",
        "                        ob = layer.forward(ob)\n",
        "\n",
        "                    pred = ob\n",
        "                    totalp.append(pred.flatten()[0])\n",
        "\n",
        "                    gr = nd.Gradient(self.__MSE)(pred, y.values[start:i][ind])\n",
        "\n",
        "                    m = 1\n",
        "\n",
        "                    for layer in self.layers[::-1]:\n",
        "                        gr = layer.backward(gr, m, rate)\n",
        "                        m = layer.connectedToPrevious\n",
        "\n",
        "                start += batchSize\n",
        "\n",
        "        self.matrices = [layer.connectedToPrevious for layer in self.layers]\n",
        "\n",
        "    def predict(self, X: pd.DataFrame) -> np.ndarray:\n",
        "\n",
        "        X = X.to_numpy()\n",
        "        pred = []\n",
        "        for ind, ob in enumerate(X):\n",
        "            print(f\"{ind}/{X.shape[0]}\", end='\\r')\n",
        "            ob = ob[np.newaxis, :].T\n",
        "            for layer in self.layers:\n",
        "                ob = layer.fast_forward(ob)\n",
        "            pred.append(ob.flatten()[0])\n",
        "\n",
        "        return np.array(pred)"
      ]
    },
    {
      "cell_type": "code",
      "execution_count": null,
      "metadata": {
        "id": "RPjd9qKgprLL"
      },
      "outputs": [],
      "source": [
        "layer1 = NeuroLayer(32, 'relu')\n",
        "layer2 = NeuroLayer(16, 'relu')\n",
        "layer3 = NeuroLayer(1, 'sigmoid')\n",
        "\n",
        "layer1.connectedToPrevious = np.random.normal(0, 1, (32, 21))\n",
        "layer2.connectedToPrevious = np.random.normal(0, 1, (16, 32))\n",
        "layer3.connectedToPrevious = np.random.normal(0, 1, (1, 16))\n",
        "\n",
        "net = NeuroNet([layer1, layer2, layer3], (21,))\n",
        "\n",
        "net.compile('MSE')\n",
        "\n",
        "net.fit(X_clf_train, y_clf_train, 5, 0.01)\n",
        "\n",
        "pred = net.predict(X_clf_test)"
      ]
    }
  ],
  "metadata": {
    "colab": {
      "provenance": [],
      "authorship_tag": "ABX9TyOr3mVe6r+z/PqwfWx/n7zz",
      "include_colab_link": true
    },
    "kernelspec": {
      "display_name": "Python 3",
      "name": "python3"
    },
    "language_info": {
      "name": "python"
    }
  },
  "nbformat": 4,
  "nbformat_minor": 0
}