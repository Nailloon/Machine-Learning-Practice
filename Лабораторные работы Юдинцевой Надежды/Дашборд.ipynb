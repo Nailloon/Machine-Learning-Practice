{
  "cells": [
    {
      "cell_type": "markdown",
      "metadata": {
        "id": "view-in-github",
        "colab_type": "text"
      },
      "source": [
        "<a href=\"https://colab.research.google.com/github/Nailloon/Machine-Learning-Practice/blob/main/%D0%9B%D0%B0%D0%B1%D0%BE%D1%80%D0%B0%D1%82%D0%BE%D1%80%D0%BD%D1%8B%D0%B5%20%D1%80%D0%B0%D0%B1%D0%BE%D1%82%D1%8B%20%D0%AE%D0%B4%D0%B8%D0%BD%D1%86%D0%B5%D0%B2%D0%BE%D0%B9%20%D0%9D%D0%B0%D0%B4%D0%B5%D0%B6%D0%B4%D1%8B/%D0%94%D0%B0%D1%88%D0%B1%D0%BE%D1%80%D0%B4.ipynb\" target=\"_parent\"><img src=\"https://colab.research.google.com/assets/colab-badge.svg\" alt=\"Open In Colab\"/></a>"
      ]
    },
    {
      "cell_type": "code",
      "execution_count": null,
      "metadata": {
        "colab": {
          "base_uri": "https://localhost:8080/"
        },
        "id": "4bZn4wTG3YBf",
        "outputId": "7a09c312-cce7-40e3-d2bc-cf81e30b6f99"
      },
      "outputs": [
        {
          "name": "stdout",
          "output_type": "stream",
          "text": [
            "Looking in indexes: https://pypi.org/simple, https://us-python.pkg.dev/colab-wheels/public/simple/\n",
            "Collecting streamlit\n",
            "  Downloading streamlit-1.23.1-py2.py3-none-any.whl (8.9 MB)\n",
            "\u001b[2K     \u001b[90m━━━━━━━━━━━━━━━━━━━━━━━━━━━━━━━━━━━━━━━━\u001b[0m \u001b[32m8.9/8.9 MB\u001b[0m \u001b[31m50.2 MB/s\u001b[0m eta \u001b[36m0:00:00\u001b[0m\n",
            "\u001b[?25hRequirement already satisfied: altair<6,>=4.0 in /usr/local/lib/python3.10/dist-packages (from streamlit) (4.2.2)\n",
            "Collecting blinker<2,>=1.0.0 (from streamlit)\n",
            "  Downloading blinker-1.6.2-py3-none-any.whl (13 kB)\n",
            "Requirement already satisfied: cachetools<6,>=4.0 in /usr/local/lib/python3.10/dist-packages (from streamlit) (5.3.0)\n",
            "Requirement already satisfied: click<9,>=7.0 in /usr/local/lib/python3.10/dist-packages (from streamlit) (8.1.3)\n",
            "Collecting importlib-metadata<7,>=1.4 (from streamlit)\n",
            "  Downloading importlib_metadata-6.6.0-py3-none-any.whl (22 kB)\n",
            "Requirement already satisfied: numpy<2,>=1 in /usr/local/lib/python3.10/dist-packages (from streamlit) (1.22.4)\n",
            "Requirement already satisfied: packaging<24,>=14.1 in /usr/local/lib/python3.10/dist-packages (from streamlit) (23.1)\n",
            "Requirement already satisfied: pandas<3,>=0.25 in /usr/local/lib/python3.10/dist-packages (from streamlit) (1.5.3)\n",
            "Requirement already satisfied: pillow<10,>=6.2.0 in /usr/local/lib/python3.10/dist-packages (from streamlit) (8.4.0)\n",
            "Requirement already satisfied: protobuf<5,>=3.20 in /usr/local/lib/python3.10/dist-packages (from streamlit) (3.20.3)\n",
            "Requirement already satisfied: pyarrow>=4.0 in /usr/local/lib/python3.10/dist-packages (from streamlit) (9.0.0)\n",
            "Collecting pympler<2,>=0.9 (from streamlit)\n",
            "  Downloading Pympler-1.0.1-py3-none-any.whl (164 kB)\n",
            "\u001b[2K     \u001b[90m━━━━━━━━━━━━━━━━━━━━━━━━━━━━━━━━━━━━━━\u001b[0m \u001b[32m164.8/164.8 kB\u001b[0m \u001b[31m23.5 MB/s\u001b[0m eta \u001b[36m0:00:00\u001b[0m\n",
            "\u001b[?25hRequirement already satisfied: python-dateutil<3,>=2 in /usr/local/lib/python3.10/dist-packages (from streamlit) (2.8.2)\n",
            "Requirement already satisfied: requests<3,>=2.4 in /usr/local/lib/python3.10/dist-packages (from streamlit) (2.27.1)\n",
            "Requirement already satisfied: rich<14,>=10.11.0 in /usr/local/lib/python3.10/dist-packages (from streamlit) (13.3.4)\n",
            "Requirement already satisfied: tenacity<9,>=8.0.0 in /usr/local/lib/python3.10/dist-packages (from streamlit) (8.2.2)\n",
            "Requirement already satisfied: toml<2 in /usr/local/lib/python3.10/dist-packages (from streamlit) (0.10.2)\n",
            "Requirement already satisfied: typing-extensions<5,>=4.0.1 in /usr/local/lib/python3.10/dist-packages (from streamlit) (4.5.0)\n",
            "Requirement already satisfied: tzlocal<5,>=1.1 in /usr/local/lib/python3.10/dist-packages (from streamlit) (4.3)\n",
            "Collecting validators<1,>=0.2 (from streamlit)\n",
            "  Downloading validators-0.20.0.tar.gz (30 kB)\n",
            "  Preparing metadata (setup.py) ... \u001b[?25l\u001b[?25hdone\n",
            "Collecting gitpython!=3.1.19,<4,>=3 (from streamlit)\n",
            "  Downloading GitPython-3.1.31-py3-none-any.whl (184 kB)\n",
            "\u001b[2K     \u001b[90m━━━━━━━━━━━━━━━━━━━━━━━━━━━━━━━━━━━━━━\u001b[0m \u001b[32m184.3/184.3 kB\u001b[0m \u001b[31m20.5 MB/s\u001b[0m eta \u001b[36m0:00:00\u001b[0m\n",
            "\u001b[?25hCollecting pydeck<1,>=0.1.dev5 (from streamlit)\n",
            "  Downloading pydeck-0.8.1b0-py2.py3-none-any.whl (4.8 MB)\n",
            "\u001b[2K     \u001b[90m━━━━━━━━━━━━━━━━━━━━━━━━━━━━━━━━━━━━━━━━\u001b[0m \u001b[32m4.8/4.8 MB\u001b[0m \u001b[31m73.4 MB/s\u001b[0m eta \u001b[36m0:00:00\u001b[0m\n",
            "\u001b[?25hRequirement already satisfied: tornado<7,>=6.0.3 in /usr/local/lib/python3.10/dist-packages (from streamlit) (6.3.1)\n",
            "Collecting watchdog (from streamlit)\n",
            "  Downloading watchdog-3.0.0-py3-none-manylinux2014_x86_64.whl (82 kB)\n",
            "\u001b[2K     \u001b[90m━━━━━━━━━━━━━━━━━━━━━━━━━━━━━━━━━━━━━━━━\u001b[0m \u001b[32m82.1/82.1 kB\u001b[0m \u001b[31m9.2 MB/s\u001b[0m eta \u001b[36m0:00:00\u001b[0m\n",
            "\u001b[?25hRequirement already satisfied: entrypoints in /usr/local/lib/python3.10/dist-packages (from altair<6,>=4.0->streamlit) (0.4)\n",
            "Requirement already satisfied: jinja2 in /usr/local/lib/python3.10/dist-packages (from altair<6,>=4.0->streamlit) (3.1.2)\n",
            "Requirement already satisfied: jsonschema>=3.0 in /usr/local/lib/python3.10/dist-packages (from altair<6,>=4.0->streamlit) (4.3.3)\n",
            "Requirement already satisfied: toolz in /usr/local/lib/python3.10/dist-packages (from altair<6,>=4.0->streamlit) (0.12.0)\n",
            "Collecting gitdb<5,>=4.0.1 (from gitpython!=3.1.19,<4,>=3->streamlit)\n",
            "  Downloading gitdb-4.0.10-py3-none-any.whl (62 kB)\n",
            "\u001b[2K     \u001b[90m━━━━━━━━━━━━━━━━━━━━━━━━━━━━━━━━━━━━━━━━\u001b[0m \u001b[32m62.7/62.7 kB\u001b[0m \u001b[31m7.5 MB/s\u001b[0m eta \u001b[36m0:00:00\u001b[0m\n",
            "\u001b[?25hRequirement already satisfied: zipp>=0.5 in /usr/local/lib/python3.10/dist-packages (from importlib-metadata<7,>=1.4->streamlit) (3.15.0)\n",
            "Requirement already satisfied: pytz>=2020.1 in /usr/local/lib/python3.10/dist-packages (from pandas<3,>=0.25->streamlit) (2022.7.1)\n",
            "Requirement already satisfied: six>=1.5 in /usr/local/lib/python3.10/dist-packages (from python-dateutil<3,>=2->streamlit) (1.16.0)\n",
            "Requirement already satisfied: urllib3<1.27,>=1.21.1 in /usr/local/lib/python3.10/dist-packages (from requests<3,>=2.4->streamlit) (1.26.15)\n",
            "Requirement already satisfied: certifi>=2017.4.17 in /usr/local/lib/python3.10/dist-packages (from requests<3,>=2.4->streamlit) (2022.12.7)\n",
            "Requirement already satisfied: charset-normalizer~=2.0.0 in /usr/local/lib/python3.10/dist-packages (from requests<3,>=2.4->streamlit) (2.0.12)\n",
            "Requirement already satisfied: idna<4,>=2.5 in /usr/local/lib/python3.10/dist-packages (from requests<3,>=2.4->streamlit) (3.4)\n",
            "Requirement already satisfied: markdown-it-py<3.0.0,>=2.2.0 in /usr/local/lib/python3.10/dist-packages (from rich<14,>=10.11.0->streamlit) (2.2.0)\n",
            "Requirement already satisfied: pygments<3.0.0,>=2.13.0 in /usr/local/lib/python3.10/dist-packages (from rich<14,>=10.11.0->streamlit) (2.14.0)\n",
            "Requirement already satisfied: pytz-deprecation-shim in /usr/local/lib/python3.10/dist-packages (from tzlocal<5,>=1.1->streamlit) (0.1.0.post0)\n",
            "Requirement already satisfied: decorator>=3.4.0 in /usr/local/lib/python3.10/dist-packages (from validators<1,>=0.2->streamlit) (4.4.2)\n",
            "Collecting smmap<6,>=3.0.1 (from gitdb<5,>=4.0.1->gitpython!=3.1.19,<4,>=3->streamlit)\n",
            "  Downloading smmap-5.0.0-py3-none-any.whl (24 kB)\n",
            "Requirement already satisfied: MarkupSafe>=2.0 in /usr/local/lib/python3.10/dist-packages (from jinja2->altair<6,>=4.0->streamlit) (2.1.2)\n",
            "Requirement already satisfied: attrs>=17.4.0 in /usr/local/lib/python3.10/dist-packages (from jsonschema>=3.0->altair<6,>=4.0->streamlit) (23.1.0)\n",
            "Requirement already satisfied: pyrsistent!=0.17.0,!=0.17.1,!=0.17.2,>=0.14.0 in /usr/local/lib/python3.10/dist-packages (from jsonschema>=3.0->altair<6,>=4.0->streamlit) (0.19.3)\n",
            "Requirement already satisfied: mdurl~=0.1 in /usr/local/lib/python3.10/dist-packages (from markdown-it-py<3.0.0,>=2.2.0->rich<14,>=10.11.0->streamlit) (0.1.2)\n",
            "Requirement already satisfied: tzdata in /usr/local/lib/python3.10/dist-packages (from pytz-deprecation-shim->tzlocal<5,>=1.1->streamlit) (2023.3)\n",
            "Building wheels for collected packages: validators\n",
            "  Building wheel for validators (setup.py) ... \u001b[?25l\u001b[?25hdone\n",
            "  Created wheel for validators: filename=validators-0.20.0-py3-none-any.whl size=19579 sha256=c519206d28b152a450224dd027c45dd789271961dd17cec8e1dd0d51cf6d96f3\n",
            "  Stored in directory: /root/.cache/pip/wheels/f2/ed/dd/d3a556ad245ef9dc570c6bcd2f22886d17b0b408dd3bbb9ac3\n",
            "Successfully built validators\n",
            "Installing collected packages: watchdog, validators, smmap, pympler, importlib-metadata, blinker, pydeck, gitdb, gitpython, streamlit\n",
            "Successfully installed blinker-1.6.2 gitdb-4.0.10 gitpython-3.1.31 importlib-metadata-6.6.0 pydeck-0.8.1b0 pympler-1.0.1 smmap-5.0.0 streamlit-1.23.1 validators-0.20.0 watchdog-3.0.0\n"
          ]
        }
      ],
      "source": [
        "!pip install streamlit"
      ]
    },
    {
      "cell_type": "code",
      "execution_count": null,
      "metadata": {
        "colab": {
          "base_uri": "https://localhost:8080/"
        },
        "id": "hc5rOFDI4BTh",
        "outputId": "50538f31-c69c-464e-b206-838d8432b4dc"
      },
      "outputs": [
        {
          "name": "stdout",
          "output_type": "stream",
          "text": [
            "Looking in indexes: https://pypi.org/simple, https://us-python.pkg.dev/colab-wheels/public/simple/\n",
            "Requirement already satisfied: scikit-learn in /usr/local/lib/python3.10/dist-packages (1.2.2)\n",
            "Requirement already satisfied: numpy>=1.17.3 in /usr/local/lib/python3.10/dist-packages (from scikit-learn) (1.22.4)\n",
            "Requirement already satisfied: scipy>=1.3.2 in /usr/local/lib/python3.10/dist-packages (from scikit-learn) (1.10.1)\n",
            "Requirement already satisfied: joblib>=1.1.1 in /usr/local/lib/python3.10/dist-packages (from scikit-learn) (1.2.0)\n",
            "Requirement already satisfied: threadpoolctl>=2.0.0 in /usr/local/lib/python3.10/dist-packages (from scikit-learn) (3.1.0)\n"
          ]
        }
      ],
      "source": [
        "!pip install scikit-learn"
      ]
    },
    {
      "cell_type": "code",
      "execution_count": null,
      "metadata": {
        "id": "zHmSIscM3jvi"
      },
      "outputs": [],
      "source": [
        "import pickle\n",
        "import pandas as pd\n",
        "import numpy as np\n",
        "import tensorflow as tf\n",
        "import streamlit as st\n",
        "from google.colab import drive"
      ]
    },
    {
      "cell_type": "code",
      "execution_count": null,
      "metadata": {
        "colab": {
          "base_uri": "https://localhost:8080/"
        },
        "id": "q5nZ0YGv3elj",
        "outputId": "06f254dd-b056-4c70-b9b4-3e590313ceed"
      },
      "outputs": [
        {
          "name": "stdout",
          "output_type": "stream",
          "text": [
            "Mounted at /content/drive\n"
          ]
        }
      ],
      "source": [
        "drive.mount(\"/content/drive\")"
      ]
    },
    {
      "cell_type": "code",
      "execution_count": null,
      "metadata": {
        "colab": {
          "base_uri": "https://localhost:8080/"
        },
        "id": "3xoK0N-N66Ig",
        "outputId": "04ecafa2-d749-46e3-8d2c-22f5883325ff"
      },
      "outputs": [
        {
          "name": "stdout",
          "output_type": "stream",
          "text": [
            "Writing app.py\n"
          ]
        }
      ],
      "source": [
        "%%writefile app.py\n",
        "import pickle\n",
        "import pandas as pd\n",
        "import numpy as np\n",
        "import streamlit as st\n",
        "import tensorflow as tf\n",
        "import matplotlib.pyplot as plt\n",
        "import seaborn as sns\n",
        "\n",
        "\n",
        "def main():\n",
        "    model_1 = load_model(\"/content/drive/MyDrive/model_1.h5\")\n",
        "    model_2 = load_model(\"/content/drive/MyDrive/model_2.h5\")\n",
        "    model_3 = load_model2(\"/content/drive/MyDrive/model_3.h5\")\n",
        "    test_data = load_test_data(\"/content/drive/MyDrive/diabetes.csv\")\n",
        "    data1 = load_data(\"/content/drive/MyDrive/diabetes.csv\")\n",
        "\n",
        "    page = st.sidebar.selectbox(\n",
        "        \"Выберите страницу\",\n",
        "        [\"Описание задачи и данных\", \"Визуализация зависимостей\" ,\"Запрос к модели\"]\n",
        "    )\n",
        "\n",
        "    if page == \"Описание задачи и данных\":\n",
        "        st.title(\"Описание задачи и данных\")\n",
        "        st.write(\"Выберите страницу слева\")\n",
        "\n",
        "        st.header(\"Описание задачи\")\n",
        "        st.markdown(\"\"\"Набор данных собран с различных веб-ресурсов, чтобы спрогнозировать риск появления диабета\"\"\")\n",
        "\n",
        "        st.write(test_data.iloc[:5, :])\n",
        "\n",
        "        st.header(\"Описание данных\")\n",
        "        st.markdown(\"\"\"Предоставленные бинарные признаки:\n",
        "* Diabetes_012 - есть диабет (1) или нет (0),\n",
        "* HighBP - повышено (1) или нет (0) артериальное давление,\n",
        "* HighChol - повышен (1) или нет (0) холестерин,\n",
        "* CholCheck - была проверка холестерина в последние 5 лет (1) или нет (0),\n",
        "* Smoker - скурили ли вы хотя бы 100 сигарет за всю жизнь (1) или нет (0),\n",
        "* Stroke - был инсульт (1) или нет (0),\n",
        "* HeartDiseaseorAttack - была ишемическая болезнь сердца или инфаркт (1) или нет (0),\n",
        "* PhysActivity - была физическая активность за последние 30 дней, не включая работу, (1) или нет (0),\n",
        "* Fruits - едите ли вы 1 или более фруктов за день (1) или нет (0),\n",
        "* Veggies - едите ли вы 1 или более овощей за день (1) или нет (0),\n",
        "* HvyAlcoholConsump - много ли вы пьете алкоголя (1) или нет (0),\n",
        "* AnyHealthcare - есть медицинская страховка (1) или нет (0),\n",
        "* NoDocbcCost - были ли случаи за последние 12 месяцев, когда вам нужно было обратиться к врачу, но вы не могли этого сделать из-за стоимости (1) или нет (0),\n",
        "* DiffWalk - есть ли трудности при ходьбе или подъеме по лестнице (1) или нет (0),\n",
        "* Sex - женский пол (0) или мужской (1)\n",
        "\n",
        "Числовые признаки:\n",
        "* BMI - индекс массы тела,\n",
        "* GenHlth - какое ваше здоровье по шкале от 1 до 5,\n",
        "* MentHlth - сколько дней за последнее время (за последние 30 дней) ваше психическое здоровье было неудовлетворительным,\n",
        "* PhysHlth - сколько дней за последнее время (за последние 30 дней) ваше физическое здоровье было неудовлетворительным,\n",
        "* Age - 13-уровневая возрастная категория (1 = 18-24, 9 = 60-64, 13 = 80+),\n",
        "* Education - уровень образования (1 - никогда не посещал школу, 2 - классы с 1 по 8, 3 - классы с 9 по 11, 4 - 12 класс, 5 - колледж от 1 до 3 лет, 6 - выпускник колледжа),\n",
        "* Income - шкала доходов (1 - менее 10 000 долларов, 5 - менее 35 000 долларов, 8 - 75 000 долларов и выше)\n",
        "\n",
        "\"\"\")\n",
        "    elif page == \"Визуализация зависимостей\":\n",
        "        st.title(\"Визуализация зависимостей\")\n",
        "        st.write(\"Выберите страницу слева\")\n",
        "        request = st.selectbox(\"Выберите запрос\",[\"Диаграмма корреляции\", \"Диаграмма зависимости целевого признака от остальных\", \"Диаграмма рассеивания\", \"Круговая диаграмма\"])\n",
        "        if request == \"Диаграмма корреляции\":\n",
        "            fig, ax = plt.subplots(figsize=(16,14), dpi= 60)\n",
        "            sns.heatmap(data1.corr(), ax=ax, annot = True)\n",
        "            st.write(fig)\n",
        "        elif request == \"Диаграмма зависимости целевого признака от остальных\":\n",
        "            fig, ax = plt.subplots(nrows=7, ncols=3, figsize=(25, 25))\n",
        "            for idx, feature in enumerate(data1.columns[1:]):\n",
        "                data1.plot(feature, \"Diabetes_012\", subplots=True, kind=\"scatter\", ax=ax[idx // 3, idx % 3])\n",
        "            st.write(fig)\n",
        "        elif request == \"Диаграмма рассеивания\":\n",
        "            x_axis = st.selectbox(\"Выберите столбец для x-axis\", data1.columns)\n",
        "            y_axis = st.selectbox(\"Выберите столбец для y-axis\", data1.columns)\n",
        "            visualize_data(data1, x_axis, y_axis)\n",
        "        elif request == \"Круговая диаграмма\":\n",
        "            labelss = st.selectbox(\"Выберите столбец\", data1.columns)\n",
        "            visual(data1, labelss)\n",
        "    elif page == \"Запрос к модели\":\n",
        "        st.title(\"Запрос к модели\")\n",
        "        st.write(\"Выберите страницу слева\")\n",
        "\n",
        "        HighBP = st.selectbox(\"Повышено ли у вас артериальное давление? 1 - если да, 0 - если нет\", [0, 1])\n",
        "        HighBP = int(HighBP)\n",
        "\n",
        "        HighChol = st.selectbox(\"Повышен ли у вас холестерин? 1 - если да, иначе - 0\", [0, 1])\n",
        "        HighChol = int(HighChol)\n",
        "\n",
        "        CholCheck  = st.selectbox(\"Была ли у вас проверка холестерина за последние 5 лет? 1 - если да, иначе - 0\", [0, 1])\n",
        "        CholCheck  = int(CholCheck)\n",
        "\n",
        "        Smoker  = st.selectbox(\"Скурили ли вы хотя бы 100 сигарет за всю жизнь? 1 - если да, иначе - 0\", [0, 1])\n",
        "        Smoker  = int(Smoker)\n",
        "\n",
        "        Stroke  = st.selectbox(\"Был ли у вас инсульт? 1 - если да, иначе - 0\", [0, 1])\n",
        "        Stroke  = int(Stroke)\n",
        "\n",
        "        HeartDiseaseorAttack  = st.selectbox(\"Были ли у вас ишемическая болезнь сердца или инфаркт? 1 - если да, иначе - 0\", [0, 1])\n",
        "        HeartDiseaseorAttack  = int(HeartDiseaseorAttack)\n",
        "\n",
        "        AnyHealthcare  = st.selectbox(\"Есть ли у вас медицинская страховка? 1 - если да, иначе - 0\", [0, 1])\n",
        "        AnyHealthcare  = int(AnyHealthcare)\n",
        "\n",
        "        DiffWalk  = st.selectbox(\"Есть ли у вас трудности при ходьбе или подъеме по лестнице? 1 - если да, иначе - 0\", [0, 1])\n",
        "        DiffWalk  = int(DiffWalk)\n",
        "\n",
        "        Sex  = st.selectbox(\"0 - женский пол, 1 - мужской пол\", [0, 1])\n",
        "        Sex  = int(Sex)\n",
        "\n",
        "        BMI = st.selectbox(\"Индекс массы тела\", ['менее 28.4', 'более 28.4'])\n",
        "        BMI = 0 if BMI == 'более 28.4' else 1\n",
        "\n",
        "        Age = st.selectbox(\"Возраст\", ['менее 60 лет', 'более 60 лет'])\n",
        "        Age = 0 if Age == 'более 60 лет' else 1\n",
        "\n",
        "        GenHlth = st.number_input(\"Оцените ваше здоровье по 5-балльной шкале\", 1, 5)\n",
        "        GenHlth = 0 if GenHlth >= 3 else 1\n",
        "\n",
        "        if st.button('Предсказать'):\n",
        "            data = [HighBP, HighChol, CholCheck, Smoker, Stroke, HeartDiseaseorAttack, AnyHealthcare, DiffWalk, Sex, BMI, Age, GenHlth, 0, 0, 0, 0, 0, 0, 0, 0, 0]\n",
        "            data = np.array(data).reshape((1, -1))\n",
        "            pred1 = model_1.predict(data)\n",
        "            st.write(f\"Значение, предсказанное с помощью байесовского классификатора: {pred1[0]:.2f}, точность: 0.73\")\n",
        "            pred2 = model_2.predict(data)\n",
        "            st.write(f\"Значение, предсказанное с помощью бэггинга: {pred2[0]:.2f}, точность: 0.73\")\n",
        "            pred3 = np.around(model_3.predict(data, verbose=None))\n",
        "            st.write(f\"Значение, предсказанное с помощью полносвязной нейронной сети: {pred3[0][0]:.2f}, точность: 0.72\")\n",
        "        else:\n",
        "            pass\n",
        "\n",
        "\n",
        "@st.cache_data\n",
        "def visual(data1, labelss):\n",
        "    fig, ax = plt.subplots()\n",
        "    data1.groupby(labelss).size().plot(kind='pie')\n",
        "    plt.show()\n",
        "    st.write(fig)\n",
        "def visualize_data(data1, x_axis, y_axis):\n",
        "    fig, ax = plt.subplots(figsize=(16,14))\n",
        "    ax.scatter(x = data1[x_axis], y = data1[y_axis])\n",
        "    plt.xlabel(x_axis)\n",
        "    plt.ylabel(y_axis)\n",
        "    plt.show()\n",
        "    st.write(fig)\n",
        "def load_model(path_to_file):\n",
        "    with open(path_to_file, 'rb') as model_file:\n",
        "        model = pickle.load(model_file)\n",
        "    return model\n",
        "\n",
        "def load_model2(path_to_file):\n",
        "    with open(path_to_file, 'rb') as model_file:\n",
        "        model = tf.keras.models.load_model(model_file.name)\n",
        "    return model\n",
        "\n",
        "@st.cache_data\n",
        "def load_test_data(path_to_file):\n",
        "    df = pd.read_csv(path_to_file, index_col='Unnamed: 0')\n",
        "    df = df.drop(labels=['Diabetes_012'], axis=1)\n",
        "    return df\n",
        "def load_data(path_to_file):\n",
        "    df = pd.read_csv(path_to_file, index_col='Unnamed: 0')\n",
        "    return df\n",
        "if __name__ == \"__main__\":\n",
        "    main()"
      ]
    },
    {
      "cell_type": "code",
      "execution_count": null,
      "metadata": {
        "colab": {
          "base_uri": "https://localhost:8080/"
        },
        "id": "RL8_7ej97MsA",
        "outputId": "4c68d416-96b9-4c89-91eb-1b91069d2020"
      },
      "outputs": [
        {
          "name": "stdout",
          "output_type": "stream",
          "text": [
            "\u001b[K\u001b[?25h\u001b[37;40mnpm\u001b[0m \u001b[0m\u001b[30;43mWARN\u001b[0m \u001b[0m\u001b[35msaveError\u001b[0m ENOENT: no such file or directory, open '/content/package.json'\n",
            "\u001b[0m\u001b[37;40mnpm\u001b[0m \u001b[0m\u001b[30;43mWARN\u001b[0m \u001b[0m\u001b[35menoent\u001b[0m ENOENT: no such file or directory, open '/content/package.json'\n",
            "\u001b[0m\u001b[37;40mnpm\u001b[0m \u001b[0m\u001b[30;43mWARN\u001b[0m\u001b[35m\u001b[0m content No description\n",
            "\u001b[0m\u001b[37;40mnpm\u001b[0m \u001b[0m\u001b[30;43mWARN\u001b[0m\u001b[35m\u001b[0m content No repository field.\n",
            "\u001b[0m\u001b[37;40mnpm\u001b[0m \u001b[0m\u001b[30;43mWARN\u001b[0m\u001b[35m\u001b[0m content No README data\n",
            "\u001b[0m\u001b[37;40mnpm\u001b[0m \u001b[0m\u001b[30;43mWARN\u001b[0m\u001b[35m\u001b[0m content No license field.\n",
            "\u001b[0m\n",
            "\u001b[K\u001b[?25h+ localtunnel@2.0.2\n",
            "updated 1 package and audited 36 packages in 0.428s\n",
            "\n",
            "3 packages are looking for funding\n",
            "  run `npm fund` for details\n",
            "\n",
            "found \u001b[92m0\u001b[0m vulnerabilities\n",
            "\n"
          ]
        }
      ],
      "source": [
        "!npm install localtunnel"
      ]
    },
    {
      "cell_type": "code",
      "execution_count": null,
      "metadata": {
        "id": "l6ikJzIr7Sei"
      },
      "outputs": [],
      "source": [
        "!streamlit run /content/app.py &>/content/logs.txt &"
      ]
    },
    {
      "cell_type": "code",
      "execution_count": null,
      "metadata": {
        "colab": {
          "base_uri": "https://localhost:8080/"
        },
        "id": "grv7xg1Q9GFg",
        "outputId": "8e716cd2-543b-4251-b220-a23a28381209"
      },
      "outputs": [
        {
          "name": "stdout",
          "output_type": "stream",
          "text": [
            "34.125.202.170"
          ]
        }
      ],
      "source": [
        "!curl https://ipinfo.io/ip"
      ]
    },
    {
      "cell_type": "code",
      "execution_count": null,
      "metadata": {
        "colab": {
          "background_save": true,
          "base_uri": "https://localhost:8080/"
        },
        "id": "V9ZGSFQX7aYe",
        "outputId": "01627fef-f86a-465e-de7d-197b0174e0a5"
      },
      "outputs": [
        {
          "name": "stdout",
          "output_type": "stream",
          "text": [
            "\u001b[K\u001b[?25hnpx: installed 22 in 1.833s\n",
            "your url is: https://khaki-eggs-rescue.loca.lt\n"
          ]
        }
      ],
      "source": [
        "!npx localtunnel --port 8501"
      ]
    }
  ],
  "metadata": {
    "colab": {
      "provenance": [],
      "authorship_tag": "ABX9TyPZVSkt3eeSK6Z8bBNQ8gQO",
      "include_colab_link": true
    },
    "kernelspec": {
      "display_name": "Python 3",
      "name": "python3"
    },
    "language_info": {
      "name": "python"
    }
  },
  "nbformat": 4,
  "nbformat_minor": 0
}