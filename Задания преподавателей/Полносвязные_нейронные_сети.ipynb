{
  "nbformat": 4,
  "nbformat_minor": 0,
  "metadata": {
    "colab": {
      "provenance": [],
      "include_colab_link": true
    },
    "kernelspec": {
      "name": "python3",
      "display_name": "Python 3"
    },
    "language_info": {
      "name": "python"
    }
  },
  "cells": [
    {
      "cell_type": "markdown",
      "metadata": {
        "id": "view-in-github",
        "colab_type": "text"
      },
      "source": [
        "<a href=\"https://colab.research.google.com/github/Nailloon/Machine-Learning-Practice/blob/main/%D0%97%D0%B0%D0%B4%D0%B0%D0%BD%D0%B8%D1%8F%20%D0%BF%D1%80%D0%B5%D0%BF%D0%BE%D0%B4%D0%B0%D0%B2%D0%B0%D1%82%D0%B5%D0%BB%D0%B5%D0%B9/%D0%9F%D0%BE%D0%BB%D0%BD%D0%BE%D1%81%D0%B2%D1%8F%D0%B7%D0%BD%D1%8B%D0%B5_%D0%BD%D0%B5%D0%B9%D1%80%D0%BE%D0%BD%D0%BD%D1%8B%D0%B5_%D1%81%D0%B5%D1%82%D0%B8.ipynb\" target=\"_parent\"><img src=\"https://colab.research.google.com/assets/colab-badge.svg\" alt=\"Open In Colab\"/></a>"
      ]
    },
    {
      "cell_type": "markdown",
      "source": [
        "# 1. Полносвязные нейронные сети и обучение с учителем"
      ],
      "metadata": {
        "id": "kLNJkv2MAQCZ"
      }
    },
    {
      "cell_type": "markdown",
      "source": [
        "На этом занятии мы научимся применять полносвязные глубокие нейронные сети для решения уже знакомых нам **задач регрессии и классификации** (данные будут представлены в виде таблиц, как и раньше)."
      ],
      "metadata": {
        "id": "DorydrlA2TrA"
      }
    },
    {
      "cell_type": "markdown",
      "source": [
        "Ранее мы решали эти задачи с использованием более простых моделей машинного обучения. Использовали для этого пакет scikit-learn. В этот раз мы применим **фреймворк TensorFlow**, разработанный компанией Google, и разберемся, как с его помощью строить и обучать нейронные сети."
      ],
      "metadata": {
        "id": "bOLDDUHo2c6v"
      }
    },
    {
      "cell_type": "markdown",
      "source": [
        "## Подготовка данных для обучения"
      ],
      "metadata": {
        "id": "HapdFeoRAgOu"
      }
    },
    {
      "cell_type": "markdown",
      "source": [
        "Мы будем использовать те же данные, с которых начали.\n",
        "\n",
        "Давайте на них еще раз посмотрим."
      ],
      "metadata": {
        "id": "Ya_m3W3XTSTD"
      }
    },
    {
      "cell_type": "markdown",
      "source": [
        "Работая в Colab мы можем подключить свой Google Drive, чтобы сохранять / загружать данные оттуда."
      ],
      "metadata": {
        "id": "lNSfvHiPBRXm"
      }
    },
    {
      "cell_type": "code",
      "source": [
        "from google.colab import drive\n",
        "# путь к корню Google Диска будет '/content/drive/MyDrive'\n",
        "drive.mount('/content/drive')"
      ],
      "metadata": {
        "colab": {
          "base_uri": "https://localhost:8080/"
        },
        "id": "HH_5ehz0BQgH",
        "outputId": "3d1db417-8e49-42a7-92c3-7eac248472a8"
      },
      "execution_count": null,
      "outputs": [
        {
          "output_type": "stream",
          "name": "stdout",
          "text": [
            "Drive already mounted at /content/drive; to attempt to forcibly remount, call drive.mount(\"/content/drive\", force_remount=True).\n"
          ]
        }
      ]
    },
    {
      "cell_type": "code",
      "source": [
        "import pandas as pd"
      ],
      "metadata": {
        "id": "yts1FEI-Uc5M"
      },
      "execution_count": null,
      "outputs": []
    },
    {
      "cell_type": "code",
      "source": [
        "data_regression = pd.read_csv('/content/drive/MyDrive/datasets/apartment_data_preprocessed.csv')"
      ],
      "metadata": {
        "id": "4unztTZWAm8W"
      },
      "execution_count": null,
      "outputs": []
    },
    {
      "cell_type": "code",
      "source": [
        "data_classification = pd.read_csv('/content/drive/MyDrive/datasets/bank_churners_preprocessed.csv')"
      ],
      "metadata": {
        "id": "u_kYG7ssUeOK"
      },
      "execution_count": null,
      "outputs": []
    },
    {
      "cell_type": "markdown",
      "source": [
        "**Еще раз обращаю ваше внимание:**"
      ],
      "metadata": {
        "id": "CLraX8p0Utry"
      }
    },
    {
      "cell_type": "markdown",
      "source": [
        "Для решения задач машинного обучения данные должны быть предобработаны! Во всех столбцах должны быть ЧИСЛА! Пропущенных значений не должно быть!\n",
        "\n",
        "Загруженные наборы данных уже предобработаны."
      ],
      "metadata": {
        "id": "gNohviCAUwqS"
      }
    },
    {
      "cell_type": "code",
      "source": [
        "data_regression"
      ],
      "metadata": {
        "colab": {
          "base_uri": "https://localhost:8080/",
          "height": 522
        },
        "id": "Axtevj4fVDiq",
        "outputId": "a5cb32b5-9b3a-4085-b778-df715befb1d3"
      },
      "execution_count": null,
      "outputs": [
        {
          "output_type": "execute_result",
          "data": {
            "text/plain": [
              "      Unnamed: 0  SalePrice  YearBuilt  YrSold  MonthSold  Size(sqf)  Floor  \\\n",
              "0              0     141592       2006    2007          8        814      3   \n",
              "1              1      51327       1985    2007          8        587      8   \n",
              "2              2      48672       1985    2007          8        587      6   \n",
              "3              3     380530       2006    2007          8       2056      8   \n",
              "4              4     221238       1993    2007          8       1761      3   \n",
              "...          ...        ...        ...     ...        ...        ...    ...   \n",
              "5886        5886     511504       2007    2017          8       1643     19   \n",
              "5887        5887     298230       2006    2017          8        903     13   \n",
              "5888        5888     357522       2007    2017          8        868     20   \n",
              "5889        5889     312389       1978    2017          8       1327      1   \n",
              "5890        5890     393805       2007    2017          8        868     13   \n",
              "\n",
              "      N_Parkinglot(Ground)  N_Parkinglot(Basement)  TimeToBusStop  ...  \\\n",
              "0                    111.0                   184.0              1  ...   \n",
              "1                     80.0                    76.0              2  ...   \n",
              "2                     80.0                    76.0              2  ...   \n",
              "3                    249.0                   536.0              2  ...   \n",
              "4                    523.0                   536.0              2  ...   \n",
              "...                    ...                     ...            ...  ...   \n",
              "5886                   0.0                  1270.0              2  ...   \n",
              "5887                 123.0                   181.0              1  ...   \n",
              "5888                   0.0                  1270.0              2  ...   \n",
              "5889                  87.0                     0.0              2  ...   \n",
              "5890                   0.0                  1270.0              2  ...   \n",
              "\n",
              "      c_management_in_trust  c_self_management  c_Bangoge  c_Banwoldang  \\\n",
              "0                         1                  0          0             0   \n",
              "1                         0                  1          0             0   \n",
              "2                         0                  1          0             0   \n",
              "3                         1                  0          0             0   \n",
              "4                         1                  0          0             0   \n",
              "...                     ...                ...        ...           ...   \n",
              "5886                      1                  0          0             0   \n",
              "5887                      1                  0          0             0   \n",
              "5888                      1                  0          0             0   \n",
              "5889                      0                  1          0             0   \n",
              "5890                      1                  0          0             0   \n",
              "\n",
              "      c_Chil-sung-market  c_Daegu  c_Kyungbuk_uni_hospital  c_Myung-duk  \\\n",
              "0                      0        0                        1            0   \n",
              "1                      0        1                        0            0   \n",
              "2                      0        1                        0            0   \n",
              "3                      0        0                        0            0   \n",
              "4                      0        0                        0            1   \n",
              "...                  ...      ...                      ...          ...   \n",
              "5886                   0        0                        1            0   \n",
              "5887                   0        0                        0            1   \n",
              "5888                   0        0                        1            0   \n",
              "5889                   0        0                        1            0   \n",
              "5890                   0        0                        1            0   \n",
              "\n",
              "      c_Sin-nam  c_no_subway_nearby  \n",
              "0             0                   0  \n",
              "1             0                   0  \n",
              "2             0                   0  \n",
              "3             1                   0  \n",
              "4             0                   0  \n",
              "...         ...                 ...  \n",
              "5886          0                   0  \n",
              "5887          0                   0  \n",
              "5888          0                   0  \n",
              "5889          0                   0  \n",
              "5890          0                   0  \n",
              "\n",
              "[5891 rows x 42 columns]"
            ],
            "text/html": [
              "\n",
              "  <div id=\"df-9b1bab4d-5fe2-4390-b266-a2bd76cb3b1b\">\n",
              "    <div class=\"colab-df-container\">\n",
              "      <div>\n",
              "<style scoped>\n",
              "    .dataframe tbody tr th:only-of-type {\n",
              "        vertical-align: middle;\n",
              "    }\n",
              "\n",
              "    .dataframe tbody tr th {\n",
              "        vertical-align: top;\n",
              "    }\n",
              "\n",
              "    .dataframe thead th {\n",
              "        text-align: right;\n",
              "    }\n",
              "</style>\n",
              "<table border=\"1\" class=\"dataframe\">\n",
              "  <thead>\n",
              "    <tr style=\"text-align: right;\">\n",
              "      <th></th>\n",
              "      <th>Unnamed: 0</th>\n",
              "      <th>SalePrice</th>\n",
              "      <th>YearBuilt</th>\n",
              "      <th>YrSold</th>\n",
              "      <th>MonthSold</th>\n",
              "      <th>Size(sqf)</th>\n",
              "      <th>Floor</th>\n",
              "      <th>N_Parkinglot(Ground)</th>\n",
              "      <th>N_Parkinglot(Basement)</th>\n",
              "      <th>TimeToBusStop</th>\n",
              "      <th>...</th>\n",
              "      <th>c_management_in_trust</th>\n",
              "      <th>c_self_management</th>\n",
              "      <th>c_Bangoge</th>\n",
              "      <th>c_Banwoldang</th>\n",
              "      <th>c_Chil-sung-market</th>\n",
              "      <th>c_Daegu</th>\n",
              "      <th>c_Kyungbuk_uni_hospital</th>\n",
              "      <th>c_Myung-duk</th>\n",
              "      <th>c_Sin-nam</th>\n",
              "      <th>c_no_subway_nearby</th>\n",
              "    </tr>\n",
              "  </thead>\n",
              "  <tbody>\n",
              "    <tr>\n",
              "      <th>0</th>\n",
              "      <td>0</td>\n",
              "      <td>141592</td>\n",
              "      <td>2006</td>\n",
              "      <td>2007</td>\n",
              "      <td>8</td>\n",
              "      <td>814</td>\n",
              "      <td>3</td>\n",
              "      <td>111.0</td>\n",
              "      <td>184.0</td>\n",
              "      <td>1</td>\n",
              "      <td>...</td>\n",
              "      <td>1</td>\n",
              "      <td>0</td>\n",
              "      <td>0</td>\n",
              "      <td>0</td>\n",
              "      <td>0</td>\n",
              "      <td>0</td>\n",
              "      <td>1</td>\n",
              "      <td>0</td>\n",
              "      <td>0</td>\n",
              "      <td>0</td>\n",
              "    </tr>\n",
              "    <tr>\n",
              "      <th>1</th>\n",
              "      <td>1</td>\n",
              "      <td>51327</td>\n",
              "      <td>1985</td>\n",
              "      <td>2007</td>\n",
              "      <td>8</td>\n",
              "      <td>587</td>\n",
              "      <td>8</td>\n",
              "      <td>80.0</td>\n",
              "      <td>76.0</td>\n",
              "      <td>2</td>\n",
              "      <td>...</td>\n",
              "      <td>0</td>\n",
              "      <td>1</td>\n",
              "      <td>0</td>\n",
              "      <td>0</td>\n",
              "      <td>0</td>\n",
              "      <td>1</td>\n",
              "      <td>0</td>\n",
              "      <td>0</td>\n",
              "      <td>0</td>\n",
              "      <td>0</td>\n",
              "    </tr>\n",
              "    <tr>\n",
              "      <th>2</th>\n",
              "      <td>2</td>\n",
              "      <td>48672</td>\n",
              "      <td>1985</td>\n",
              "      <td>2007</td>\n",
              "      <td>8</td>\n",
              "      <td>587</td>\n",
              "      <td>6</td>\n",
              "      <td>80.0</td>\n",
              "      <td>76.0</td>\n",
              "      <td>2</td>\n",
              "      <td>...</td>\n",
              "      <td>0</td>\n",
              "      <td>1</td>\n",
              "      <td>0</td>\n",
              "      <td>0</td>\n",
              "      <td>0</td>\n",
              "      <td>1</td>\n",
              "      <td>0</td>\n",
              "      <td>0</td>\n",
              "      <td>0</td>\n",
              "      <td>0</td>\n",
              "    </tr>\n",
              "    <tr>\n",
              "      <th>3</th>\n",
              "      <td>3</td>\n",
              "      <td>380530</td>\n",
              "      <td>2006</td>\n",
              "      <td>2007</td>\n",
              "      <td>8</td>\n",
              "      <td>2056</td>\n",
              "      <td>8</td>\n",
              "      <td>249.0</td>\n",
              "      <td>536.0</td>\n",
              "      <td>2</td>\n",
              "      <td>...</td>\n",
              "      <td>1</td>\n",
              "      <td>0</td>\n",
              "      <td>0</td>\n",
              "      <td>0</td>\n",
              "      <td>0</td>\n",
              "      <td>0</td>\n",
              "      <td>0</td>\n",
              "      <td>0</td>\n",
              "      <td>1</td>\n",
              "      <td>0</td>\n",
              "    </tr>\n",
              "    <tr>\n",
              "      <th>4</th>\n",
              "      <td>4</td>\n",
              "      <td>221238</td>\n",
              "      <td>1993</td>\n",
              "      <td>2007</td>\n",
              "      <td>8</td>\n",
              "      <td>1761</td>\n",
              "      <td>3</td>\n",
              "      <td>523.0</td>\n",
              "      <td>536.0</td>\n",
              "      <td>2</td>\n",
              "      <td>...</td>\n",
              "      <td>1</td>\n",
              "      <td>0</td>\n",
              "      <td>0</td>\n",
              "      <td>0</td>\n",
              "      <td>0</td>\n",
              "      <td>0</td>\n",
              "      <td>0</td>\n",
              "      <td>1</td>\n",
              "      <td>0</td>\n",
              "      <td>0</td>\n",
              "    </tr>\n",
              "    <tr>\n",
              "      <th>...</th>\n",
              "      <td>...</td>\n",
              "      <td>...</td>\n",
              "      <td>...</td>\n",
              "      <td>...</td>\n",
              "      <td>...</td>\n",
              "      <td>...</td>\n",
              "      <td>...</td>\n",
              "      <td>...</td>\n",
              "      <td>...</td>\n",
              "      <td>...</td>\n",
              "      <td>...</td>\n",
              "      <td>...</td>\n",
              "      <td>...</td>\n",
              "      <td>...</td>\n",
              "      <td>...</td>\n",
              "      <td>...</td>\n",
              "      <td>...</td>\n",
              "      <td>...</td>\n",
              "      <td>...</td>\n",
              "      <td>...</td>\n",
              "      <td>...</td>\n",
              "    </tr>\n",
              "    <tr>\n",
              "      <th>5886</th>\n",
              "      <td>5886</td>\n",
              "      <td>511504</td>\n",
              "      <td>2007</td>\n",
              "      <td>2017</td>\n",
              "      <td>8</td>\n",
              "      <td>1643</td>\n",
              "      <td>19</td>\n",
              "      <td>0.0</td>\n",
              "      <td>1270.0</td>\n",
              "      <td>2</td>\n",
              "      <td>...</td>\n",
              "      <td>1</td>\n",
              "      <td>0</td>\n",
              "      <td>0</td>\n",
              "      <td>0</td>\n",
              "      <td>0</td>\n",
              "      <td>0</td>\n",
              "      <td>1</td>\n",
              "      <td>0</td>\n",
              "      <td>0</td>\n",
              "      <td>0</td>\n",
              "    </tr>\n",
              "    <tr>\n",
              "      <th>5887</th>\n",
              "      <td>5887</td>\n",
              "      <td>298230</td>\n",
              "      <td>2006</td>\n",
              "      <td>2017</td>\n",
              "      <td>8</td>\n",
              "      <td>903</td>\n",
              "      <td>13</td>\n",
              "      <td>123.0</td>\n",
              "      <td>181.0</td>\n",
              "      <td>1</td>\n",
              "      <td>...</td>\n",
              "      <td>1</td>\n",
              "      <td>0</td>\n",
              "      <td>0</td>\n",
              "      <td>0</td>\n",
              "      <td>0</td>\n",
              "      <td>0</td>\n",
              "      <td>0</td>\n",
              "      <td>1</td>\n",
              "      <td>0</td>\n",
              "      <td>0</td>\n",
              "    </tr>\n",
              "    <tr>\n",
              "      <th>5888</th>\n",
              "      <td>5888</td>\n",
              "      <td>357522</td>\n",
              "      <td>2007</td>\n",
              "      <td>2017</td>\n",
              "      <td>8</td>\n",
              "      <td>868</td>\n",
              "      <td>20</td>\n",
              "      <td>0.0</td>\n",
              "      <td>1270.0</td>\n",
              "      <td>2</td>\n",
              "      <td>...</td>\n",
              "      <td>1</td>\n",
              "      <td>0</td>\n",
              "      <td>0</td>\n",
              "      <td>0</td>\n",
              "      <td>0</td>\n",
              "      <td>0</td>\n",
              "      <td>1</td>\n",
              "      <td>0</td>\n",
              "      <td>0</td>\n",
              "      <td>0</td>\n",
              "    </tr>\n",
              "    <tr>\n",
              "      <th>5889</th>\n",
              "      <td>5889</td>\n",
              "      <td>312389</td>\n",
              "      <td>1978</td>\n",
              "      <td>2017</td>\n",
              "      <td>8</td>\n",
              "      <td>1327</td>\n",
              "      <td>1</td>\n",
              "      <td>87.0</td>\n",
              "      <td>0.0</td>\n",
              "      <td>2</td>\n",
              "      <td>...</td>\n",
              "      <td>0</td>\n",
              "      <td>1</td>\n",
              "      <td>0</td>\n",
              "      <td>0</td>\n",
              "      <td>0</td>\n",
              "      <td>0</td>\n",
              "      <td>1</td>\n",
              "      <td>0</td>\n",
              "      <td>0</td>\n",
              "      <td>0</td>\n",
              "    </tr>\n",
              "    <tr>\n",
              "      <th>5890</th>\n",
              "      <td>5890</td>\n",
              "      <td>393805</td>\n",
              "      <td>2007</td>\n",
              "      <td>2017</td>\n",
              "      <td>8</td>\n",
              "      <td>868</td>\n",
              "      <td>13</td>\n",
              "      <td>0.0</td>\n",
              "      <td>1270.0</td>\n",
              "      <td>2</td>\n",
              "      <td>...</td>\n",
              "      <td>1</td>\n",
              "      <td>0</td>\n",
              "      <td>0</td>\n",
              "      <td>0</td>\n",
              "      <td>0</td>\n",
              "      <td>0</td>\n",
              "      <td>1</td>\n",
              "      <td>0</td>\n",
              "      <td>0</td>\n",
              "      <td>0</td>\n",
              "    </tr>\n",
              "  </tbody>\n",
              "</table>\n",
              "<p>5891 rows × 42 columns</p>\n",
              "</div>\n",
              "      <button class=\"colab-df-convert\" onclick=\"convertToInteractive('df-9b1bab4d-5fe2-4390-b266-a2bd76cb3b1b')\"\n",
              "              title=\"Convert this dataframe to an interactive table.\"\n",
              "              style=\"display:none;\">\n",
              "        \n",
              "  <svg xmlns=\"http://www.w3.org/2000/svg\" height=\"24px\"viewBox=\"0 0 24 24\"\n",
              "       width=\"24px\">\n",
              "    <path d=\"M0 0h24v24H0V0z\" fill=\"none\"/>\n",
              "    <path d=\"M18.56 5.44l.94 2.06.94-2.06 2.06-.94-2.06-.94-.94-2.06-.94 2.06-2.06.94zm-11 1L8.5 8.5l.94-2.06 2.06-.94-2.06-.94L8.5 2.5l-.94 2.06-2.06.94zm10 10l.94 2.06.94-2.06 2.06-.94-2.06-.94-.94-2.06-.94 2.06-2.06.94z\"/><path d=\"M17.41 7.96l-1.37-1.37c-.4-.4-.92-.59-1.43-.59-.52 0-1.04.2-1.43.59L10.3 9.45l-7.72 7.72c-.78.78-.78 2.05 0 2.83L4 21.41c.39.39.9.59 1.41.59.51 0 1.02-.2 1.41-.59l7.78-7.78 2.81-2.81c.8-.78.8-2.07 0-2.86zM5.41 20L4 18.59l7.72-7.72 1.47 1.35L5.41 20z\"/>\n",
              "  </svg>\n",
              "      </button>\n",
              "      \n",
              "  <style>\n",
              "    .colab-df-container {\n",
              "      display:flex;\n",
              "      flex-wrap:wrap;\n",
              "      gap: 12px;\n",
              "    }\n",
              "\n",
              "    .colab-df-convert {\n",
              "      background-color: #E8F0FE;\n",
              "      border: none;\n",
              "      border-radius: 50%;\n",
              "      cursor: pointer;\n",
              "      display: none;\n",
              "      fill: #1967D2;\n",
              "      height: 32px;\n",
              "      padding: 0 0 0 0;\n",
              "      width: 32px;\n",
              "    }\n",
              "\n",
              "    .colab-df-convert:hover {\n",
              "      background-color: #E2EBFA;\n",
              "      box-shadow: 0px 1px 2px rgba(60, 64, 67, 0.3), 0px 1px 3px 1px rgba(60, 64, 67, 0.15);\n",
              "      fill: #174EA6;\n",
              "    }\n",
              "\n",
              "    [theme=dark] .colab-df-convert {\n",
              "      background-color: #3B4455;\n",
              "      fill: #D2E3FC;\n",
              "    }\n",
              "\n",
              "    [theme=dark] .colab-df-convert:hover {\n",
              "      background-color: #434B5C;\n",
              "      box-shadow: 0px 1px 3px 1px rgba(0, 0, 0, 0.15);\n",
              "      filter: drop-shadow(0px 1px 2px rgba(0, 0, 0, 0.3));\n",
              "      fill: #FFFFFF;\n",
              "    }\n",
              "  </style>\n",
              "\n",
              "      <script>\n",
              "        const buttonEl =\n",
              "          document.querySelector('#df-9b1bab4d-5fe2-4390-b266-a2bd76cb3b1b button.colab-df-convert');\n",
              "        buttonEl.style.display =\n",
              "          google.colab.kernel.accessAllowed ? 'block' : 'none';\n",
              "\n",
              "        async function convertToInteractive(key) {\n",
              "          const element = document.querySelector('#df-9b1bab4d-5fe2-4390-b266-a2bd76cb3b1b');\n",
              "          const dataTable =\n",
              "            await google.colab.kernel.invokeFunction('convertToInteractive',\n",
              "                                                     [key], {});\n",
              "          if (!dataTable) return;\n",
              "\n",
              "          const docLinkHtml = 'Like what you see? Visit the ' +\n",
              "            '<a target=\"_blank\" href=https://colab.research.google.com/notebooks/data_table.ipynb>data table notebook</a>'\n",
              "            + ' to learn more about interactive tables.';\n",
              "          element.innerHTML = '';\n",
              "          dataTable['output_type'] = 'display_data';\n",
              "          await google.colab.output.renderOutput(dataTable, element);\n",
              "          const docLink = document.createElement('div');\n",
              "          docLink.innerHTML = docLinkHtml;\n",
              "          element.appendChild(docLink);\n",
              "        }\n",
              "      </script>\n",
              "    </div>\n",
              "  </div>\n",
              "  "
            ]
          },
          "metadata": {},
          "execution_count": 74
        }
      ]
    },
    {
      "cell_type": "markdown",
      "source": [
        "Удалим мусорный столбцец (с номером элемента)"
      ],
      "metadata": {
        "id": "9YSnAaWmWJ7D"
      }
    },
    {
      "cell_type": "code",
      "source": [
        "data_regression.drop(columns = [\"Unnamed: 0\"], inplace=True)"
      ],
      "metadata": {
        "id": "uTd53LIUV-cY"
      },
      "execution_count": null,
      "outputs": []
    },
    {
      "cell_type": "code",
      "source": [
        "data_classification"
      ],
      "metadata": {
        "colab": {
          "base_uri": "https://localhost:8080/",
          "height": 505
        },
        "id": "ANIWz_ypVQ2S",
        "outputId": "e66052fb-11f8-480e-b648-acd284b1e251"
      },
      "execution_count": null,
      "outputs": [
        {
          "output_type": "execute_result",
          "data": {
            "text/plain": [
              "       Unnamed: 0  Attrition_Flag  Customer_Age  Dependent_count  \\\n",
              "0               0               0            45                3   \n",
              "1               1               0            49                5   \n",
              "2               2               0            51                3   \n",
              "3               3               0            40                4   \n",
              "4               4               0            40                3   \n",
              "...           ...             ...           ...              ...   \n",
              "10122       10122               0            50                2   \n",
              "10123       10123               1            41                2   \n",
              "10124       10124               1            44                1   \n",
              "10125       10125               1            30                2   \n",
              "10126       10126               1            43                2   \n",
              "\n",
              "       Education_Level  Income_Category  Card_Category  Months_on_book  \\\n",
              "0                    2                3              0              39   \n",
              "1                    5                1              0              44   \n",
              "2                    5                4              0              36   \n",
              "3                    2                1              0              34   \n",
              "4                    1                3              0              21   \n",
              "...                ...              ...            ...             ...   \n",
              "10122                5                2              0              40   \n",
              "10123                0                2              0              25   \n",
              "10124                2                1              0              36   \n",
              "10125                5                2              0              36   \n",
              "10126                5                1              1              25   \n",
              "\n",
              "       Total_Relationship_Count  Months_Inactive_12_mon  ...  Total_Trans_Amt  \\\n",
              "0                             5                       1  ...             1144   \n",
              "1                             6                       1  ...             1291   \n",
              "2                             4                       1  ...             1887   \n",
              "3                             3                       4  ...             1171   \n",
              "4                             5                       1  ...              816   \n",
              "...                         ...                     ...  ...              ...   \n",
              "10122                         3                       2  ...            15476   \n",
              "10123                         4                       2  ...             8764   \n",
              "10124                         5                       3  ...            10291   \n",
              "10125                         4                       3  ...             8395   \n",
              "10126                         6                       2  ...            10294   \n",
              "\n",
              "       Total_Trans_Ct  Total_Ct_Chng_Q4_Q1  Avg_Utilization_Ratio  c_F  c_M  \\\n",
              "0                  42                1.625                  0.061    0    1   \n",
              "1                  33                3.714                  0.105    1    0   \n",
              "2                  20                2.333                  0.000    0    1   \n",
              "3                  20                2.333                  0.760    1    0   \n",
              "4                  28                2.500                  0.000    0    1   \n",
              "...               ...                  ...                    ...  ...  ...   \n",
              "10122             117                0.857                  0.462    0    1   \n",
              "10123              69                0.683                  0.511    0    1   \n",
              "10124              60                0.818                  0.000    1    0   \n",
              "10125              62                0.722                  0.000    0    1   \n",
              "10126              61                0.649                  0.189    1    0   \n",
              "\n",
              "       c_Divorced  c_Married  c_Single  c_Unknown  \n",
              "0               0          1         0          0  \n",
              "1               0          0         1          0  \n",
              "2               0          1         0          0  \n",
              "3               0          0         0          1  \n",
              "4               0          1         0          0  \n",
              "...           ...        ...       ...        ...  \n",
              "10122           0          0         1          0  \n",
              "10123           1          0         0          0  \n",
              "10124           0          1         0          0  \n",
              "10125           0          0         0          1  \n",
              "10126           0          1         0          0  \n",
              "\n",
              "[10127 rows x 25 columns]"
            ],
            "text/html": [
              "\n",
              "  <div id=\"df-a1abad16-f401-4f9f-b349-c50ce68aeb68\">\n",
              "    <div class=\"colab-df-container\">\n",
              "      <div>\n",
              "<style scoped>\n",
              "    .dataframe tbody tr th:only-of-type {\n",
              "        vertical-align: middle;\n",
              "    }\n",
              "\n",
              "    .dataframe tbody tr th {\n",
              "        vertical-align: top;\n",
              "    }\n",
              "\n",
              "    .dataframe thead th {\n",
              "        text-align: right;\n",
              "    }\n",
              "</style>\n",
              "<table border=\"1\" class=\"dataframe\">\n",
              "  <thead>\n",
              "    <tr style=\"text-align: right;\">\n",
              "      <th></th>\n",
              "      <th>Unnamed: 0</th>\n",
              "      <th>Attrition_Flag</th>\n",
              "      <th>Customer_Age</th>\n",
              "      <th>Dependent_count</th>\n",
              "      <th>Education_Level</th>\n",
              "      <th>Income_Category</th>\n",
              "      <th>Card_Category</th>\n",
              "      <th>Months_on_book</th>\n",
              "      <th>Total_Relationship_Count</th>\n",
              "      <th>Months_Inactive_12_mon</th>\n",
              "      <th>...</th>\n",
              "      <th>Total_Trans_Amt</th>\n",
              "      <th>Total_Trans_Ct</th>\n",
              "      <th>Total_Ct_Chng_Q4_Q1</th>\n",
              "      <th>Avg_Utilization_Ratio</th>\n",
              "      <th>c_F</th>\n",
              "      <th>c_M</th>\n",
              "      <th>c_Divorced</th>\n",
              "      <th>c_Married</th>\n",
              "      <th>c_Single</th>\n",
              "      <th>c_Unknown</th>\n",
              "    </tr>\n",
              "  </thead>\n",
              "  <tbody>\n",
              "    <tr>\n",
              "      <th>0</th>\n",
              "      <td>0</td>\n",
              "      <td>0</td>\n",
              "      <td>45</td>\n",
              "      <td>3</td>\n",
              "      <td>2</td>\n",
              "      <td>3</td>\n",
              "      <td>0</td>\n",
              "      <td>39</td>\n",
              "      <td>5</td>\n",
              "      <td>1</td>\n",
              "      <td>...</td>\n",
              "      <td>1144</td>\n",
              "      <td>42</td>\n",
              "      <td>1.625</td>\n",
              "      <td>0.061</td>\n",
              "      <td>0</td>\n",
              "      <td>1</td>\n",
              "      <td>0</td>\n",
              "      <td>1</td>\n",
              "      <td>0</td>\n",
              "      <td>0</td>\n",
              "    </tr>\n",
              "    <tr>\n",
              "      <th>1</th>\n",
              "      <td>1</td>\n",
              "      <td>0</td>\n",
              "      <td>49</td>\n",
              "      <td>5</td>\n",
              "      <td>5</td>\n",
              "      <td>1</td>\n",
              "      <td>0</td>\n",
              "      <td>44</td>\n",
              "      <td>6</td>\n",
              "      <td>1</td>\n",
              "      <td>...</td>\n",
              "      <td>1291</td>\n",
              "      <td>33</td>\n",
              "      <td>3.714</td>\n",
              "      <td>0.105</td>\n",
              "      <td>1</td>\n",
              "      <td>0</td>\n",
              "      <td>0</td>\n",
              "      <td>0</td>\n",
              "      <td>1</td>\n",
              "      <td>0</td>\n",
              "    </tr>\n",
              "    <tr>\n",
              "      <th>2</th>\n",
              "      <td>2</td>\n",
              "      <td>0</td>\n",
              "      <td>51</td>\n",
              "      <td>3</td>\n",
              "      <td>5</td>\n",
              "      <td>4</td>\n",
              "      <td>0</td>\n",
              "      <td>36</td>\n",
              "      <td>4</td>\n",
              "      <td>1</td>\n",
              "      <td>...</td>\n",
              "      <td>1887</td>\n",
              "      <td>20</td>\n",
              "      <td>2.333</td>\n",
              "      <td>0.000</td>\n",
              "      <td>0</td>\n",
              "      <td>1</td>\n",
              "      <td>0</td>\n",
              "      <td>1</td>\n",
              "      <td>0</td>\n",
              "      <td>0</td>\n",
              "    </tr>\n",
              "    <tr>\n",
              "      <th>3</th>\n",
              "      <td>3</td>\n",
              "      <td>0</td>\n",
              "      <td>40</td>\n",
              "      <td>4</td>\n",
              "      <td>2</td>\n",
              "      <td>1</td>\n",
              "      <td>0</td>\n",
              "      <td>34</td>\n",
              "      <td>3</td>\n",
              "      <td>4</td>\n",
              "      <td>...</td>\n",
              "      <td>1171</td>\n",
              "      <td>20</td>\n",
              "      <td>2.333</td>\n",
              "      <td>0.760</td>\n",
              "      <td>1</td>\n",
              "      <td>0</td>\n",
              "      <td>0</td>\n",
              "      <td>0</td>\n",
              "      <td>0</td>\n",
              "      <td>1</td>\n",
              "    </tr>\n",
              "    <tr>\n",
              "      <th>4</th>\n",
              "      <td>4</td>\n",
              "      <td>0</td>\n",
              "      <td>40</td>\n",
              "      <td>3</td>\n",
              "      <td>1</td>\n",
              "      <td>3</td>\n",
              "      <td>0</td>\n",
              "      <td>21</td>\n",
              "      <td>5</td>\n",
              "      <td>1</td>\n",
              "      <td>...</td>\n",
              "      <td>816</td>\n",
              "      <td>28</td>\n",
              "      <td>2.500</td>\n",
              "      <td>0.000</td>\n",
              "      <td>0</td>\n",
              "      <td>1</td>\n",
              "      <td>0</td>\n",
              "      <td>1</td>\n",
              "      <td>0</td>\n",
              "      <td>0</td>\n",
              "    </tr>\n",
              "    <tr>\n",
              "      <th>...</th>\n",
              "      <td>...</td>\n",
              "      <td>...</td>\n",
              "      <td>...</td>\n",
              "      <td>...</td>\n",
              "      <td>...</td>\n",
              "      <td>...</td>\n",
              "      <td>...</td>\n",
              "      <td>...</td>\n",
              "      <td>...</td>\n",
              "      <td>...</td>\n",
              "      <td>...</td>\n",
              "      <td>...</td>\n",
              "      <td>...</td>\n",
              "      <td>...</td>\n",
              "      <td>...</td>\n",
              "      <td>...</td>\n",
              "      <td>...</td>\n",
              "      <td>...</td>\n",
              "      <td>...</td>\n",
              "      <td>...</td>\n",
              "      <td>...</td>\n",
              "    </tr>\n",
              "    <tr>\n",
              "      <th>10122</th>\n",
              "      <td>10122</td>\n",
              "      <td>0</td>\n",
              "      <td>50</td>\n",
              "      <td>2</td>\n",
              "      <td>5</td>\n",
              "      <td>2</td>\n",
              "      <td>0</td>\n",
              "      <td>40</td>\n",
              "      <td>3</td>\n",
              "      <td>2</td>\n",
              "      <td>...</td>\n",
              "      <td>15476</td>\n",
              "      <td>117</td>\n",
              "      <td>0.857</td>\n",
              "      <td>0.462</td>\n",
              "      <td>0</td>\n",
              "      <td>1</td>\n",
              "      <td>0</td>\n",
              "      <td>0</td>\n",
              "      <td>1</td>\n",
              "      <td>0</td>\n",
              "    </tr>\n",
              "    <tr>\n",
              "      <th>10123</th>\n",
              "      <td>10123</td>\n",
              "      <td>1</td>\n",
              "      <td>41</td>\n",
              "      <td>2</td>\n",
              "      <td>0</td>\n",
              "      <td>2</td>\n",
              "      <td>0</td>\n",
              "      <td>25</td>\n",
              "      <td>4</td>\n",
              "      <td>2</td>\n",
              "      <td>...</td>\n",
              "      <td>8764</td>\n",
              "      <td>69</td>\n",
              "      <td>0.683</td>\n",
              "      <td>0.511</td>\n",
              "      <td>0</td>\n",
              "      <td>1</td>\n",
              "      <td>1</td>\n",
              "      <td>0</td>\n",
              "      <td>0</td>\n",
              "      <td>0</td>\n",
              "    </tr>\n",
              "    <tr>\n",
              "      <th>10124</th>\n",
              "      <td>10124</td>\n",
              "      <td>1</td>\n",
              "      <td>44</td>\n",
              "      <td>1</td>\n",
              "      <td>2</td>\n",
              "      <td>1</td>\n",
              "      <td>0</td>\n",
              "      <td>36</td>\n",
              "      <td>5</td>\n",
              "      <td>3</td>\n",
              "      <td>...</td>\n",
              "      <td>10291</td>\n",
              "      <td>60</td>\n",
              "      <td>0.818</td>\n",
              "      <td>0.000</td>\n",
              "      <td>1</td>\n",
              "      <td>0</td>\n",
              "      <td>0</td>\n",
              "      <td>1</td>\n",
              "      <td>0</td>\n",
              "      <td>0</td>\n",
              "    </tr>\n",
              "    <tr>\n",
              "      <th>10125</th>\n",
              "      <td>10125</td>\n",
              "      <td>1</td>\n",
              "      <td>30</td>\n",
              "      <td>2</td>\n",
              "      <td>5</td>\n",
              "      <td>2</td>\n",
              "      <td>0</td>\n",
              "      <td>36</td>\n",
              "      <td>4</td>\n",
              "      <td>3</td>\n",
              "      <td>...</td>\n",
              "      <td>8395</td>\n",
              "      <td>62</td>\n",
              "      <td>0.722</td>\n",
              "      <td>0.000</td>\n",
              "      <td>0</td>\n",
              "      <td>1</td>\n",
              "      <td>0</td>\n",
              "      <td>0</td>\n",
              "      <td>0</td>\n",
              "      <td>1</td>\n",
              "    </tr>\n",
              "    <tr>\n",
              "      <th>10126</th>\n",
              "      <td>10126</td>\n",
              "      <td>1</td>\n",
              "      <td>43</td>\n",
              "      <td>2</td>\n",
              "      <td>5</td>\n",
              "      <td>1</td>\n",
              "      <td>1</td>\n",
              "      <td>25</td>\n",
              "      <td>6</td>\n",
              "      <td>2</td>\n",
              "      <td>...</td>\n",
              "      <td>10294</td>\n",
              "      <td>61</td>\n",
              "      <td>0.649</td>\n",
              "      <td>0.189</td>\n",
              "      <td>1</td>\n",
              "      <td>0</td>\n",
              "      <td>0</td>\n",
              "      <td>1</td>\n",
              "      <td>0</td>\n",
              "      <td>0</td>\n",
              "    </tr>\n",
              "  </tbody>\n",
              "</table>\n",
              "<p>10127 rows × 25 columns</p>\n",
              "</div>\n",
              "      <button class=\"colab-df-convert\" onclick=\"convertToInteractive('df-a1abad16-f401-4f9f-b349-c50ce68aeb68')\"\n",
              "              title=\"Convert this dataframe to an interactive table.\"\n",
              "              style=\"display:none;\">\n",
              "        \n",
              "  <svg xmlns=\"http://www.w3.org/2000/svg\" height=\"24px\"viewBox=\"0 0 24 24\"\n",
              "       width=\"24px\">\n",
              "    <path d=\"M0 0h24v24H0V0z\" fill=\"none\"/>\n",
              "    <path d=\"M18.56 5.44l.94 2.06.94-2.06 2.06-.94-2.06-.94-.94-2.06-.94 2.06-2.06.94zm-11 1L8.5 8.5l.94-2.06 2.06-.94-2.06-.94L8.5 2.5l-.94 2.06-2.06.94zm10 10l.94 2.06.94-2.06 2.06-.94-2.06-.94-.94-2.06-.94 2.06-2.06.94z\"/><path d=\"M17.41 7.96l-1.37-1.37c-.4-.4-.92-.59-1.43-.59-.52 0-1.04.2-1.43.59L10.3 9.45l-7.72 7.72c-.78.78-.78 2.05 0 2.83L4 21.41c.39.39.9.59 1.41.59.51 0 1.02-.2 1.41-.59l7.78-7.78 2.81-2.81c.8-.78.8-2.07 0-2.86zM5.41 20L4 18.59l7.72-7.72 1.47 1.35L5.41 20z\"/>\n",
              "  </svg>\n",
              "      </button>\n",
              "      \n",
              "  <style>\n",
              "    .colab-df-container {\n",
              "      display:flex;\n",
              "      flex-wrap:wrap;\n",
              "      gap: 12px;\n",
              "    }\n",
              "\n",
              "    .colab-df-convert {\n",
              "      background-color: #E8F0FE;\n",
              "      border: none;\n",
              "      border-radius: 50%;\n",
              "      cursor: pointer;\n",
              "      display: none;\n",
              "      fill: #1967D2;\n",
              "      height: 32px;\n",
              "      padding: 0 0 0 0;\n",
              "      width: 32px;\n",
              "    }\n",
              "\n",
              "    .colab-df-convert:hover {\n",
              "      background-color: #E2EBFA;\n",
              "      box-shadow: 0px 1px 2px rgba(60, 64, 67, 0.3), 0px 1px 3px 1px rgba(60, 64, 67, 0.15);\n",
              "      fill: #174EA6;\n",
              "    }\n",
              "\n",
              "    [theme=dark] .colab-df-convert {\n",
              "      background-color: #3B4455;\n",
              "      fill: #D2E3FC;\n",
              "    }\n",
              "\n",
              "    [theme=dark] .colab-df-convert:hover {\n",
              "      background-color: #434B5C;\n",
              "      box-shadow: 0px 1px 3px 1px rgba(0, 0, 0, 0.15);\n",
              "      filter: drop-shadow(0px 1px 2px rgba(0, 0, 0, 0.3));\n",
              "      fill: #FFFFFF;\n",
              "    }\n",
              "  </style>\n",
              "\n",
              "      <script>\n",
              "        const buttonEl =\n",
              "          document.querySelector('#df-a1abad16-f401-4f9f-b349-c50ce68aeb68 button.colab-df-convert');\n",
              "        buttonEl.style.display =\n",
              "          google.colab.kernel.accessAllowed ? 'block' : 'none';\n",
              "\n",
              "        async function convertToInteractive(key) {\n",
              "          const element = document.querySelector('#df-a1abad16-f401-4f9f-b349-c50ce68aeb68');\n",
              "          const dataTable =\n",
              "            await google.colab.kernel.invokeFunction('convertToInteractive',\n",
              "                                                     [key], {});\n",
              "          if (!dataTable) return;\n",
              "\n",
              "          const docLinkHtml = 'Like what you see? Visit the ' +\n",
              "            '<a target=\"_blank\" href=https://colab.research.google.com/notebooks/data_table.ipynb>data table notebook</a>'\n",
              "            + ' to learn more about interactive tables.';\n",
              "          element.innerHTML = '';\n",
              "          dataTable['output_type'] = 'display_data';\n",
              "          await google.colab.output.renderOutput(dataTable, element);\n",
              "          const docLink = document.createElement('div');\n",
              "          docLink.innerHTML = docLinkHtml;\n",
              "          element.appendChild(docLink);\n",
              "        }\n",
              "      </script>\n",
              "    </div>\n",
              "  </div>\n",
              "  "
            ]
          },
          "metadata": {},
          "execution_count": 76
        }
      ]
    },
    {
      "cell_type": "markdown",
      "source": [
        "Выделим целевые признаки и разобьем наборы данных на обучающие и тестовые."
      ],
      "metadata": {
        "id": "Xb5y7s9q6sdl"
      }
    },
    {
      "cell_type": "code",
      "source": [
        "y_regression = data_regression[\"SalePrice\"]\n",
        "X_regression = data_regression.drop(columns = ['SalePrice'])"
      ],
      "metadata": {
        "id": "ycYS4kzQ6xVs"
      },
      "execution_count": null,
      "outputs": []
    },
    {
      "cell_type": "code",
      "source": [
        "y_classification = data_classification['Attrition_Flag']\n",
        "X_classification = data_classification.drop(columns = ['Attrition_Flag'])"
      ],
      "metadata": {
        "id": "cVKTSb6d60zE"
      },
      "execution_count": null,
      "outputs": []
    },
    {
      "cell_type": "code",
      "source": [
        "from sklearn.model_selection import train_test_split\n",
        "# разобьем данные регрессии\n",
        "X_regression_train, X_regression_test, y_regression_train, y_regression_test = train_test_split(X_regression,\n",
        "                                                                                                y_regression,\n",
        "                                                                                                test_size=0.2)"
      ],
      "metadata": {
        "id": "PsF5PxOs6cvG"
      },
      "execution_count": null,
      "outputs": []
    },
    {
      "cell_type": "code",
      "source": [
        "# разобьем данные классификации\n",
        "X_classification_train, X_classification_test, y_classification_train, y_classification_test = train_test_split(X_classification,\n",
        "                                                                                                                y_classification,\n",
        "                                                                                                                stratify=y_classification,\n",
        "                                                                                                                test_size=0.2)"
      ],
      "metadata": {
        "id": "JnWRL6mc7Pp0"
      },
      "execution_count": null,
      "outputs": []
    },
    {
      "cell_type": "markdown",
      "source": [
        "## Введение в глубокое обучение"
      ],
      "metadata": {
        "id": "ebzOv7Lx3tDW"
      }
    },
    {
      "cell_type": "markdown",
      "source": [
        "Глубокое обучение (deep learning) - это обучение глубоких нейронных сетей (глубокими нейронными сетями называют нейронные сети, состоящие из более чем одного скрытого слоя)."
      ],
      "metadata": {
        "id": "xI4k2SQq31DO"
      }
    },
    {
      "cell_type": "markdown",
      "source": [
        "![mach-learn.png](https://neerc.ifmo.ru/wiki/images/thumb/6/63/Multi-layer-neural-net-scheme.png/500px-Multi-layer-neural-net-scheme.png)"
      ],
      "metadata": {
        "id": "Z_aw0qRd33EN"
      }
    },
    {
      "cell_type": "markdown",
      "source": [
        "Идея нейронных сетей очень простая - необходимо на основе $n_0$ значений входного слоя рассчитать $n_d$ значений выходного слоя (здесь $d$ - количество слоев в нейронной сети, не считая входного слоя)."
      ],
      "metadata": {
        "id": "2_mjy7Cf4XBv"
      }
    },
    {
      "cell_type": "markdown",
      "source": [
        "В полносвязных нейронных сетях каждый нейрон предыдущего слоя связан с каждым нейроном текущего. У каждой такой связи имеется собственный вес (изначально задаваемый чаще всего случайным образом)."
      ],
      "metadata": {
        "id": "o8ppOPCz475d"
      }
    },
    {
      "cell_type": "markdown",
      "source": [
        "Ниже представлена Схема расчета значения одного нейрона (на основе значений нейронов предыдущего слоя)."
      ],
      "metadata": {
        "id": "k7w_tS094TcG"
      }
    },
    {
      "cell_type": "markdown",
      "source": [
        "![mach-learn.png](https://neerc.ifmo.ru/wiki/images/a/a5/%D0%98%D1%81%D0%BA%D1%83%D1%81%D1%81%D1%82%D0%B2%D0%B5%D0%BD%D0%BD%D1%8B%D0%B9_%D0%BD%D0%B5%D0%B9%D1%80%D0%BE%D0%BD_%D1%81%D1%85%D0%B5%D0%BC%D0%B0.png)"
      ],
      "metadata": {
        "id": "zormXS6a5NNX"
      }
    },
    {
      "cell_type": "markdown",
      "source": [
        "Предсказания нейронной сети - это значения нейронов выходного слоя (решая задачу классификации, мы размещаем на выходном слое 1 нейрон; решая задачу классификации - $k$ нейронов, по количеству классов). Функции активации, применяемые к взвешенной сумме, позволяют управлять множеством значений нейрона. Ниже приведены наиболее часто используемые функции активации."
      ],
      "metadata": {
        "id": "f5PiDJj25asc"
      }
    },
    {
      "cell_type": "markdown",
      "source": [
        "![mach-learn.png](https://programforyou.ru/images/useful/cnn/part0/activations.png?v=5)"
      ],
      "metadata": {
        "id": "cCtVZPtX5bT1"
      }
    },
    {
      "cell_type": "markdown",
      "source": [
        "Обучаются нейронные сети методом обратного распространения ошибки. Он представляет собой оптимизацию (минимизацию) некоторой функции ошибки (loss-функции), которая вычисляется на основе полученных предсказаний и истинных значений. MSE, используемая как метрика в задаче регрессии, используется в качестве функции потерь при решении задачи регрессии. Для решения задачи классификации, как правило, используется категориальная кроссэнтропия (для случая двух классов - бинарная кроссэнтропия)."
      ],
      "metadata": {
        "id": "lzlyogML6HDV"
      }
    },
    {
      "cell_type": "markdown",
      "source": [
        "Суть минимизации - вычисление антиградиента функции ошибки и выполнение шага градиентного спуска с целью обновления весов (градиент представляет собой вектор частных производных по всем весам). Основа Tensorflow (помимо структуры данных Тензор) - возможность эффективного автодифференцирования, с использованием ресурсов GPU."
      ],
      "metadata": {
        "id": "MowogZRM6NLM"
      }
    },
    {
      "cell_type": "markdown",
      "source": [
        "Tensorflow автоматически по умолчанию использует GPU, если у вас GPU от NVidia и в системе установлены библиотеки CUDA и cuDNN."
      ],
      "metadata": {
        "id": "1rWIhdhw6TwE"
      }
    },
    {
      "cell_type": "markdown",
      "source": [
        "Мы будем обучать сети без использования графического процессора."
      ],
      "metadata": {
        "id": "BjFRK0Up6Ufc"
      }
    },
    {
      "cell_type": "markdown",
      "source": [
        "## Импорты"
      ],
      "metadata": {
        "id": "YWj0NVYB7o7z"
      }
    },
    {
      "cell_type": "markdown",
      "source": [
        "Импортируем сразу все, что нам потребуется."
      ],
      "metadata": {
        "id": "tdp9A4O97q1T"
      }
    },
    {
      "cell_type": "code",
      "source": [
        "# для оценки качества решения задачи регрессии\n",
        "from sklearn.metrics import mean_squared_error, mean_absolute_error\n",
        "# для оценки качества решения задачи классификации\n",
        "from sklearn.metrics import confusion_matrix, classification_report"
      ],
      "metadata": {
        "id": "Q5e4vjIj7tuL"
      },
      "execution_count": null,
      "outputs": []
    },
    {
      "cell_type": "code",
      "source": [
        "import tensorflow as tf\n",
        "import numpy as np"
      ],
      "metadata": {
        "id": "58zPugSw8HIs"
      },
      "execution_count": null,
      "outputs": []
    },
    {
      "cell_type": "markdown",
      "source": [
        "## Решение задачи регрессии"
      ],
      "metadata": {
        "id": "o9SZ42qSAnd2"
      }
    },
    {
      "cell_type": "code",
      "source": [
        "X_regression"
      ],
      "metadata": {
        "colab": {
          "base_uri": "https://localhost:8080/",
          "height": 522
        },
        "id": "oKAuPz1p8K0K",
        "outputId": "4042538e-0b8e-4878-9edc-7c83010694c7"
      },
      "execution_count": null,
      "outputs": [
        {
          "output_type": "execute_result",
          "data": {
            "text/plain": [
              "      YearBuilt  YrSold  MonthSold  Size(sqf)  Floor  N_Parkinglot(Ground)  \\\n",
              "0          2006    2007          8        814      3                 111.0   \n",
              "1          1985    2007          8        587      8                  80.0   \n",
              "2          1985    2007          8        587      6                  80.0   \n",
              "3          2006    2007          8       2056      8                 249.0   \n",
              "4          1993    2007          8       1761      3                 523.0   \n",
              "...         ...     ...        ...        ...    ...                   ...   \n",
              "5886       2007    2017          8       1643     19                   0.0   \n",
              "5887       2006    2017          8        903     13                 123.0   \n",
              "5888       2007    2017          8        868     20                   0.0   \n",
              "5889       1978    2017          8       1327      1                  87.0   \n",
              "5890       2007    2017          8        868     13                   0.0   \n",
              "\n",
              "      N_Parkinglot(Basement)  TimeToBusStop  TimeToSubway  N_APT  ...  \\\n",
              "0                      184.0              1             2    3.0  ...   \n",
              "1                       76.0              2             3    1.0  ...   \n",
              "2                       76.0              2             3    1.0  ...   \n",
              "3                      536.0              2             4    6.0  ...   \n",
              "4                      536.0              2             1    8.0  ...   \n",
              "...                      ...            ...           ...    ...  ...   \n",
              "5886                  1270.0              2             4    7.0  ...   \n",
              "5887                   181.0              1             4    3.0  ...   \n",
              "5888                  1270.0              2             4    7.0  ...   \n",
              "5889                     0.0              2             4    2.0  ...   \n",
              "5890                  1270.0              2             4    7.0  ...   \n",
              "\n",
              "      c_management_in_trust  c_self_management  c_Bangoge  c_Banwoldang  \\\n",
              "0                         1                  0          0             0   \n",
              "1                         0                  1          0             0   \n",
              "2                         0                  1          0             0   \n",
              "3                         1                  0          0             0   \n",
              "4                         1                  0          0             0   \n",
              "...                     ...                ...        ...           ...   \n",
              "5886                      1                  0          0             0   \n",
              "5887                      1                  0          0             0   \n",
              "5888                      1                  0          0             0   \n",
              "5889                      0                  1          0             0   \n",
              "5890                      1                  0          0             0   \n",
              "\n",
              "      c_Chil-sung-market  c_Daegu  c_Kyungbuk_uni_hospital  c_Myung-duk  \\\n",
              "0                      0        0                        1            0   \n",
              "1                      0        1                        0            0   \n",
              "2                      0        1                        0            0   \n",
              "3                      0        0                        0            0   \n",
              "4                      0        0                        0            1   \n",
              "...                  ...      ...                      ...          ...   \n",
              "5886                   0        0                        1            0   \n",
              "5887                   0        0                        0            1   \n",
              "5888                   0        0                        1            0   \n",
              "5889                   0        0                        1            0   \n",
              "5890                   0        0                        1            0   \n",
              "\n",
              "      c_Sin-nam  c_no_subway_nearby  \n",
              "0             0                   0  \n",
              "1             0                   0  \n",
              "2             0                   0  \n",
              "3             1                   0  \n",
              "4             0                   0  \n",
              "...         ...                 ...  \n",
              "5886          0                   0  \n",
              "5887          0                   0  \n",
              "5888          0                   0  \n",
              "5889          0                   0  \n",
              "5890          0                   0  \n",
              "\n",
              "[5891 rows x 40 columns]"
            ],
            "text/html": [
              "\n",
              "  <div id=\"df-87bdacda-7b00-425e-bb9d-a1d5e78230f9\">\n",
              "    <div class=\"colab-df-container\">\n",
              "      <div>\n",
              "<style scoped>\n",
              "    .dataframe tbody tr th:only-of-type {\n",
              "        vertical-align: middle;\n",
              "    }\n",
              "\n",
              "    .dataframe tbody tr th {\n",
              "        vertical-align: top;\n",
              "    }\n",
              "\n",
              "    .dataframe thead th {\n",
              "        text-align: right;\n",
              "    }\n",
              "</style>\n",
              "<table border=\"1\" class=\"dataframe\">\n",
              "  <thead>\n",
              "    <tr style=\"text-align: right;\">\n",
              "      <th></th>\n",
              "      <th>YearBuilt</th>\n",
              "      <th>YrSold</th>\n",
              "      <th>MonthSold</th>\n",
              "      <th>Size(sqf)</th>\n",
              "      <th>Floor</th>\n",
              "      <th>N_Parkinglot(Ground)</th>\n",
              "      <th>N_Parkinglot(Basement)</th>\n",
              "      <th>TimeToBusStop</th>\n",
              "      <th>TimeToSubway</th>\n",
              "      <th>N_APT</th>\n",
              "      <th>...</th>\n",
              "      <th>c_management_in_trust</th>\n",
              "      <th>c_self_management</th>\n",
              "      <th>c_Bangoge</th>\n",
              "      <th>c_Banwoldang</th>\n",
              "      <th>c_Chil-sung-market</th>\n",
              "      <th>c_Daegu</th>\n",
              "      <th>c_Kyungbuk_uni_hospital</th>\n",
              "      <th>c_Myung-duk</th>\n",
              "      <th>c_Sin-nam</th>\n",
              "      <th>c_no_subway_nearby</th>\n",
              "    </tr>\n",
              "  </thead>\n",
              "  <tbody>\n",
              "    <tr>\n",
              "      <th>0</th>\n",
              "      <td>2006</td>\n",
              "      <td>2007</td>\n",
              "      <td>8</td>\n",
              "      <td>814</td>\n",
              "      <td>3</td>\n",
              "      <td>111.0</td>\n",
              "      <td>184.0</td>\n",
              "      <td>1</td>\n",
              "      <td>2</td>\n",
              "      <td>3.0</td>\n",
              "      <td>...</td>\n",
              "      <td>1</td>\n",
              "      <td>0</td>\n",
              "      <td>0</td>\n",
              "      <td>0</td>\n",
              "      <td>0</td>\n",
              "      <td>0</td>\n",
              "      <td>1</td>\n",
              "      <td>0</td>\n",
              "      <td>0</td>\n",
              "      <td>0</td>\n",
              "    </tr>\n",
              "    <tr>\n",
              "      <th>1</th>\n",
              "      <td>1985</td>\n",
              "      <td>2007</td>\n",
              "      <td>8</td>\n",
              "      <td>587</td>\n",
              "      <td>8</td>\n",
              "      <td>80.0</td>\n",
              "      <td>76.0</td>\n",
              "      <td>2</td>\n",
              "      <td>3</td>\n",
              "      <td>1.0</td>\n",
              "      <td>...</td>\n",
              "      <td>0</td>\n",
              "      <td>1</td>\n",
              "      <td>0</td>\n",
              "      <td>0</td>\n",
              "      <td>0</td>\n",
              "      <td>1</td>\n",
              "      <td>0</td>\n",
              "      <td>0</td>\n",
              "      <td>0</td>\n",
              "      <td>0</td>\n",
              "    </tr>\n",
              "    <tr>\n",
              "      <th>2</th>\n",
              "      <td>1985</td>\n",
              "      <td>2007</td>\n",
              "      <td>8</td>\n",
              "      <td>587</td>\n",
              "      <td>6</td>\n",
              "      <td>80.0</td>\n",
              "      <td>76.0</td>\n",
              "      <td>2</td>\n",
              "      <td>3</td>\n",
              "      <td>1.0</td>\n",
              "      <td>...</td>\n",
              "      <td>0</td>\n",
              "      <td>1</td>\n",
              "      <td>0</td>\n",
              "      <td>0</td>\n",
              "      <td>0</td>\n",
              "      <td>1</td>\n",
              "      <td>0</td>\n",
              "      <td>0</td>\n",
              "      <td>0</td>\n",
              "      <td>0</td>\n",
              "    </tr>\n",
              "    <tr>\n",
              "      <th>3</th>\n",
              "      <td>2006</td>\n",
              "      <td>2007</td>\n",
              "      <td>8</td>\n",
              "      <td>2056</td>\n",
              "      <td>8</td>\n",
              "      <td>249.0</td>\n",
              "      <td>536.0</td>\n",
              "      <td>2</td>\n",
              "      <td>4</td>\n",
              "      <td>6.0</td>\n",
              "      <td>...</td>\n",
              "      <td>1</td>\n",
              "      <td>0</td>\n",
              "      <td>0</td>\n",
              "      <td>0</td>\n",
              "      <td>0</td>\n",
              "      <td>0</td>\n",
              "      <td>0</td>\n",
              "      <td>0</td>\n",
              "      <td>1</td>\n",
              "      <td>0</td>\n",
              "    </tr>\n",
              "    <tr>\n",
              "      <th>4</th>\n",
              "      <td>1993</td>\n",
              "      <td>2007</td>\n",
              "      <td>8</td>\n",
              "      <td>1761</td>\n",
              "      <td>3</td>\n",
              "      <td>523.0</td>\n",
              "      <td>536.0</td>\n",
              "      <td>2</td>\n",
              "      <td>1</td>\n",
              "      <td>8.0</td>\n",
              "      <td>...</td>\n",
              "      <td>1</td>\n",
              "      <td>0</td>\n",
              "      <td>0</td>\n",
              "      <td>0</td>\n",
              "      <td>0</td>\n",
              "      <td>0</td>\n",
              "      <td>0</td>\n",
              "      <td>1</td>\n",
              "      <td>0</td>\n",
              "      <td>0</td>\n",
              "    </tr>\n",
              "    <tr>\n",
              "      <th>...</th>\n",
              "      <td>...</td>\n",
              "      <td>...</td>\n",
              "      <td>...</td>\n",
              "      <td>...</td>\n",
              "      <td>...</td>\n",
              "      <td>...</td>\n",
              "      <td>...</td>\n",
              "      <td>...</td>\n",
              "      <td>...</td>\n",
              "      <td>...</td>\n",
              "      <td>...</td>\n",
              "      <td>...</td>\n",
              "      <td>...</td>\n",
              "      <td>...</td>\n",
              "      <td>...</td>\n",
              "      <td>...</td>\n",
              "      <td>...</td>\n",
              "      <td>...</td>\n",
              "      <td>...</td>\n",
              "      <td>...</td>\n",
              "      <td>...</td>\n",
              "    </tr>\n",
              "    <tr>\n",
              "      <th>5886</th>\n",
              "      <td>2007</td>\n",
              "      <td>2017</td>\n",
              "      <td>8</td>\n",
              "      <td>1643</td>\n",
              "      <td>19</td>\n",
              "      <td>0.0</td>\n",
              "      <td>1270.0</td>\n",
              "      <td>2</td>\n",
              "      <td>4</td>\n",
              "      <td>7.0</td>\n",
              "      <td>...</td>\n",
              "      <td>1</td>\n",
              "      <td>0</td>\n",
              "      <td>0</td>\n",
              "      <td>0</td>\n",
              "      <td>0</td>\n",
              "      <td>0</td>\n",
              "      <td>1</td>\n",
              "      <td>0</td>\n",
              "      <td>0</td>\n",
              "      <td>0</td>\n",
              "    </tr>\n",
              "    <tr>\n",
              "      <th>5887</th>\n",
              "      <td>2006</td>\n",
              "      <td>2017</td>\n",
              "      <td>8</td>\n",
              "      <td>903</td>\n",
              "      <td>13</td>\n",
              "      <td>123.0</td>\n",
              "      <td>181.0</td>\n",
              "      <td>1</td>\n",
              "      <td>4</td>\n",
              "      <td>3.0</td>\n",
              "      <td>...</td>\n",
              "      <td>1</td>\n",
              "      <td>0</td>\n",
              "      <td>0</td>\n",
              "      <td>0</td>\n",
              "      <td>0</td>\n",
              "      <td>0</td>\n",
              "      <td>0</td>\n",
              "      <td>1</td>\n",
              "      <td>0</td>\n",
              "      <td>0</td>\n",
              "    </tr>\n",
              "    <tr>\n",
              "      <th>5888</th>\n",
              "      <td>2007</td>\n",
              "      <td>2017</td>\n",
              "      <td>8</td>\n",
              "      <td>868</td>\n",
              "      <td>20</td>\n",
              "      <td>0.0</td>\n",
              "      <td>1270.0</td>\n",
              "      <td>2</td>\n",
              "      <td>4</td>\n",
              "      <td>7.0</td>\n",
              "      <td>...</td>\n",
              "      <td>1</td>\n",
              "      <td>0</td>\n",
              "      <td>0</td>\n",
              "      <td>0</td>\n",
              "      <td>0</td>\n",
              "      <td>0</td>\n",
              "      <td>1</td>\n",
              "      <td>0</td>\n",
              "      <td>0</td>\n",
              "      <td>0</td>\n",
              "    </tr>\n",
              "    <tr>\n",
              "      <th>5889</th>\n",
              "      <td>1978</td>\n",
              "      <td>2017</td>\n",
              "      <td>8</td>\n",
              "      <td>1327</td>\n",
              "      <td>1</td>\n",
              "      <td>87.0</td>\n",
              "      <td>0.0</td>\n",
              "      <td>2</td>\n",
              "      <td>4</td>\n",
              "      <td>2.0</td>\n",
              "      <td>...</td>\n",
              "      <td>0</td>\n",
              "      <td>1</td>\n",
              "      <td>0</td>\n",
              "      <td>0</td>\n",
              "      <td>0</td>\n",
              "      <td>0</td>\n",
              "      <td>1</td>\n",
              "      <td>0</td>\n",
              "      <td>0</td>\n",
              "      <td>0</td>\n",
              "    </tr>\n",
              "    <tr>\n",
              "      <th>5890</th>\n",
              "      <td>2007</td>\n",
              "      <td>2017</td>\n",
              "      <td>8</td>\n",
              "      <td>868</td>\n",
              "      <td>13</td>\n",
              "      <td>0.0</td>\n",
              "      <td>1270.0</td>\n",
              "      <td>2</td>\n",
              "      <td>4</td>\n",
              "      <td>7.0</td>\n",
              "      <td>...</td>\n",
              "      <td>1</td>\n",
              "      <td>0</td>\n",
              "      <td>0</td>\n",
              "      <td>0</td>\n",
              "      <td>0</td>\n",
              "      <td>0</td>\n",
              "      <td>1</td>\n",
              "      <td>0</td>\n",
              "      <td>0</td>\n",
              "      <td>0</td>\n",
              "    </tr>\n",
              "  </tbody>\n",
              "</table>\n",
              "<p>5891 rows × 40 columns</p>\n",
              "</div>\n",
              "      <button class=\"colab-df-convert\" onclick=\"convertToInteractive('df-87bdacda-7b00-425e-bb9d-a1d5e78230f9')\"\n",
              "              title=\"Convert this dataframe to an interactive table.\"\n",
              "              style=\"display:none;\">\n",
              "        \n",
              "  <svg xmlns=\"http://www.w3.org/2000/svg\" height=\"24px\"viewBox=\"0 0 24 24\"\n",
              "       width=\"24px\">\n",
              "    <path d=\"M0 0h24v24H0V0z\" fill=\"none\"/>\n",
              "    <path d=\"M18.56 5.44l.94 2.06.94-2.06 2.06-.94-2.06-.94-.94-2.06-.94 2.06-2.06.94zm-11 1L8.5 8.5l.94-2.06 2.06-.94-2.06-.94L8.5 2.5l-.94 2.06-2.06.94zm10 10l.94 2.06.94-2.06 2.06-.94-2.06-.94-.94-2.06-.94 2.06-2.06.94z\"/><path d=\"M17.41 7.96l-1.37-1.37c-.4-.4-.92-.59-1.43-.59-.52 0-1.04.2-1.43.59L10.3 9.45l-7.72 7.72c-.78.78-.78 2.05 0 2.83L4 21.41c.39.39.9.59 1.41.59.51 0 1.02-.2 1.41-.59l7.78-7.78 2.81-2.81c.8-.78.8-2.07 0-2.86zM5.41 20L4 18.59l7.72-7.72 1.47 1.35L5.41 20z\"/>\n",
              "  </svg>\n",
              "      </button>\n",
              "      \n",
              "  <style>\n",
              "    .colab-df-container {\n",
              "      display:flex;\n",
              "      flex-wrap:wrap;\n",
              "      gap: 12px;\n",
              "    }\n",
              "\n",
              "    .colab-df-convert {\n",
              "      background-color: #E8F0FE;\n",
              "      border: none;\n",
              "      border-radius: 50%;\n",
              "      cursor: pointer;\n",
              "      display: none;\n",
              "      fill: #1967D2;\n",
              "      height: 32px;\n",
              "      padding: 0 0 0 0;\n",
              "      width: 32px;\n",
              "    }\n",
              "\n",
              "    .colab-df-convert:hover {\n",
              "      background-color: #E2EBFA;\n",
              "      box-shadow: 0px 1px 2px rgba(60, 64, 67, 0.3), 0px 1px 3px 1px rgba(60, 64, 67, 0.15);\n",
              "      fill: #174EA6;\n",
              "    }\n",
              "\n",
              "    [theme=dark] .colab-df-convert {\n",
              "      background-color: #3B4455;\n",
              "      fill: #D2E3FC;\n",
              "    }\n",
              "\n",
              "    [theme=dark] .colab-df-convert:hover {\n",
              "      background-color: #434B5C;\n",
              "      box-shadow: 0px 1px 3px 1px rgba(0, 0, 0, 0.15);\n",
              "      filter: drop-shadow(0px 1px 2px rgba(0, 0, 0, 0.3));\n",
              "      fill: #FFFFFF;\n",
              "    }\n",
              "  </style>\n",
              "\n",
              "      <script>\n",
              "        const buttonEl =\n",
              "          document.querySelector('#df-87bdacda-7b00-425e-bb9d-a1d5e78230f9 button.colab-df-convert');\n",
              "        buttonEl.style.display =\n",
              "          google.colab.kernel.accessAllowed ? 'block' : 'none';\n",
              "\n",
              "        async function convertToInteractive(key) {\n",
              "          const element = document.querySelector('#df-87bdacda-7b00-425e-bb9d-a1d5e78230f9');\n",
              "          const dataTable =\n",
              "            await google.colab.kernel.invokeFunction('convertToInteractive',\n",
              "                                                     [key], {});\n",
              "          if (!dataTable) return;\n",
              "\n",
              "          const docLinkHtml = 'Like what you see? Visit the ' +\n",
              "            '<a target=\"_blank\" href=https://colab.research.google.com/notebooks/data_table.ipynb>data table notebook</a>'\n",
              "            + ' to learn more about interactive tables.';\n",
              "          element.innerHTML = '';\n",
              "          dataTable['output_type'] = 'display_data';\n",
              "          await google.colab.output.renderOutput(dataTable, element);\n",
              "          const docLink = document.createElement('div');\n",
              "          docLink.innerHTML = docLinkHtml;\n",
              "          element.appendChild(docLink);\n",
              "        }\n",
              "      </script>\n",
              "    </div>\n",
              "  </div>\n",
              "  "
            ]
          },
          "metadata": {},
          "execution_count": 83
        }
      ]
    },
    {
      "cell_type": "markdown",
      "source": [
        "На входном слое у нас должно быть 40 нейронов (потому что один дом характеризуется 40 признаками). На выходном слое должен быть один нейрон, потому что мы предсказываем одно чисило (стоимость дома). Функция активации выходного слоя не должна никак ограничивать значение нейрона. Скрытых слоев может быть сколько угодно, в них может быть сколько угодно нейронов - мы сами это определяем. Построем нейросеть с помощью API Keras фреймворка Tensorflow."
      ],
      "metadata": {
        "id": "7RmFXfop8Nkz"
      }
    },
    {
      "cell_type": "code",
      "source": [
        "model_regression = tf.keras.Sequential(\n",
        "    [\n",
        "        # Dense - полносвязный слой (каждый нейрон следующего слоя связан со всеми нейронами предыдущего)\n",
        "        tf.keras.layers.Dense(64, activation=\"relu\", input_shape=(40,)),\n",
        "        # на втором скрытом слое будет 32 нейрона\n",
        "        tf.keras.layers.Dense(32, activation=\"linear\"),\n",
        "        # Dropout позволяет внести фактор случайности - при обучении часть нейронов будет отключаться\n",
        "        # каждый нейрон, в данном случае, будет отключаться с вероятностью 0.1\n",
        "        tf.keras.layers.Dropout(0.1),\n",
        "        tf.keras.layers.Dense(16, activation=\"relu\"),\n",
        "        tf.keras.layers.Dropout(0.1),\n",
        "        # на выходе один нейрон\n",
        "        tf.keras.layers.Dense(1, activation=\"linear\"),\n",
        "    ]\n",
        ")"
      ],
      "metadata": {
        "id": "PhhNnPUy8R8K"
      },
      "execution_count": null,
      "outputs": []
    },
    {
      "cell_type": "code",
      "source": [
        "# посмотрим, какая сеть у нас получилась\n",
        "model_regression.summary()"
      ],
      "metadata": {
        "colab": {
          "base_uri": "https://localhost:8080/"
        },
        "id": "fNMAKTiC8bsj",
        "outputId": "1659c04a-f554-4408-ebcf-d9cdaff2690e"
      },
      "execution_count": null,
      "outputs": [
        {
          "output_type": "stream",
          "name": "stdout",
          "text": [
            "Model: \"sequential_10\"\n",
            "_________________________________________________________________\n",
            " Layer (type)                Output Shape              Param #   \n",
            "=================================================================\n",
            " dense_58 (Dense)            (None, 64)                2624      \n",
            "                                                                 \n",
            " dense_59 (Dense)            (None, 32)                2080      \n",
            "                                                                 \n",
            " dropout_16 (Dropout)        (None, 32)                0         \n",
            "                                                                 \n",
            " dense_60 (Dense)            (None, 16)                528       \n",
            "                                                                 \n",
            " dropout_17 (Dropout)        (None, 16)                0         \n",
            "                                                                 \n",
            " dense_61 (Dense)            (None, 1)                 17        \n",
            "                                                                 \n",
            "=================================================================\n",
            "Total params: 5,249\n",
            "Trainable params: 5,249\n",
            "Non-trainable params: 0\n",
            "_________________________________________________________________\n"
          ]
        }
      ]
    },
    {
      "cell_type": "markdown",
      "source": [
        "Видим количество обучаемых параметров каждого слоя и общее количество обучаемых параметров. Перед использованием модель необходимо скомпилировать, при этом указывается оптимизатор, скорость обучения (можно представлять как величину шага в методе градиентного спуска), функция потерь и метрики, которые мы хотим (при желании) вычислять в будущем методом evaluate()"
      ],
      "metadata": {
        "id": "HWfqi5G38gGS"
      }
    },
    {
      "cell_type": "code",
      "source": [
        "model_regression.compile(optimizer=tf.keras.optimizers.Adam(learning_rate=0.005), loss=\"mse\")"
      ],
      "metadata": {
        "id": "Ml6IVAqy8hST"
      },
      "execution_count": null,
      "outputs": []
    },
    {
      "cell_type": "markdown",
      "source": [
        "Мы готовы начинать обучения. В процессе обучения выключим логгирование (verbose=None). Основной параметр обучения - количеcтво эпох. Оно показывает, сколько раз модель пропустит через себя всю обучающую выборку. При этом существуют разные подходы к обучению - можно не просматривать всю выборку на одной эпохе, а генерировать каждый раз случайную подвыборку и обучаться на ней в рамках текущей эпохи. Это позволит сэкономить время обучения и предотвратить возможное переобучение."
      ],
      "metadata": {
        "id": "Jp3oPyvt8lSC"
      }
    },
    {
      "cell_type": "code",
      "source": [
        "model_regression.fit(X_regression_train, y_regression_train, epochs=10, verbose=None)"
      ],
      "metadata": {
        "colab": {
          "base_uri": "https://localhost:8080/"
        },
        "id": "r164dBLk8jik",
        "outputId": "ddb5594b-070c-41ad-84be-2148309edcce"
      },
      "execution_count": null,
      "outputs": [
        {
          "output_type": "execute_result",
          "data": {
            "text/plain": [
              "<keras.callbacks.History at 0x7f648ba90760>"
            ]
          },
          "metadata": {},
          "execution_count": 87
        }
      ]
    },
    {
      "cell_type": "markdown",
      "source": [
        "Обучение нейронной сети завершено. Проверим нашу модель с помощью метрик, которые использовали ранее."
      ],
      "metadata": {
        "id": "6FhlQUsy8rxS"
      }
    },
    {
      "cell_type": "code",
      "source": [
        "print(mean_absolute_error(y_regression_test, model_regression.predict(X_regression_test, verbose=None)))\n",
        "print(mean_squared_error(y_regression_test, model_regression.predict(X_regression_test, verbose=None)))"
      ],
      "metadata": {
        "colab": {
          "base_uri": "https://localhost:8080/"
        },
        "id": "cZGs0s3b8uhC",
        "outputId": "a06f47b8-46c2-44d9-b123-cba9120143d7"
      },
      "execution_count": null,
      "outputs": [
        {
          "output_type": "stream",
          "name": "stdout",
          "text": [
            "47727.85902048876\n",
            "3815655758.5325108\n"
          ]
        }
      ]
    },
    {
      "cell_type": "markdown",
      "source": [
        "Видим, что результаты обучения есть, но они пока хуже моделей, которые мы рассматривали ранее. Попробуем изменить архитектуру сети и увеличить количество эпох."
      ],
      "metadata": {
        "id": "LJ-AHWWF8-B7"
      }
    },
    {
      "cell_type": "code",
      "source": [
        "model_regression = tf.keras.Sequential(\n",
        "    [\n",
        "        tf.keras.layers.Dense(64, activation=\"relu\", input_shape=(40,)),\n",
        "        tf.keras.layers.Dense(128, activation=\"linear\"),\n",
        "        tf.keras.layers.Dropout(0.05),\n",
        "        tf.keras.layers.Dense(256, activation=\"relu\"),\n",
        "        tf.keras.layers.Dropout(0.025),\n",
        "        tf.keras.layers.Dense(128, activation=\"linear\"),\n",
        "        tf.keras.layers.Dropout(0.05),\n",
        "        tf.keras.layers.Dense(64, activation=\"relu\"),\n",
        "        tf.keras.layers.Dense(32, activation=\"linear\"),\n",
        "        # на выходе один нейрон\n",
        "        tf.keras.layers.Dense(1, activation=\"linear\"),\n",
        "    ]\n",
        ")\n",
        "model_regression.compile(optimizer=tf.keras.optimizers.Adam(learning_rate=0.01), loss=\"mse\")\n",
        "model_regression.fit(X_regression_train, y_regression_train, epochs=50, verbose=None)\n",
        "print(mean_absolute_error(y_regression_test, model_regression.predict(X_regression_test, verbose=None)))\n",
        "print(mean_squared_error(y_regression_test, model_regression.predict(X_regression_test, verbose=None)))"
      ],
      "metadata": {
        "colab": {
          "base_uri": "https://localhost:8080/"
        },
        "id": "bdh1rINo8_1D",
        "outputId": "6d64712d-ea10-412f-91a0-fcf7181ae5f1"
      },
      "execution_count": null,
      "outputs": [
        {
          "output_type": "stream",
          "name": "stdout",
          "text": [
            "41050.87648099555\n",
            "2398546142.748909\n"
          ]
        }
      ]
    },
    {
      "cell_type": "markdown",
      "source": [
        "Мы получили наглядную демонстрацию важного факта - в некоторых задачах применение нейронных сетей менее целесообразно, чем использование более простых моделей. Но иногда они дают лучшие результаты. Важную роль еще играет подбор архитектуры и параметров."
      ],
      "metadata": {
        "id": "czRUN6e29NtH"
      }
    },
    {
      "cell_type": "markdown",
      "source": [
        "## Решение задачи классификации"
      ],
      "metadata": {
        "id": "UnM__DvbArzV"
      }
    },
    {
      "cell_type": "code",
      "source": [
        "X_classification"
      ],
      "metadata": {
        "colab": {
          "base_uri": "https://localhost:8080/",
          "height": 505
        },
        "id": "uehce8nu9biz",
        "outputId": "737091b0-3ca8-4b27-98f3-4254cb6c9993"
      },
      "execution_count": null,
      "outputs": [
        {
          "output_type": "execute_result",
          "data": {
            "text/plain": [
              "       Unnamed: 0  Customer_Age  Dependent_count  Education_Level  \\\n",
              "0               0            45                3                2   \n",
              "1               1            49                5                5   \n",
              "2               2            51                3                5   \n",
              "3               3            40                4                2   \n",
              "4               4            40                3                1   \n",
              "...           ...           ...              ...              ...   \n",
              "10122       10122            50                2                5   \n",
              "10123       10123            41                2                0   \n",
              "10124       10124            44                1                2   \n",
              "10125       10125            30                2                5   \n",
              "10126       10126            43                2                5   \n",
              "\n",
              "       Income_Category  Card_Category  Months_on_book  \\\n",
              "0                    3              0              39   \n",
              "1                    1              0              44   \n",
              "2                    4              0              36   \n",
              "3                    1              0              34   \n",
              "4                    3              0              21   \n",
              "...                ...            ...             ...   \n",
              "10122                2              0              40   \n",
              "10123                2              0              25   \n",
              "10124                1              0              36   \n",
              "10125                2              0              36   \n",
              "10126                1              1              25   \n",
              "\n",
              "       Total_Relationship_Count  Months_Inactive_12_mon  \\\n",
              "0                             5                       1   \n",
              "1                             6                       1   \n",
              "2                             4                       1   \n",
              "3                             3                       4   \n",
              "4                             5                       1   \n",
              "...                         ...                     ...   \n",
              "10122                         3                       2   \n",
              "10123                         4                       2   \n",
              "10124                         5                       3   \n",
              "10125                         4                       3   \n",
              "10126                         6                       2   \n",
              "\n",
              "       Contacts_Count_12_mon  ...  Total_Trans_Amt  Total_Trans_Ct  \\\n",
              "0                          3  ...             1144              42   \n",
              "1                          2  ...             1291              33   \n",
              "2                          0  ...             1887              20   \n",
              "3                          1  ...             1171              20   \n",
              "4                          0  ...              816              28   \n",
              "...                      ...  ...              ...             ...   \n",
              "10122                      3  ...            15476             117   \n",
              "10123                      3  ...             8764              69   \n",
              "10124                      4  ...            10291              60   \n",
              "10125                      3  ...             8395              62   \n",
              "10126                      4  ...            10294              61   \n",
              "\n",
              "       Total_Ct_Chng_Q4_Q1  Avg_Utilization_Ratio  c_F  c_M  c_Divorced  \\\n",
              "0                    1.625                  0.061    0    1           0   \n",
              "1                    3.714                  0.105    1    0           0   \n",
              "2                    2.333                  0.000    0    1           0   \n",
              "3                    2.333                  0.760    1    0           0   \n",
              "4                    2.500                  0.000    0    1           0   \n",
              "...                    ...                    ...  ...  ...         ...   \n",
              "10122                0.857                  0.462    0    1           0   \n",
              "10123                0.683                  0.511    0    1           1   \n",
              "10124                0.818                  0.000    1    0           0   \n",
              "10125                0.722                  0.000    0    1           0   \n",
              "10126                0.649                  0.189    1    0           0   \n",
              "\n",
              "       c_Married  c_Single  c_Unknown  \n",
              "0              1         0          0  \n",
              "1              0         1          0  \n",
              "2              1         0          0  \n",
              "3              0         0          1  \n",
              "4              1         0          0  \n",
              "...          ...       ...        ...  \n",
              "10122          0         1          0  \n",
              "10123          0         0          0  \n",
              "10124          1         0          0  \n",
              "10125          0         0          1  \n",
              "10126          1         0          0  \n",
              "\n",
              "[10127 rows x 24 columns]"
            ],
            "text/html": [
              "\n",
              "  <div id=\"df-4d9134eb-42ae-4d9e-8526-00f4eadcf2da\">\n",
              "    <div class=\"colab-df-container\">\n",
              "      <div>\n",
              "<style scoped>\n",
              "    .dataframe tbody tr th:only-of-type {\n",
              "        vertical-align: middle;\n",
              "    }\n",
              "\n",
              "    .dataframe tbody tr th {\n",
              "        vertical-align: top;\n",
              "    }\n",
              "\n",
              "    .dataframe thead th {\n",
              "        text-align: right;\n",
              "    }\n",
              "</style>\n",
              "<table border=\"1\" class=\"dataframe\">\n",
              "  <thead>\n",
              "    <tr style=\"text-align: right;\">\n",
              "      <th></th>\n",
              "      <th>Unnamed: 0</th>\n",
              "      <th>Customer_Age</th>\n",
              "      <th>Dependent_count</th>\n",
              "      <th>Education_Level</th>\n",
              "      <th>Income_Category</th>\n",
              "      <th>Card_Category</th>\n",
              "      <th>Months_on_book</th>\n",
              "      <th>Total_Relationship_Count</th>\n",
              "      <th>Months_Inactive_12_mon</th>\n",
              "      <th>Contacts_Count_12_mon</th>\n",
              "      <th>...</th>\n",
              "      <th>Total_Trans_Amt</th>\n",
              "      <th>Total_Trans_Ct</th>\n",
              "      <th>Total_Ct_Chng_Q4_Q1</th>\n",
              "      <th>Avg_Utilization_Ratio</th>\n",
              "      <th>c_F</th>\n",
              "      <th>c_M</th>\n",
              "      <th>c_Divorced</th>\n",
              "      <th>c_Married</th>\n",
              "      <th>c_Single</th>\n",
              "      <th>c_Unknown</th>\n",
              "    </tr>\n",
              "  </thead>\n",
              "  <tbody>\n",
              "    <tr>\n",
              "      <th>0</th>\n",
              "      <td>0</td>\n",
              "      <td>45</td>\n",
              "      <td>3</td>\n",
              "      <td>2</td>\n",
              "      <td>3</td>\n",
              "      <td>0</td>\n",
              "      <td>39</td>\n",
              "      <td>5</td>\n",
              "      <td>1</td>\n",
              "      <td>3</td>\n",
              "      <td>...</td>\n",
              "      <td>1144</td>\n",
              "      <td>42</td>\n",
              "      <td>1.625</td>\n",
              "      <td>0.061</td>\n",
              "      <td>0</td>\n",
              "      <td>1</td>\n",
              "      <td>0</td>\n",
              "      <td>1</td>\n",
              "      <td>0</td>\n",
              "      <td>0</td>\n",
              "    </tr>\n",
              "    <tr>\n",
              "      <th>1</th>\n",
              "      <td>1</td>\n",
              "      <td>49</td>\n",
              "      <td>5</td>\n",
              "      <td>5</td>\n",
              "      <td>1</td>\n",
              "      <td>0</td>\n",
              "      <td>44</td>\n",
              "      <td>6</td>\n",
              "      <td>1</td>\n",
              "      <td>2</td>\n",
              "      <td>...</td>\n",
              "      <td>1291</td>\n",
              "      <td>33</td>\n",
              "      <td>3.714</td>\n",
              "      <td>0.105</td>\n",
              "      <td>1</td>\n",
              "      <td>0</td>\n",
              "      <td>0</td>\n",
              "      <td>0</td>\n",
              "      <td>1</td>\n",
              "      <td>0</td>\n",
              "    </tr>\n",
              "    <tr>\n",
              "      <th>2</th>\n",
              "      <td>2</td>\n",
              "      <td>51</td>\n",
              "      <td>3</td>\n",
              "      <td>5</td>\n",
              "      <td>4</td>\n",
              "      <td>0</td>\n",
              "      <td>36</td>\n",
              "      <td>4</td>\n",
              "      <td>1</td>\n",
              "      <td>0</td>\n",
              "      <td>...</td>\n",
              "      <td>1887</td>\n",
              "      <td>20</td>\n",
              "      <td>2.333</td>\n",
              "      <td>0.000</td>\n",
              "      <td>0</td>\n",
              "      <td>1</td>\n",
              "      <td>0</td>\n",
              "      <td>1</td>\n",
              "      <td>0</td>\n",
              "      <td>0</td>\n",
              "    </tr>\n",
              "    <tr>\n",
              "      <th>3</th>\n",
              "      <td>3</td>\n",
              "      <td>40</td>\n",
              "      <td>4</td>\n",
              "      <td>2</td>\n",
              "      <td>1</td>\n",
              "      <td>0</td>\n",
              "      <td>34</td>\n",
              "      <td>3</td>\n",
              "      <td>4</td>\n",
              "      <td>1</td>\n",
              "      <td>...</td>\n",
              "      <td>1171</td>\n",
              "      <td>20</td>\n",
              "      <td>2.333</td>\n",
              "      <td>0.760</td>\n",
              "      <td>1</td>\n",
              "      <td>0</td>\n",
              "      <td>0</td>\n",
              "      <td>0</td>\n",
              "      <td>0</td>\n",
              "      <td>1</td>\n",
              "    </tr>\n",
              "    <tr>\n",
              "      <th>4</th>\n",
              "      <td>4</td>\n",
              "      <td>40</td>\n",
              "      <td>3</td>\n",
              "      <td>1</td>\n",
              "      <td>3</td>\n",
              "      <td>0</td>\n",
              "      <td>21</td>\n",
              "      <td>5</td>\n",
              "      <td>1</td>\n",
              "      <td>0</td>\n",
              "      <td>...</td>\n",
              "      <td>816</td>\n",
              "      <td>28</td>\n",
              "      <td>2.500</td>\n",
              "      <td>0.000</td>\n",
              "      <td>0</td>\n",
              "      <td>1</td>\n",
              "      <td>0</td>\n",
              "      <td>1</td>\n",
              "      <td>0</td>\n",
              "      <td>0</td>\n",
              "    </tr>\n",
              "    <tr>\n",
              "      <th>...</th>\n",
              "      <td>...</td>\n",
              "      <td>...</td>\n",
              "      <td>...</td>\n",
              "      <td>...</td>\n",
              "      <td>...</td>\n",
              "      <td>...</td>\n",
              "      <td>...</td>\n",
              "      <td>...</td>\n",
              "      <td>...</td>\n",
              "      <td>...</td>\n",
              "      <td>...</td>\n",
              "      <td>...</td>\n",
              "      <td>...</td>\n",
              "      <td>...</td>\n",
              "      <td>...</td>\n",
              "      <td>...</td>\n",
              "      <td>...</td>\n",
              "      <td>...</td>\n",
              "      <td>...</td>\n",
              "      <td>...</td>\n",
              "      <td>...</td>\n",
              "    </tr>\n",
              "    <tr>\n",
              "      <th>10122</th>\n",
              "      <td>10122</td>\n",
              "      <td>50</td>\n",
              "      <td>2</td>\n",
              "      <td>5</td>\n",
              "      <td>2</td>\n",
              "      <td>0</td>\n",
              "      <td>40</td>\n",
              "      <td>3</td>\n",
              "      <td>2</td>\n",
              "      <td>3</td>\n",
              "      <td>...</td>\n",
              "      <td>15476</td>\n",
              "      <td>117</td>\n",
              "      <td>0.857</td>\n",
              "      <td>0.462</td>\n",
              "      <td>0</td>\n",
              "      <td>1</td>\n",
              "      <td>0</td>\n",
              "      <td>0</td>\n",
              "      <td>1</td>\n",
              "      <td>0</td>\n",
              "    </tr>\n",
              "    <tr>\n",
              "      <th>10123</th>\n",
              "      <td>10123</td>\n",
              "      <td>41</td>\n",
              "      <td>2</td>\n",
              "      <td>0</td>\n",
              "      <td>2</td>\n",
              "      <td>0</td>\n",
              "      <td>25</td>\n",
              "      <td>4</td>\n",
              "      <td>2</td>\n",
              "      <td>3</td>\n",
              "      <td>...</td>\n",
              "      <td>8764</td>\n",
              "      <td>69</td>\n",
              "      <td>0.683</td>\n",
              "      <td>0.511</td>\n",
              "      <td>0</td>\n",
              "      <td>1</td>\n",
              "      <td>1</td>\n",
              "      <td>0</td>\n",
              "      <td>0</td>\n",
              "      <td>0</td>\n",
              "    </tr>\n",
              "    <tr>\n",
              "      <th>10124</th>\n",
              "      <td>10124</td>\n",
              "      <td>44</td>\n",
              "      <td>1</td>\n",
              "      <td>2</td>\n",
              "      <td>1</td>\n",
              "      <td>0</td>\n",
              "      <td>36</td>\n",
              "      <td>5</td>\n",
              "      <td>3</td>\n",
              "      <td>4</td>\n",
              "      <td>...</td>\n",
              "      <td>10291</td>\n",
              "      <td>60</td>\n",
              "      <td>0.818</td>\n",
              "      <td>0.000</td>\n",
              "      <td>1</td>\n",
              "      <td>0</td>\n",
              "      <td>0</td>\n",
              "      <td>1</td>\n",
              "      <td>0</td>\n",
              "      <td>0</td>\n",
              "    </tr>\n",
              "    <tr>\n",
              "      <th>10125</th>\n",
              "      <td>10125</td>\n",
              "      <td>30</td>\n",
              "      <td>2</td>\n",
              "      <td>5</td>\n",
              "      <td>2</td>\n",
              "      <td>0</td>\n",
              "      <td>36</td>\n",
              "      <td>4</td>\n",
              "      <td>3</td>\n",
              "      <td>3</td>\n",
              "      <td>...</td>\n",
              "      <td>8395</td>\n",
              "      <td>62</td>\n",
              "      <td>0.722</td>\n",
              "      <td>0.000</td>\n",
              "      <td>0</td>\n",
              "      <td>1</td>\n",
              "      <td>0</td>\n",
              "      <td>0</td>\n",
              "      <td>0</td>\n",
              "      <td>1</td>\n",
              "    </tr>\n",
              "    <tr>\n",
              "      <th>10126</th>\n",
              "      <td>10126</td>\n",
              "      <td>43</td>\n",
              "      <td>2</td>\n",
              "      <td>5</td>\n",
              "      <td>1</td>\n",
              "      <td>1</td>\n",
              "      <td>25</td>\n",
              "      <td>6</td>\n",
              "      <td>2</td>\n",
              "      <td>4</td>\n",
              "      <td>...</td>\n",
              "      <td>10294</td>\n",
              "      <td>61</td>\n",
              "      <td>0.649</td>\n",
              "      <td>0.189</td>\n",
              "      <td>1</td>\n",
              "      <td>0</td>\n",
              "      <td>0</td>\n",
              "      <td>1</td>\n",
              "      <td>0</td>\n",
              "      <td>0</td>\n",
              "    </tr>\n",
              "  </tbody>\n",
              "</table>\n",
              "<p>10127 rows × 24 columns</p>\n",
              "</div>\n",
              "      <button class=\"colab-df-convert\" onclick=\"convertToInteractive('df-4d9134eb-42ae-4d9e-8526-00f4eadcf2da')\"\n",
              "              title=\"Convert this dataframe to an interactive table.\"\n",
              "              style=\"display:none;\">\n",
              "        \n",
              "  <svg xmlns=\"http://www.w3.org/2000/svg\" height=\"24px\"viewBox=\"0 0 24 24\"\n",
              "       width=\"24px\">\n",
              "    <path d=\"M0 0h24v24H0V0z\" fill=\"none\"/>\n",
              "    <path d=\"M18.56 5.44l.94 2.06.94-2.06 2.06-.94-2.06-.94-.94-2.06-.94 2.06-2.06.94zm-11 1L8.5 8.5l.94-2.06 2.06-.94-2.06-.94L8.5 2.5l-.94 2.06-2.06.94zm10 10l.94 2.06.94-2.06 2.06-.94-2.06-.94-.94-2.06-.94 2.06-2.06.94z\"/><path d=\"M17.41 7.96l-1.37-1.37c-.4-.4-.92-.59-1.43-.59-.52 0-1.04.2-1.43.59L10.3 9.45l-7.72 7.72c-.78.78-.78 2.05 0 2.83L4 21.41c.39.39.9.59 1.41.59.51 0 1.02-.2 1.41-.59l7.78-7.78 2.81-2.81c.8-.78.8-2.07 0-2.86zM5.41 20L4 18.59l7.72-7.72 1.47 1.35L5.41 20z\"/>\n",
              "  </svg>\n",
              "      </button>\n",
              "      \n",
              "  <style>\n",
              "    .colab-df-container {\n",
              "      display:flex;\n",
              "      flex-wrap:wrap;\n",
              "      gap: 12px;\n",
              "    }\n",
              "\n",
              "    .colab-df-convert {\n",
              "      background-color: #E8F0FE;\n",
              "      border: none;\n",
              "      border-radius: 50%;\n",
              "      cursor: pointer;\n",
              "      display: none;\n",
              "      fill: #1967D2;\n",
              "      height: 32px;\n",
              "      padding: 0 0 0 0;\n",
              "      width: 32px;\n",
              "    }\n",
              "\n",
              "    .colab-df-convert:hover {\n",
              "      background-color: #E2EBFA;\n",
              "      box-shadow: 0px 1px 2px rgba(60, 64, 67, 0.3), 0px 1px 3px 1px rgba(60, 64, 67, 0.15);\n",
              "      fill: #174EA6;\n",
              "    }\n",
              "\n",
              "    [theme=dark] .colab-df-convert {\n",
              "      background-color: #3B4455;\n",
              "      fill: #D2E3FC;\n",
              "    }\n",
              "\n",
              "    [theme=dark] .colab-df-convert:hover {\n",
              "      background-color: #434B5C;\n",
              "      box-shadow: 0px 1px 3px 1px rgba(0, 0, 0, 0.15);\n",
              "      filter: drop-shadow(0px 1px 2px rgba(0, 0, 0, 0.3));\n",
              "      fill: #FFFFFF;\n",
              "    }\n",
              "  </style>\n",
              "\n",
              "      <script>\n",
              "        const buttonEl =\n",
              "          document.querySelector('#df-4d9134eb-42ae-4d9e-8526-00f4eadcf2da button.colab-df-convert');\n",
              "        buttonEl.style.display =\n",
              "          google.colab.kernel.accessAllowed ? 'block' : 'none';\n",
              "\n",
              "        async function convertToInteractive(key) {\n",
              "          const element = document.querySelector('#df-4d9134eb-42ae-4d9e-8526-00f4eadcf2da');\n",
              "          const dataTable =\n",
              "            await google.colab.kernel.invokeFunction('convertToInteractive',\n",
              "                                                     [key], {});\n",
              "          if (!dataTable) return;\n",
              "\n",
              "          const docLinkHtml = 'Like what you see? Visit the ' +\n",
              "            '<a target=\"_blank\" href=https://colab.research.google.com/notebooks/data_table.ipynb>data table notebook</a>'\n",
              "            + ' to learn more about interactive tables.';\n",
              "          element.innerHTML = '';\n",
              "          dataTable['output_type'] = 'display_data';\n",
              "          await google.colab.output.renderOutput(dataTable, element);\n",
              "          const docLink = document.createElement('div');\n",
              "          docLink.innerHTML = docLinkHtml;\n",
              "          element.appendChild(docLink);\n",
              "        }\n",
              "      </script>\n",
              "    </div>\n",
              "  </div>\n",
              "  "
            ]
          },
          "metadata": {},
          "execution_count": 90
        }
      ]
    },
    {
      "cell_type": "markdown",
      "source": [
        "Нейронная сеть для решения задачи классификации будет очень похожа на ту сеть для регрессии, однако у нее по другому будет организован выходной слой. У нас есть 2 стратегии наполнения выходного слоя нейронами:\n",
        "\n",
        "- при решении задачи бинарной классификации мы можем расположить на выходном слое один нейрон с функцией активации sigmoid (значения от 0 и 1), после чего округлять полученные значения; значение нейрона покажет уверенность сети в предсказании; также мы можем расположить 2 нейрона на выходном слое и применить функцию softmax. Тогда сумма значений нейронов выходного слоя будет 1, а предсказание мы сможем получить определив нейрон с наибольшим значением;\n",
        "- в случае многоклассовой классификации, как правило, на выходном слое располагаются k нейронов (по количеству классов), функция активации - softmax; нейрон с наибольшим значением определяет предсказанный класс."
      ],
      "metadata": {
        "id": "0HIEnlSL9c0a"
      }
    },
    {
      "cell_type": "markdown",
      "source": [
        "У нас задача бинарной классификации, попробуем обе стратегии."
      ],
      "metadata": {
        "id": "QXIDSfBw9lMJ"
      }
    },
    {
      "cell_type": "code",
      "source": [
        "model_classification_1 = tf.keras.Sequential(\n",
        "    [\n",
        "        tf.keras.layers.Dense(64, activation=\"relu\", input_shape=(24,)),\n",
        "        tf.keras.layers.Dense(128, activation=\"relu\"),\n",
        "        tf.keras.layers.Dropout(0.05),\n",
        "        tf.keras.layers.Dense(64, activation=\"relu\"),\n",
        "        tf.keras.layers.Dense(32, activation=\"relu\"),\n",
        "        tf.keras.layers.Dense(16, activation=\"relu\"),\n",
        "        # сначала используем 1 нейрон и sigmoid\n",
        "        tf.keras.layers.Dense(1, activation=\"sigmoid\"),\n",
        "    ]\n",
        ")\n",
        "# в качестве функции активации используется бинарная  кроссэнтропия\n",
        "model_classification_1.compile(optimizer=tf.keras.optimizers.Adam(learning_rate=0.001), loss=\"binary_crossentropy\")\n",
        "model_classification_1.fit(X_classification_train, y_classification_train, epochs=25, verbose=None)"
      ],
      "metadata": {
        "colab": {
          "base_uri": "https://localhost:8080/"
        },
        "id": "2BEX43pr9p2p",
        "outputId": "68c856d3-eb08-4539-965c-4b97e2809b96"
      },
      "execution_count": null,
      "outputs": [
        {
          "output_type": "execute_result",
          "data": {
            "text/plain": [
              "<keras.callbacks.History at 0x7f647ad19730>"
            ]
          },
          "metadata": {},
          "execution_count": 91
        }
      ]
    },
    {
      "cell_type": "markdown",
      "source": [
        "Посмотрим, как выглядят предсказания сети."
      ],
      "metadata": {
        "id": "KJ8MZDLE9z7B"
      }
    },
    {
      "cell_type": "code",
      "source": [
        "model_classification_1.predict(X_classification_test, verbose=None)[:5]"
      ],
      "metadata": {
        "colab": {
          "base_uri": "https://localhost:8080/"
        },
        "id": "C4FwCy_t93ey",
        "outputId": "507bb8e3-400e-4d1e-dc01-7a228e9ae4ee"
      },
      "execution_count": null,
      "outputs": [
        {
          "output_type": "execute_result",
          "data": {
            "text/plain": [
              "array([[0.00657383],\n",
              "       [0.02044146],\n",
              "       [0.05475384],\n",
              "       [0.00325422],\n",
              "       [0.00333835]], dtype=float32)"
            ]
          },
          "metadata": {},
          "execution_count": 92
        }
      ]
    },
    {
      "cell_type": "markdown",
      "source": [
        "Это числа от 0 до 1, поскольку мы использовали sigmoid. Для того, чтобы получить финальное предсказания классов, необходимо округлить все полученные значения."
      ],
      "metadata": {
        "id": "8XaBpZJr94lJ"
      }
    },
    {
      "cell_type": "code",
      "source": [
        "y_pred = np.around(model_classification_1.predict(X_classification_test, verbose=None))\n",
        "print(classification_report(y_classification_test, y_pred))\n",
        "print(confusion_matrix(y_classification_test, y_pred))"
      ],
      "metadata": {
        "colab": {
          "base_uri": "https://localhost:8080/"
        },
        "id": "F_UfDiTJ-IC5",
        "outputId": "2bce0c56-1f4e-4b1e-a84b-d338d4e7c55a"
      },
      "execution_count": null,
      "outputs": [
        {
          "output_type": "stream",
          "name": "stdout",
          "text": [
            "              precision    recall  f1-score   support\n",
            "\n",
            "           0       0.93      0.99      0.96      1701\n",
            "           1       0.95      0.59      0.73       325\n",
            "\n",
            "    accuracy                           0.93      2026\n",
            "   macro avg       0.94      0.79      0.84      2026\n",
            "weighted avg       0.93      0.93      0.92      2026\n",
            "\n",
            "[[1691   10]\n",
            " [ 134  191]]\n"
          ]
        }
      ]
    },
    {
      "cell_type": "markdown",
      "source": [
        "Нейросеть отлично научилась выделять объекты более распространенного класса. Но в данных сильный дисбаланс и результаты отличаются от ожидаемых. Можем указать веса (параметр class_weight), которые будут использоваться при оптимизации функции ошибки. В качестве весов классов можно задать величины, обратные количеству элементов класса."
      ],
      "metadata": {
        "id": "fnqZC4pJ-WtR"
      }
    },
    {
      "cell_type": "code",
      "source": [
        "w0 = 1 / y_classification_train[y_classification_train==0].shape[0]\n",
        "w1 = 1 / y_classification_train[y_classification_train==1].shape[0]"
      ],
      "metadata": {
        "id": "5ozsWGH2-cPJ"
      },
      "execution_count": null,
      "outputs": []
    },
    {
      "cell_type": "code",
      "source": [
        "model_classification_1 = tf.keras.Sequential(\n",
        "    [\n",
        "        tf.keras.layers.Dense(64, activation=\"relu\", input_shape=(24,)),\n",
        "        tf.keras.layers.Dense(128, activation=\"relu\"),\n",
        "        tf.keras.layers.Dropout(0.05),\n",
        "        tf.keras.layers.Dense(64, activation=\"relu\"),\n",
        "        tf.keras.layers.Dense(32, activation=\"relu\"),\n",
        "        tf.keras.layers.Dense(16, activation=\"relu\"),\n",
        "        # сначала используем 1 нейрон и sigmoid\n",
        "        tf.keras.layers.Dense(1, activation=\"sigmoid\"),\n",
        "    ]\n",
        ")\n",
        "model_classification_1.compile(optimizer=tf.keras.optimizers.Adam(learning_rate=0.005), loss=\"binary_crossentropy\")\n",
        "model_classification_1.fit(X_classification_train, y_classification_train, epochs=25, verbose=None,\n",
        "                           class_weight={0: w0, 1: w1})\n",
        "y_pred = np.around(model_classification_1.predict(X_classification_test, verbose=None))\n",
        "print(classification_report(y_classification_test, y_pred))\n",
        "print(confusion_matrix(y_classification_test, y_pred))"
      ],
      "metadata": {
        "colab": {
          "base_uri": "https://localhost:8080/"
        },
        "id": "A5IEZhrr-c2J",
        "outputId": "4de3b811-0f6c-43a7-e4dd-e6e85da924b2"
      },
      "execution_count": null,
      "outputs": [
        {
          "output_type": "stream",
          "name": "stdout",
          "text": [
            "              precision    recall  f1-score   support\n",
            "\n",
            "           0       0.95      0.94      0.94      1701\n",
            "           1       0.71      0.72      0.71       325\n",
            "\n",
            "    accuracy                           0.91      2026\n",
            "   macro avg       0.83      0.83      0.83      2026\n",
            "weighted avg       0.91      0.91      0.91      2026\n",
            "\n",
            "[[1605   96]\n",
            " [  91  234]]\n"
          ]
        }
      ]
    },
    {
      "cell_type": "markdown",
      "source": [
        "Видим улучшения. Можем поиграть с архитектурой и параметрами и добиться еще более качественных результатов. Но напоследок давайте попробуем разместить 2 нейрона на выходном слое и использовать softmax в качестве функции активации."
      ],
      "metadata": {
        "id": "81yPZcRk-zKB"
      }
    },
    {
      "cell_type": "code",
      "source": [
        "model_classification_2 = tf.keras.Sequential(\n",
        "    [\n",
        "        tf.keras.layers.Dense(64, activation=\"relu\", input_shape=(24,)),\n",
        "        tf.keras.layers.Dense(128, activation=\"relu\"),\n",
        "        tf.keras.layers.Dropout(0.05),\n",
        "        tf.keras.layers.Dense(64, activation=\"relu\"),\n",
        "        tf.keras.layers.Dense(32, activation=\"relu\"),\n",
        "        tf.keras.layers.Dense(16, activation=\"relu\"),\n",
        "        # сначала используем 2 нейрона и softmax\n",
        "        tf.keras.layers.Dense(2, activation=\"softmax\"),\n",
        "    ]\n",
        ")\n",
        "# в качестве функции активации используется категориальная кроссэнтропия\n",
        "# используем разряженный (sparse) вариант, поскольку значения целевого признака не закодированы One-Hot кодированием\n",
        "model_classification_2.compile(optimizer=tf.keras.optimizers.Adam(learning_rate=0.005), loss=\"sparse_categorical_crossentropy\")\n",
        "model_classification_2.fit(X_classification_train, y_classification_train, epochs=25, verbose=None,\n",
        "                           class_weight={0: w0, 1: w1})"
      ],
      "metadata": {
        "colab": {
          "base_uri": "https://localhost:8080/"
        },
        "id": "EQ1VMVsG-6FJ",
        "outputId": "c6e99157-b019-41c6-ae40-c545f1d0f09c"
      },
      "execution_count": null,
      "outputs": [
        {
          "output_type": "execute_result",
          "data": {
            "text/plain": [
              "<keras.callbacks.History at 0x7f647a7f66a0>"
            ]
          },
          "metadata": {},
          "execution_count": 96
        }
      ]
    },
    {
      "cell_type": "code",
      "source": [
        "model_classification_2.predict(X_classification_test, verbose=None)[:5]"
      ],
      "metadata": {
        "colab": {
          "base_uri": "https://localhost:8080/"
        },
        "id": "wHFXGRTF_iHA",
        "outputId": "56d06edb-e2e0-4094-9197-6db8969cca73"
      },
      "execution_count": null,
      "outputs": [
        {
          "output_type": "execute_result",
          "data": {
            "text/plain": [
              "array([[8.99818242e-01, 1.00181855e-01],\n",
              "       [8.80273044e-01, 1.19726941e-01],\n",
              "       [8.33683610e-01, 1.66316420e-01],\n",
              "       [9.96406555e-01, 3.59348673e-03],\n",
              "       [9.99994338e-01, 5.65197524e-06]], dtype=float32)"
            ]
          },
          "metadata": {},
          "execution_count": 97
        }
      ]
    },
    {
      "cell_type": "markdown",
      "source": [
        "Каждое предсказание - это два числа (потому что два нейрона). Сумма значений равна 1. Каждое значение можно интерпретировать как вероятность отнесения объекта к соответствующему классу (0 или 1). Воспользуемся функцией argmax для того, чтобы получить итоговые предсказания."
      ],
      "metadata": {
        "id": "lA_f0lTc_j9o"
      }
    },
    {
      "cell_type": "code",
      "source": [
        "# получим индексы максимального значения для каждого элемента (вложенный массив) с помощью numpy\n",
        "y_pred = [np.argmax(pred) for pred in model_classification_2.predict(X_classification_test, verbose=None)]"
      ],
      "metadata": {
        "id": "BQs4TNRO_3WJ"
      },
      "execution_count": null,
      "outputs": []
    },
    {
      "cell_type": "code",
      "source": [
        "print(classification_report(y_classification_test, y_pred))\n",
        "print(confusion_matrix(y_classification_test, y_pred))"
      ],
      "metadata": {
        "colab": {
          "base_uri": "https://localhost:8080/"
        },
        "id": "LoJUf5WO_8kX",
        "outputId": "28e03b10-11c9-4faf-ee7c-13844886554d"
      },
      "execution_count": null,
      "outputs": [
        {
          "output_type": "stream",
          "name": "stdout",
          "text": [
            "              precision    recall  f1-score   support\n",
            "\n",
            "           0       0.96      0.91      0.94      1701\n",
            "           1       0.64      0.80      0.71       325\n",
            "\n",
            "    accuracy                           0.90      2026\n",
            "   macro avg       0.80      0.86      0.82      2026\n",
            "weighted avg       0.91      0.90      0.90      2026\n",
            "\n",
            "[[1556  145]\n",
            " [  65  260]]\n"
          ]
        }
      ]
    },
    {
      "cell_type": "markdown",
      "source": [
        "Теперь мы умеем решать задачи обучения с учителем (для структурированных данных) с использованием глубоких нейронных сетей. Еще раз подчеркну, что несмотря на универсальность нейронных сетей, они не всегда превосходят по качеству более простые модели машинного обучения."
      ],
      "metadata": {
        "id": "QN2--WqVADXp"
      }
    },
    {
      "cell_type": "markdown",
      "source": [
        "## Сохранение моделей на диск"
      ],
      "metadata": {
        "id": "mDGedn4jrBIh"
      }
    },
    {
      "cell_type": "markdown",
      "source": [
        "Выполнив обучение мы можем сохранить веса нейронных сетей на диск. После этого, когда нам понадобится модель для получения предсказаний, мы не будем заново производить обучение, а просто загрузим ее."
      ],
      "metadata": {
        "id": "pa4V6VpUrErZ"
      }
    },
    {
      "cell_type": "markdown",
      "source": [
        "Также это полезно в случае, когда обучить модель за один раз не получается - можно выполнить обучение в течение 2 часов, сохранить модель. На следующий день загрузить ее и продолжить обучение."
      ],
      "metadata": {
        "id": "u1yRWi_-rS4w"
      }
    },
    {
      "cell_type": "code",
      "source": [
        "# сохраним модели (я создал в корне диска папку models)\n",
        "model_regression.save('/content/drive/MyDrive/models/RegressionModel')\n",
        "model_classification_1.save('/content/drive/MyDrive/models/ClassificationModel1')\n",
        "model_classification_2.save('/content/drive/MyDrive/models/ClassificationModel2')"
      ],
      "metadata": {
        "id": "0tg0FhBOuPnN",
        "colab": {
          "base_uri": "https://localhost:8080/"
        },
        "outputId": "9213afd7-29fc-4eca-af66-f384f0231b60"
      },
      "execution_count": null,
      "outputs": [
        {
          "output_type": "stream",
          "name": "stderr",
          "text": [
            "WARNING:absl:Found untraced functions such as _update_step_xla while saving (showing 1 of 1). These functions will not be directly callable after loading.\n",
            "WARNING:absl:Found untraced functions such as _update_step_xla while saving (showing 1 of 1). These functions will not be directly callable after loading.\n",
            "WARNING:absl:Found untraced functions such as _update_step_xla while saving (showing 1 of 1). These functions will not be directly callable after loading.\n"
          ]
        }
      ]
    },
    {
      "cell_type": "markdown",
      "source": [
        "Модели сохранены в виде папки. Теперь, когда они нам потребуются, можем очень просто их загрузить. Загрузим, например, модель для регрессии."
      ],
      "metadata": {
        "id": "h4i4RA1KvA6M"
      }
    },
    {
      "cell_type": "code",
      "source": [
        "model_regression_restored = tf.keras.models.load_model('/content/drive/MyDrive/models/RegressionModel')\n",
        "model_regression_restored.summary()"
      ],
      "metadata": {
        "colab": {
          "base_uri": "https://localhost:8080/"
        },
        "id": "C6Sn-ZYSvJyj",
        "outputId": "9d658d03-7c2b-4d19-db43-5cbf1699eb27"
      },
      "execution_count": null,
      "outputs": [
        {
          "output_type": "stream",
          "name": "stdout",
          "text": [
            "Model: \"sequential_11\"\n",
            "_________________________________________________________________\n",
            " Layer (type)                Output Shape              Param #   \n",
            "=================================================================\n",
            " dense_62 (Dense)            (None, 64)                2624      \n",
            "                                                                 \n",
            " dense_63 (Dense)            (None, 128)               8320      \n",
            "                                                                 \n",
            " dropout_18 (Dropout)        (None, 128)               0         \n",
            "                                                                 \n",
            " dense_64 (Dense)            (None, 256)               33024     \n",
            "                                                                 \n",
            " dropout_19 (Dropout)        (None, 256)               0         \n",
            "                                                                 \n",
            " dense_65 (Dense)            (None, 128)               32896     \n",
            "                                                                 \n",
            " dropout_20 (Dropout)        (None, 128)               0         \n",
            "                                                                 \n",
            " dense_66 (Dense)            (None, 64)                8256      \n",
            "                                                                 \n",
            " dense_67 (Dense)            (None, 32)                2080      \n",
            "                                                                 \n",
            " dense_68 (Dense)            (None, 1)                 33        \n",
            "                                                                 \n",
            "=================================================================\n",
            "Total params: 87,233\n",
            "Trainable params: 87,233\n",
            "Non-trainable params: 0\n",
            "_________________________________________________________________\n"
          ]
        }
      ]
    },
    {
      "cell_type": "code",
      "source": [
        "# используем модель\n",
        "print(mean_absolute_error(y_regression_test, model_regression_restored.predict(X_regression_test, verbose=None)))\n",
        "print(mean_squared_error(y_regression_test, model_regression_restored.predict(X_regression_test, verbose=None)))"
      ],
      "metadata": {
        "colab": {
          "base_uri": "https://localhost:8080/"
        },
        "id": "DMi1pK6UvV87",
        "outputId": "c189cb30-fdf7-40e4-cd77-d1c112c64c60"
      },
      "execution_count": null,
      "outputs": [
        {
          "output_type": "stream",
          "name": "stdout",
          "text": [
            "41050.87648099555\n",
            "2398546142.748909\n"
          ]
        }
      ]
    },
    {
      "cell_type": "markdown",
      "source": [
        "## Задание"
      ],
      "metadata": {
        "id": "8sutBZKCAvIQ"
      }
    },
    {
      "cell_type": "markdown",
      "source": [
        "Ноутбук с заданием: https://colab.research.google.com/drive/1x4og6moQ4__bV6kF-SOmOOA4AYBUaB8i?usp=sharing"
      ],
      "metadata": {
        "id": "x3Pe2qilnhFD"
      }
    }
  ]
}